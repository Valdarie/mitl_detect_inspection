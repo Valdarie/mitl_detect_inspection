{
 "cells": [
  {
   "cell_type": "code",
   "execution_count": 1,
   "metadata": {},
   "outputs": [],
   "source": [
    "import torch\n",
    "from torch.utils.data import Dataset\n",
    "from torchvision import transforms\n",
    "from PIL import Image\n",
    "import os\n",
    "import numpy as np\n",
    "\n",
    "python_executable = os.path.join(\".venv\", \"Scripts\", \"python.exe\")"
   ]
  },
  {
   "cell_type": "code",
   "execution_count": null,
   "metadata": {},
   "outputs": [],
   "source": []
  },
  {
   "cell_type": "code",
   "execution_count": null,
   "metadata": {},
   "outputs": [],
   "source": [
    "from torchvision import transforms\n",
    "from torch.utils.data import DataLoader\n",
    "\n",
    "# Paths to each subset\n",
    "target_dir = '/content/drive/MyDrive/RescueNet_dataset/RescueNet'\n",
    "\n",
    "train_image_dir = os.path.join(target_dir, 'train/train-org-img')\n",
    "train_mask_dir = os.path.join(target_dir, 'train/train-label-img')\n",
    "\n",
    "val_image_dir = os.path.join(target_dir, 'val/val-org-img')\n",
    "val_mask_dir = os.path.join(target_dir, 'val/val-label-img')\n",
    "\n",
    "test_image_dir = os.path.join(target_dir, 'test/test-org-img')\n",
    "test_mask_dir = os.path.join(target_dir, 'test/test-label-img')\n",
    "\n",
    "grayscale = False\n",
    "tile_size = (540, 540)\n",
    "batch_size = 8\n",
    "overlap = 51  # 10% overlap for 512 x 512 tiles\n",
    "target_size = (3840, 2160)  # Resize images to 3840 x 2160\n",
    "\n",
    "# Example transformations for image tiles\n",
    "transform = transforms.Compose([\n",
    "    transforms.ToTensor(),\n",
    "    transforms.Normalize(mean=[0.5], std=[0.5]) if grayscale else transforms.Normalize(mean=[0.485, 0.456, 0.406], std=[0.229, 0.224, 0.225]),\n",
    "])\n",
    "\n",
    "# Instantiate the dataset\n",
    "train_dataset = TiledSegmentationDataset(\n",
    "    image_dir=train_image_dir,\n",
    "    mask_dir=train_mask_dir,\n",
    "    transform=transform,\n",
    "    tile_size=tile_size,\n",
    "    overlap=overlap,\n",
    "    grayscale=grayscale,\n",
    "    target_size=target_size\n",
    ")\n",
    "\n",
    "val_dataset = TiledSegmentationDataset(\n",
    "    image_dir=val_image_dir,\n",
    "    mask_dir=val_mask_dir,\n",
    "    transform=transform,\n",
    "    tile_size=tile_size,\n",
    "    overlap=overlap,\n",
    "    grayscale=grayscale,\n",
    "    target_size=target_size\n",
    ")\n",
    "\n",
    "test_dataset = TiledSegmentationDataset(\n",
    "    image_dir=test_image_dir,\n",
    "    mask_dir=test_mask_dir,\n",
    "    transform=transform,\n",
    "    tile_size=tile_size,\n",
    "    overlap=overlap,\n",
    "    grayscale=grayscale,\n",
    "    target_size=target_size\n",
    ")\n",
    "\n",
    "# Wrap each dataset in a DataLoader\n",
    "train_loader = DataLoader(train_dataset, batch_size=batch_size, shuffle=True)\n",
    "val_loader = DataLoader(val_dataset, batch_size=batch_size, shuffle=False)\n",
    "test_loader = DataLoader(test_dataset, batch_size=batch_size, shuffle=False)\n"
   ]
  }
 ],
 "metadata": {
  "kernelspec": {
   "display_name": "pytorchGPU",
   "language": "python",
   "name": "python3"
  },
  "language_info": {
   "codemirror_mode": {
    "name": "ipython",
    "version": 3
   },
   "file_extension": ".py",
   "mimetype": "text/x-python",
   "name": "python",
   "nbconvert_exporter": "python",
   "pygments_lexer": "ipython3",
   "version": "3.12.4"
  }
 },
 "nbformat": 4,
 "nbformat_minor": 2
}
