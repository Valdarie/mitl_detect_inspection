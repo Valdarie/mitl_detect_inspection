{
 "cells": [
  {
   "cell_type": "markdown",
   "metadata": {},
   "source": [
    "In this example:\n",
    "\n",
    "Each defect type (e.g., line_crack, particle_material) shows up with a certain frequency in both the original and sliced data.\n",
    "If there are discrepancies between the counts in the original and sliced data, it could indicate that some classes became more or less frequent after slicing. \n",
    "E.g. if residue_stain had a count of 4 in the original data but became 0 in the sliced data, this would mean the slicing process didn’t preserve that defect type well."
   ]
  },
  {
   "cell_type": "markdown",
   "metadata": {},
   "source": [
    "<details open>\n",
    "<summary>Why Class Imbalance Matters in ML?</summary>\n",
    "<br>\n",
    "When training a model, we want it to identify all defect types, regardless of their frequency in the dataset. If some defect types are rare, the model might:\n",
    "\n",
    "- **Predict only the common defects**: It might say “crack” for every image, missing other defects.\n",
    "  \n",
    "- **Miss rare but important defects**: Some rare defects could be critical, and we want the model to catch those as well.\n",
    "</details>\n"
   ]
  },
  {
   "cell_type": "markdown",
   "metadata": {},
   "source": [
    "| Step                     | Action                                           | Goal                                                      |\n",
    "|--------------------------|--------------------------------------------------|-----------------------------------------------------------|\n",
    "| 1. Count Each Defect     | Check how many times each defect type appears.   | Identify if any defect type is much rarer than others.    |\n",
    "| 2. Apply Augmentation    | Create new variations of rare defects.           | Increase the number of examples for rare classes.         |\n",
    "| 3. Use Class Weights     | Assign higher importance to rare classes.        | Encourage the model to focus more on rare defects.        |\n",
    "| 4. Balance the Dataset   | Use sampling techniques to even class counts.    | Ensure the model sees all defect types fairly often.      |\n"
   ]
  },
  {
   "cell_type": "code",
   "execution_count": 21,
   "metadata": {},
   "outputs": [
    {
     "name": "stdout",
     "output_type": "stream",
     "text": [
      "Collecting pandas\n",
      "  Downloading pandas-2.2.3-cp311-cp311-win_amd64.whl.metadata (19 kB)\n",
      "Requirement already satisfied: numpy>=1.23.2 in e:\\github_repos\\mitl_detect_inspection\\.venv\\lib\\site-packages (from pandas) (1.26.4)\n",
      "Requirement already satisfied: python-dateutil>=2.8.2 in e:\\github_repos\\mitl_detect_inspection\\.venv\\lib\\site-packages (from pandas) (2.9.0.post0)\n",
      "Collecting pytz>=2020.1 (from pandas)\n",
      "  Downloading pytz-2024.2-py2.py3-none-any.whl.metadata (22 kB)\n",
      "Collecting tzdata>=2022.7 (from pandas)\n",
      "  Downloading tzdata-2024.2-py2.py3-none-any.whl.metadata (1.4 kB)\n",
      "Requirement already satisfied: six>=1.5 in e:\\github_repos\\mitl_detect_inspection\\.venv\\lib\\site-packages (from python-dateutil>=2.8.2->pandas) (1.16.0)\n",
      "Downloading pandas-2.2.3-cp311-cp311-win_amd64.whl (11.6 MB)\n",
      "   ---------------------------------------- 0.0/11.6 MB ? eta -:--:--\n",
      "   ---------------------------------------- 11.6/11.6 MB 66.0 MB/s eta 0:00:00\n",
      "Downloading pytz-2024.2-py2.py3-none-any.whl (508 kB)\n",
      "Downloading tzdata-2024.2-py2.py3-none-any.whl (346 kB)\n",
      "Installing collected packages: pytz, tzdata, pandas\n",
      "Successfully installed pandas-2.2.3 pytz-2024.2 tzdata-2024.2\n",
      "Note: you may need to restart the kernel to use updated packages.\n"
     ]
    }
   ],
   "source": [
    "%pip install pandas"
   ]
  },
  {
   "cell_type": "code",
   "execution_count": 27,
   "metadata": {},
   "outputs": [],
   "source": [
    "# class_imbalance_check.py\n",
    "import json\n",
    "from collections import Counter, defaultdict\n",
    "\n",
    "import os.path\n",
    "\n",
    "from PIL import Image, ImageDraw\n",
    "\n",
    "import matplotlib.pyplot as plt\n",
    "\n",
    "import pandas as pd\n",
    "\n",
    "import numpy as np"
   ]
  },
  {
   "cell_type": "code",
   "execution_count": 56,
   "metadata": {},
   "outputs": [
    {
     "name": "stdout",
     "output_type": "stream",
     "text": [
      "{'images': [{'width': 4096, 'height': 2000, 'id': 0, 'file_name': '01BE01.bmp'}], 'annotations': [{'id': 0, 'image_id': 0, 'category_id': 6, 'segmentation': [], 'bbox': [3243.732519135956, 674.1576397397976, 96.69150425145112, 116.35757291276306], 'ignore': 0, 'iscrowd': 0, 'area': 11250.788755982963}, {'id': 1, 'image_id': 0, 'category_id': 6, 'segmentation': [], 'bbox': [2752.15197481034, 1706.6478091354281, 45.88749354306201, 80.30311370035747], 'ignore': 0, 'iscrowd': 0, 'area': 3684.9086114129277}, {'id': 2, 'image_id': 0, 'category_id': 6, 'segmentation': [], 'bbox': [1529.1878991321566, 557.4169134727985, 45.887493543061424, 37.693298267514876], 'ignore': 0, 'iscrowd': 0, 'area': 1729.6509808672772}, {'id': 3, 'image_id': 0, 'category_id': 6, 'segmentation': [], 'bbox': [1567.6792100432908, 505.00420582112133, 23.630943165701463, 29.886192827210394], 'ignore': 0, 'iscrowd': 0, 'area': 706.2389241390035}, {'id': 4, 'image_id': 0, 'category_id': 6, 'segmentation': [], 'bbox': [1703.904647116157, 464.6925968913957, 20.850832205030603, 25.716026386204334], 'ignore': 0, 'iscrowd': 0, 'area': 536.200551158886}, {'id': 5, 'image_id': 0, 'category_id': 6, 'segmentation': [], 'bbox': [1499.5664915068583, 466.7776801118987, 41.701664410060914, 22.93591542553365], 'ignore': 0, 'iscrowd': 0, 'area': 956.4658480131437}, {'id': 6, 'image_id': 0, 'category_id': 6, 'segmentation': [], 'bbox': [1750.471505707392, 563.3865359952069, 24.325970905868452, 21.545859945198064], 'ignore': 0, 'iscrowd': 0, 'area': 524.1239621688045}, {'id': 7, 'image_id': 0, 'category_id': 7, 'segmentation': [], 'bbox': [377.88629130081944, 789.5673069617799, 11.193491258174477, 11.36617138723388], 'ignore': 0, 'iscrowd': 0, 'area': 127.2271400619153}, {'id': 8, 'image_id': 0, 'category_id': 7, 'segmentation': [], 'bbox': [638.694637616287, 1053.906380783759, 7.83544388072216, 19.0289351388968], 'ignore': 0, 'iscrowd': 0, 'area': 149.1001533907278}, {'id': 9, 'image_id': 0, 'category_id': 7, 'segmentation': [], 'bbox': [1990.4825019315115, 1551.9874587707861, 6.880774627659994, 8.409835656028974], 'ignore': 0, 'iscrowd': 0, 'area': 57.86618380479451}, {'id': 10, 'image_id': 0, 'category_id': 7, 'segmentation': [], 'bbox': [1884.2127604598727, 1386.08433719276, 4.5871830851069815, 6.116244113475773], 'ignore': 0, 'iscrowd': 0, 'area': 28.05633154172121}, {'id': 11, 'image_id': 0, 'category_id': 7, 'segmentation': [], 'bbox': [2955.810994813055, 1412.956877884322, 4.699661654026131, 4.177477025801011], 'ignore': 0, 'iscrowd': 0, 'area': 19.63272858873214}, {'id': 12, 'image_id': 0, 'category_id': 6, 'segmentation': [], 'bbox': [2989.9282503835107, 1206.4739146383743, 62.573854831447825, 28.307220042797923], 'ignore': 0, 'iscrowd': 0, 'area': 1771.2918776398874}, {'id': 13, 'image_id': 0, 'category_id': 6, 'segmentation': [], 'bbox': [2913.945712373896, 1166.2478651038723, 52.14487902620574, 47.67531796681723], 'ignore': 0, 'iscrowd': 0, 'area': 2486.0236879155777}, {'id': 14, 'image_id': 0, 'category_id': 6, 'segmentation': [], 'bbox': [3801.008970080318, 1681.1713110969097, 92.37092856070842, 71.51297695022578], 'ignore': 0, 'iscrowd': 0, 'area': 6605.720085032894}, {'id': 15, 'image_id': 0, 'category_id': 5, 'segmentation': [], 'bbox': [2263.0122456306294, 1918.2875138153252, 16.790236887261855, 13.432189509809405], 'ignore': 0, 'iscrowd': 0, 'area': 225.5296437842936}, {'id': 16, 'image_id': 0, 'category_id': 7, 'segmentation': [], 'bbox': [1316.5313150812622, 1700.091241049394, 6.6584687607555475, 7.835443880722149], 'ignore': 0, 'iscrowd': 0, 'area': 52.17205830644165}, {'id': 17, 'image_id': 0, 'category_id': 6, 'segmentation': [], 'bbox': [454.5239174950842, 1618.5974562654624, 38.73619584803899, 16.388390551093153], 'ignore': 0, 'iscrowd': 0, 'area': 634.823906021296}, {'id': 18, 'image_id': 0, 'category_id': 6, 'segmentation': [], 'bbox': [293.61971935707595, 1804.8291670733418, 32.776781102186796, 14.898536864628497], 'ignore': 0, 'iscrowd': 0, 'area': 488.32608155478863}, {'id': 19, 'image_id': 0, 'category_id': 6, 'segmentation': [], 'bbox': [257.86323088196343, 1667.7626279187423, 31.28692741572373, 67.04341589083668], 'ignore': 0, 'iscrowd': 0, 'area': 2097.582486678786}, {'id': 20, 'image_id': 0, 'category_id': 7, 'segmentation': [], 'bbox': [1291.2990837370128, 1980.971064861103, 12.312840383992006, 8.954793006539603], 'ignore': 0, 'iscrowd': 0, 'area': 110.25893696121001}, {'id': 21, 'image_id': 0, 'category_id': 2, 'segmentation': [], 'bbox': [1926.7167749696935, 163.88390551093397, 28.442661287021764, 41.986785709412864], 'ignore': 0, 'iscrowd': 0, 'area': 1194.215924463596}, {'id': 22, 'image_id': 0, 'category_id': 1, 'segmentation': [], 'bbox': [2272.0919477406705, 90.74563363002132, 12.18971198015206, 13.544124422391253], 'ignore': 0, 'iscrowd': 0, 'area': 165.09897573229276}, {'id': 23, 'image_id': 0, 'category_id': 1, 'segmentation': [], 'bbox': [2069.4292978641865, 416.8724861765618, 9.73038836234773, 13.205527063186011], 'ignore': 0, 'iscrowd': 0, 'area': 128.49490685429316}, {'id': 24, 'image_id': 0, 'category_id': 6, 'segmentation': [], 'bbox': [2885.7293906568984, 1054.8290515097342, 38.885401334690975, 91.91094860926867], 'ignore': 0, 'iscrowd': 0, 'area': 3573.99412372357}, {'id': 25, 'image_id': 0, 'category_id': 6, 'segmentation': [], 'bbox': [2903.489406474265, 427.2439553977827, 100.97880668623547, 34.954202314466016], 'ignore': 0, 'iscrowd': 0, 'area': 3529.6336383840285}, {'id': 26, 'image_id': 0, 'category_id': 7, 'segmentation': [], 'bbox': [3375.79867907456, 382.5586259967446, 7.187391007841797, 11.679510387743903], 'ignore': 0, 'iscrowd': 0, 'area': 83.94520793686539}, {'id': 27, 'image_id': 0, 'category_id': 7, 'segmentation': [], 'bbox': [604.4244869630038, 656.291435236341, 6.355309511720988, 11.298328020837547], 'ignore': 0, 'iscrowd': 0, 'area': 71.80437153737263}, {'id': 28, 'image_id': 0, 'category_id': 5, 'segmentation': [], 'bbox': [1667.4912658621831, 331.3210085772326, 44.29458144532866, 26.961919140634905], 'ignore': 0, 'iscrowd': 0, 'area': 1194.2669232972185}], 'categories': [{'id': 0, 'name': 'blocked_valve'}, {'id': 1, 'name': 'bubble'}, {'id': 2, 'name': 'chip_crack'}, {'id': 3, 'name': 'excessive_flash'}, {'id': 4, 'name': 'improper_welding'}, {'id': 5, 'name': 'light_stain'}, {'id': 6, 'name': 'line_crack'}, {'id': 7, 'name': 'particle_material'}, {'id': 8, 'name': 'residue_stain'}, {'id': 9, 'name': 'unknown'}, {'id': 10, 'name': 'welding_blob'}]}\n",
      "{'images': [{'height': 640, 'width': 640, 'id': 1, 'file_name': '01BE01_0_0_0_640_640.png'}, {'height': 640, 'width': 640, 'id': 2, 'file_name': '01BE01_0_512_0_1152_640.png'}, {'height': 640, 'width': 640, 'id': 3, 'file_name': '01BE01_0_1024_0_1664_640.png'}, {'height': 640, 'width': 640, 'id': 4, 'file_name': '01BE01_0_1536_0_2176_640.png'}, {'height': 640, 'width': 640, 'id': 5, 'file_name': '01BE01_0_2048_0_2688_640.png'}, {'height': 640, 'width': 640, 'id': 6, 'file_name': '01BE01_0_2560_0_3200_640.png'}, {'height': 640, 'width': 640, 'id': 7, 'file_name': '01BE01_0_3072_0_3712_640.png'}, {'height': 640, 'width': 640, 'id': 8, 'file_name': '01BE01_0_3456_0_4096_640.png'}, {'height': 640, 'width': 640, 'id': 9, 'file_name': '01BE01_0_0_512_640_1152.png'}, {'height': 640, 'width': 640, 'id': 10, 'file_name': '01BE01_0_512_512_1152_1152.png'}, {'height': 640, 'width': 640, 'id': 11, 'file_name': '01BE01_0_1024_512_1664_1152.png'}, {'height': 640, 'width': 640, 'id': 12, 'file_name': '01BE01_0_1536_512_2176_1152.png'}, {'height': 640, 'width': 640, 'id': 13, 'file_name': '01BE01_0_2048_512_2688_1152.png'}, {'height': 640, 'width': 640, 'id': 14, 'file_name': '01BE01_0_2560_512_3200_1152.png'}, {'height': 640, 'width': 640, 'id': 15, 'file_name': '01BE01_0_3072_512_3712_1152.png'}, {'height': 640, 'width': 640, 'id': 16, 'file_name': '01BE01_0_3456_512_4096_1152.png'}, {'height': 640, 'width': 640, 'id': 17, 'file_name': '01BE01_0_0_1024_640_1664.png'}, {'height': 640, 'width': 640, 'id': 18, 'file_name': '01BE01_0_512_1024_1152_1664.png'}, {'height': 640, 'width': 640, 'id': 19, 'file_name': '01BE01_0_1024_1024_1664_1664.png'}, {'height': 640, 'width': 640, 'id': 20, 'file_name': '01BE01_0_1536_1024_2176_1664.png'}, {'height': 640, 'width': 640, 'id': 21, 'file_name': '01BE01_0_2048_1024_2688_1664.png'}, {'height': 640, 'width': 640, 'id': 22, 'file_name': '01BE01_0_2560_1024_3200_1664.png'}, {'height': 640, 'width': 640, 'id': 23, 'file_name': '01BE01_0_3072_1024_3712_1664.png'}, {'height': 640, 'width': 640, 'id': 24, 'file_name': '01BE01_0_3456_1024_4096_1664.png'}, {'height': 640, 'width': 640, 'id': 25, 'file_name': '01BE01_0_0_1360_640_2000.png'}, {'height': 640, 'width': 640, 'id': 26, 'file_name': '01BE01_0_512_1360_1152_2000.png'}, {'height': 640, 'width': 640, 'id': 27, 'file_name': '01BE01_0_1024_1360_1664_2000.png'}, {'height': 640, 'width': 640, 'id': 28, 'file_name': '01BE01_0_1536_1360_2176_2000.png'}, {'height': 640, 'width': 640, 'id': 29, 'file_name': '01BE01_0_2048_1360_2688_2000.png'}, {'height': 640, 'width': 640, 'id': 30, 'file_name': '01BE01_0_2560_1360_3200_2000.png'}, {'height': 640, 'width': 640, 'id': 31, 'file_name': '01BE01_0_3072_1360_3712_2000.png'}, {'height': 640, 'width': 640, 'id': 32, 'file_name': '01BE01_0_3456_1360_4096_2000.png'}], 'annotations': [{'iscrowd': 0, 'image_id': 3, 'bbox': [505.18789913215664, 557.4169134727985, 45.88749354306151, 37.69329826751493], 'segmentation': [[505, 557, 505, 595, 551, 595, 551, 557]], 'category_id': 6, 'id': 1, 'area': 1729}, {'iscrowd': 0, 'image_id': 3, 'bbox': [543.6792100432908, 505.00420582112133, 23.63094316570141, 29.88619282721038], 'segmentation': [[543, 505, 543, 534, 567, 534, 567, 505]], 'category_id': 6, 'id': 2, 'area': 706}, {'iscrowd': 0, 'image_id': 3, 'bbox': [475.56649150685826, 466.7776801118987, 41.70166441006086, 22.935915425533665], 'segmentation': [[475, 466, 475, 489, 517, 489, 517, 466]], 'category_id': 6, 'id': 3, 'area': 956}, {'iscrowd': 0, 'image_id': 4, 'bbox': [0.0, 557.4169134727985, 39.075392675218154, 37.69329826751493], 'segmentation': [[39, 595, 39, 557, 0, 557, 0, 595]], 'category_id': 6, 'id': 4, 'area': 1472}, {'iscrowd': 0, 'image_id': 4, 'bbox': [31.679210043290823, 505.00420582112133, 23.63094316570141, 29.88619282721038], 'segmentation': [[31, 505, 31, 534, 55, 534, 55, 505]], 'category_id': 6, 'id': 5, 'area': 706}, {'iscrowd': 0, 'image_id': 4, 'bbox': [167.9046471161571, 464.6925968913957, 20.850832205030656, 25.716026386204305], 'segmentation': [[167, 464, 167, 490, 188, 490, 188, 464]], 'category_id': 6, 'id': 6, 'area': 536}, {'iscrowd': 0, 'image_id': 4, 'bbox': [0.0, 466.7776801118987, 5.268155916919113, 22.935915425533665], 'segmentation': [[5, 489, 5, 466, 0, 466, 0, 489]], 'category_id': 6, 'id': 7, 'area': 120}, {'iscrowd': 0, 'image_id': 4, 'bbox': [214.471505707392, 563.3865359952069, 24.325970905868417, 21.545859945198117], 'segmentation': [[214, 563, 214, 584, 238, 584, 238, 563]], 'category_id': 6, 'id': 8, 'area': 524}, {'iscrowd': 0, 'image_id': 4, 'bbox': [390.71677496969346, 163.88390551093397, 28.442661287021792, 41.98678570941286], 'segmentation': [[390, 163, 390, 205, 419, 205, 419, 163]], 'category_id': 2, 'id': 9, 'area': 1194}, {'iscrowd': 0, 'image_id': 4, 'bbox': [533.4292978641865, 416.8724861765618, 9.73038836234764, 13.205527063186025], 'segmentation': [[533, 416, 533, 430, 543, 430, 543, 416]], 'category_id': 1, 'id': 10, 'area': 128}, {'iscrowd': 0, 'image_id': 4, 'bbox': [131.49126586218313, 331.3210085772326, 44.29458144532873, 26.961919140634905], 'segmentation': [[131, 331, 131, 358, 175, 358, 175, 331]], 'category_id': 5, 'id': 11, 'area': 1194}, {'iscrowd': 0, 'image_id': 5, 'bbox': [224.09194774067055, 90.74563363002132, 12.18971198015197, 13.54412442239125], 'segmentation': [[224, 90, 224, 104, 236, 104, 236, 90]], 'category_id': 1, 'id': 12, 'area': 165}, {'iscrowd': 0, 'image_id': 5, 'bbox': [21.429297864186537, 416.8724861765618, 9.73038836234764, 13.205527063186025], 'segmentation': [[21, 416, 21, 430, 31, 430, 31, 416]], 'category_id': 1, 'id': 13, 'area': 128}, {'iscrowd': 0, 'image_id': 6, 'bbox': [343.4894064742648, 427.2439553977827, 100.97880668623566, 34.954202314466045], 'segmentation': [[343, 427, 343, 462, 444, 462, 444, 427]], 'category_id': 6, 'id': 14, 'area': 3529}, {'iscrowd': 0, 'image_id': 7, 'bbox': [303.7986790745599, 382.5586259967446, 7.1873910078415975, 11.679510387743903], 'segmentation': [[303, 382, 303, 394, 310, 394, 310, 382]], 'category_id': 7, 'id': 15, 'area': 83}, {'iscrowd': 0, 'image_id': 9, 'bbox': [377.88629130081944, 277.5673069617799, 11.193491258174504, 11.366171387233862], 'segmentation': [[377, 277, 377, 288, 389, 288, 389, 277]], 'category_id': 7, 'id': 16, 'area': 127}, {'iscrowd': 0, 'image_id': 9, 'bbox': [638.694637616287, 541.906380783759, 1.3053623837130317, 19.028935138896713], 'segmentation': [[638, 541, 638, 560, 640, 560, 640, 541]], 'category_id': 7, 'id': 17, 'area': 24}, {'iscrowd': 0, 'image_id': 9, 'bbox': [604.4244869630038, 144.29143523634104, 6.355309511720975, 11.298328020837516], 'segmentation': [[604, 144, 604, 155, 610, 155, 610, 144]], 'category_id': 7, 'id': 18, 'area': 71}, {'iscrowd': 0, 'image_id': 10, 'bbox': [126.69463761628697, 541.906380783759, 7.8354438807222095, 19.028935138896713], 'segmentation': [[126, 541, 126, 560, 134, 560, 134, 541]], 'category_id': 7, 'id': 19, 'area': 149}, {'iscrowd': 0, 'image_id': 10, 'bbox': [92.4244869630038, 144.29143523634104, 6.355309511720975, 11.298328020837516], 'segmentation': [[92, 144, 92, 155, 98, 155, 98, 144]], 'category_id': 7, 'id': 20, 'area': 71}, {'iscrowd': 0, 'image_id': 11, 'bbox': [505.18789913215664, 45.416913472798456, 45.88749354306151, 37.69329826751493], 'segmentation': [[505, 45, 505, 83, 551, 83, 551, 45]], 'category_id': 6, 'id': 21, 'area': 1729}, {'iscrowd': 0, 'image_id': 11, 'bbox': [543.6792100432908, 0.0, 23.63094316570141, 22.89039864833171], 'segmentation': [[543, 22, 567, 22, 567, 0, 543, 0]], 'category_id': 6, 'id': 22, 'area': 540}, {'iscrowd': 0, 'image_id': 12, 'bbox': [0.0, 45.416913472798456, 39.075392675218154, 37.69329826751493], 'segmentation': [[39, 83, 39, 45, 0, 45, 0, 83]], 'category_id': 6, 'id': 23, 'area': 1472}, {'iscrowd': 0, 'image_id': 12, 'bbox': [31.679210043290823, 0.0, 23.63094316570141, 22.89039864833171], 'segmentation': [[31, 22, 55, 22, 55, 0, 31, 0]], 'category_id': 6, 'id': 24, 'area': 540}, {'iscrowd': 0, 'image_id': 12, 'bbox': [214.471505707392, 51.38653599520694, 24.325970905868417, 21.545859945198117], 'segmentation': [[214, 51, 214, 72, 238, 72, 238, 51]], 'category_id': 6, 'id': 25, 'area': 524}, {'iscrowd': 0, 'image_id': 14, 'bbox': [325.72939065689843, 542.8290515097342, 38.88540133469087, 91.91094860926864], 'segmentation': [[325, 542, 325, 634, 364, 634, 364, 542]], 'category_id': 6, 'id': 26, 'area': 3573}, {'iscrowd': 0, 'image_id': 15, 'bbox': [171.73251913595595, 162.15763973979756, 96.69150425145108, 116.35757291276309], 'segmentation': [[171, 162, 171, 278, 268, 278, 268, 162]], 'category_id': 6, 'id': 27, 'area': 11250}, {'iscrowd': 0, 'image_id': 17, 'bbox': [638.694637616287, 29.906380783759005, 1.3053623837130317, 19.028935138896713], 'segmentation': [[638, 29, 638, 48, 640, 48, 640, 29]], 'category_id': 7, 'id': 28, 'area': 24}, {'iscrowd': 0, 'image_id': 17, 'bbox': [454.5239174950842, 594.5974562654624, 38.73619584803896, 16.388390551093153], 'segmentation': [[454, 594, 454, 610, 493, 610, 493, 594]], 'category_id': 6, 'id': 29, 'area': 634}, {'iscrowd': 0, 'image_id': 18, 'bbox': [126.69463761628697, 29.906380783759005, 7.8354438807222095, 19.028935138896713], 'segmentation': [[126, 29, 126, 48, 134, 48, 134, 29]], 'category_id': 7, 'id': 30, 'area': 149}, {'iscrowd': 0, 'image_id': 20, 'bbox': [454.4825019315115, 527.9874587707861, 6.880774627660003, 8.409835656028918], 'segmentation': [[454, 527, 454, 536, 461, 536, 461, 527]], 'category_id': 7, 'id': 31, 'area': 57}, {'iscrowd': 0, 'image_id': 20, 'bbox': [348.2127604598727, 362.0843371927599, 4.587183085106972, 6.116244113475659], 'segmentation': [[348, 362, 348, 368, 352, 368, 352, 362]], 'category_id': 7, 'id': 32, 'area': 28}, {'iscrowd': 0, 'image_id': 22, 'bbox': [395.810994813055, 388.956877884322, 4.699661654025931, 4.177477025800954], 'segmentation': [[395, 388, 395, 393, 400, 393, 400, 388]], 'category_id': 7, 'id': 33, 'area': 19}, {'iscrowd': 0, 'image_id': 22, 'bbox': [429.92825038351066, 182.47391463837425, 62.57385483144799, 28.307220042798008], 'segmentation': [[429, 182, 429, 210, 492, 210, 492, 182]], 'category_id': 6, 'id': 34, 'area': 1771}, {'iscrowd': 0, 'image_id': 22, 'bbox': [353.9457123738962, 142.2478651038723, 52.14487902620567, 47.67531796681715], 'segmentation': [[353, 142, 353, 189, 406, 189, 406, 142]], 'category_id': 6, 'id': 35, 'area': 2486}, {'iscrowd': 0, 'image_id': 22, 'bbox': [325.72939065689843, 30.8290515097342, 38.88540133469087, 91.91094860926864], 'segmentation': [[325, 30, 325, 122, 364, 122, 364, 30]], 'category_id': 6, 'id': 36, 'area': 3573}, {'iscrowd': 0, 'image_id': 25, 'bbox': [454.5239174950842, 258.59745626546237, 38.73619584803896, 16.388390551093153], 'segmentation': [[454, 258, 454, 274, 493, 274, 493, 258]], 'category_id': 6, 'id': 37, 'area': 634}, {'iscrowd': 0, 'image_id': 25, 'bbox': [293.61971935707595, 444.82916707334175, 32.77678110218682, 14.898536864628568], 'segmentation': [[293, 444, 293, 459, 326, 459, 326, 444]], 'category_id': 6, 'id': 38, 'area': 488}, {'iscrowd': 0, 'image_id': 25, 'bbox': [257.86323088196343, 307.7626279187423, 31.28692741572371, 67.04341589083674], 'segmentation': [[257, 307, 257, 374, 289, 374, 289, 307]], 'category_id': 6, 'id': 39, 'area': 2097}, {'iscrowd': 0, 'image_id': 27, 'bbox': [292.53131508126216, 340.09124104939406, 6.658468760755568, 7.835443880722096], 'segmentation': [[292, 340, 292, 347, 299, 347, 299, 340]], 'category_id': 7, 'id': 40, 'area': 52}, {'iscrowd': 0, 'image_id': 27, 'bbox': [267.2990837370128, 620.9710648611031, 12.312840383991897, 8.954793006539603], 'segmentation': [[267, 620, 267, 629, 279, 629, 279, 620]], 'category_id': 7, 'id': 41, 'area': 110}, {'iscrowd': 0, 'image_id': 28, 'bbox': [454.4825019315115, 191.98745877078613, 6.880774627660003, 8.409835656028918], 'segmentation': [[454, 191, 454, 200, 461, 200, 461, 191]], 'category_id': 7, 'id': 42, 'area': 57}, {'iscrowd': 0, 'image_id': 28, 'bbox': [348.2127604598727, 26.084337192759904, 4.587183085106972, 6.116244113475659], 'segmentation': [[348, 26, 348, 32, 352, 32, 352, 26]], 'category_id': 7, 'id': 43, 'area': 28}, {'iscrowd': 0, 'image_id': 29, 'bbox': [215.01224563062942, 558.2875138153252, 16.790236887261926, 13.432189509809405], 'segmentation': [[215, 558, 215, 571, 231, 571, 231, 558]], 'category_id': 5, 'id': 44, 'area': 225}, {'iscrowd': 0, 'image_id': 30, 'bbox': [192.1519748103401, 346.64780913542813, 45.88749354306219, 80.30311370035747], 'segmentation': [[192, 346, 192, 426, 238, 426, 238, 346]], 'category_id': 6, 'id': 45, 'area': 3684}, {'iscrowd': 0, 'image_id': 30, 'bbox': [395.810994813055, 52.95687788432201, 4.699661654025931, 4.177477025800954], 'segmentation': [[395, 52, 395, 57, 400, 57, 400, 52]], 'category_id': 7, 'id': 46, 'area': 19}, {'iscrowd': 0, 'image_id': 32, 'bbox': [345.0089700803178, 321.1713110969097, 92.37092856070831, 71.51297695022572], 'segmentation': [[345, 321, 345, 392, 437, 392, 437, 321]], 'category_id': 6, 'id': 47, 'area': 6605}], 'categories': [{'id': 0, 'name': 'blocked_valve'}, {'id': 1, 'name': 'bubble'}, {'id': 2, 'name': 'chip_crack'}, {'id': 3, 'name': 'excessive_flash'}, {'id': 4, 'name': 'improper_welding'}, {'id': 5, 'name': 'light_stain'}, {'id': 6, 'name': 'line_crack'}, {'id': 7, 'name': 'particle_material'}, {'id': 8, 'name': 'residue_stain'}, {'id': 9, 'name': 'unknown'}, {'id': 10, 'name': 'welding_blob'}]}\n"
     ]
    }
   ],
   "source": [
    "coco_file_name = 'coco' # Change file name of original coco json file\n",
    "\n",
    "# Load the original and sliced annotation files\n",
    "with open(f\"../data/coco_json_files/{coco_file_name}.json\") as f:  # . in script, .. in notebook\n",
    "    original_annotations = json.load(f)\n",
    "\n",
    "with open(f\"../data/coco_json_files/{coco_file_name}_sliced_coco.json\") as f:  # . in script, .. in notebook\n",
    "    sliced_annotations = json.load(f)\n",
    "\n",
    "print(original_annotations)\n",
    "print(sliced_annotations)"
   ]
  },
  {
   "cell_type": "markdown",
   "metadata": {},
   "source": [
    "# Count Checker"
   ]
  },
  {
   "cell_type": "code",
   "execution_count": 10,
   "metadata": {},
   "outputs": [],
   "source": [
    "# Function to calculate class imbalance from annotations\n",
    "def calculate_class_counts(annotations):\n",
    "    defect_labels = [ann['category_id'] for ann in annotations['annotations']]\n",
    "    return Counter(defect_labels)"
   ]
  },
  {
   "cell_type": "code",
   "execution_count": null,
   "metadata": {},
   "outputs": [
    {
     "name": "stdout",
     "output_type": "stream",
     "text": [
      "Original counts Counter({6: 15, 7: 9, 5: 2, 1: 2, 2: 1})\n",
      "Sliced counts Counter({6: 25, 7: 16, 1: 3, 5: 2, 2: 1})\n",
      "Category Mapping:  {0: 'blocked_valve', 1: 'bubble', 2: 'chip_crack', 3: 'excessive_flash', 4: 'improper_welding', 5: 'light_stain', 6: 'line_crack', 7: 'particle_material', 8: 'residue_stain', 9: 'unknown', 10: 'welding_blob'}\n"
     ]
    }
   ],
   "source": [
    "\n",
    "# Get class counts for original and sliced annotations\n",
    "original_counts = calculate_class_counts(original_annotations)\n",
    "sliced_counts = calculate_class_counts(sliced_annotations)\n",
    "\n",
    "print(\"Original counts: \",original_counts)\n",
    "print(\"Sliced counts: \", sliced_counts)\n",
    "\n",
    "# Map category IDs to names for better readability\n",
    "category_mapping = {cat['id']: cat['name'] for cat in original_annotations['categories']}\n",
    "print(\"Category Mapping: \",category_mapping)\n"
   ]
  },
  {
   "cell_type": "code",
   "execution_count": 18,
   "metadata": {},
   "outputs": [
    {
     "name": "stdout",
     "output_type": "stream",
     "text": [
      "Class Imbalance in Original Annotations:\n",
      "line_crack: 15\n",
      "particle_material: 9\n",
      "light_stain: 2\n",
      "chip_crack: 1\n",
      "bubble: 2\n",
      "\n",
      "Class Imbalance in Sliced Annotations:\n",
      "line_crack: 25\n",
      "chip_crack: 1\n",
      "bubble: 3\n",
      "light_stain: 2\n",
      "particle_material: 16\n"
     ]
    }
   ],
   "source": [
    "print(\"Class Imbalance in Original Annotations:\")\n",
    "for cat_id, count in original_counts.items():\n",
    "    print(f\"{category_mapping[cat_id]}: {count}\")\n",
    "\n",
    "print(\"\\nClass Imbalance in Sliced Annotations:\")\n",
    "for cat_id, count in sliced_counts.items():\n",
    "    print(f\"{category_mapping[cat_id]}: {count}\")"
   ]
  },
  {
   "cell_type": "code",
   "execution_count": 57,
   "metadata": {},
   "outputs": [
    {
     "name": "stdout",
     "output_type": "stream",
     "text": [
      "Class Imbalance Comparison\n",
      "      Defect Type  Original Count  Sliced Count\n",
      "       line_crack              15            25\n",
      "particle_material               9            16\n",
      "      light_stain               2             2\n",
      "       chip_crack               1             1\n",
      "           bubble               2             3\n"
     ]
    }
   ],
   "source": [
    "# Convert counts into DataFrame format\n",
    "data = {\n",
    "    \"Defect Type\": [category_mapping[cat_id] for cat_id in original_counts.keys()],\n",
    "    \"Original Count\": [original_counts[cat_id] for cat_id in original_counts.keys()],\n",
    "    \"Sliced Count\": [sliced_counts.get(cat_id, 0) for cat_id in original_counts.keys()]\n",
    "}\n",
    "\n",
    "df = pd.DataFrame(data)\n",
    "\n",
    "print(\"Class Imbalance Comparison\")\n",
    "print(df.to_string(index=False))\n"
   ]
  },
  {
   "cell_type": "markdown",
   "metadata": {},
   "source": [
    "#### Interpretation\n",
    "\n",
    "- **Class Imbalance Remains**: In both the original and sliced datasets, certain defects, like `line_crack` and `particle_material`, are **more** **common** than others, like `chip_crack` and `light_stain`.\n",
    "\n",
    "- **Increased Counts After Slicing**: For most classes (except `light_stain` and `chip_crack`), slicing increased the counts, which is good for adding examples. However, rare defects like `chip_crack` still have only 1 instance."
   ]
  },
  {
   "cell_type": "markdown",
   "metadata": {},
   "source": [
    "## Bounding Box Size Checker"
   ]
  },
  {
   "cell_type": "code",
   "execution_count": 58,
   "metadata": {},
   "outputs": [
    {
     "name": "stdout",
     "output_type": "stream",
     "text": [
      "Small Threshold:  152.9398707527034\n",
      "Medium Threshold:  1194.2404039037347\n",
      "All Areas:  [11250.788755982963, 3684.9086114129277, 1729.6509808672772, 706.2389241390035, 536.200551158886, 956.4658480131437, 524.1239621688045, 127.2271400619153, 149.1001533907278, 57.86618380479451, 28.05633154172121, 19.63272858873214, 1771.2918776398874, 2486.0236879155777, 6605.720085032894, 225.5296437842936, 52.17205830644165, 634.823906021296, 488.32608155478863, 2097.582486678786, 110.25893696121001, 1194.215924463596, 165.09897573229276, 128.49490685429316, 3573.99412372357, 3529.6336383840285, 83.94520793686539, 71.80437153737263, 1194.2669232972185]\n"
     ]
    }
   ],
   "source": [
    "# Function to calculate bounding box area\n",
    "def calculate_area(bbox):\n",
    "    return bbox[2] * bbox[3]  # width * height\n",
    "\n",
    "# Collect all bounding box areas from the original dataset\n",
    "all_areas = [calculate_area(ann['bbox']) for ann in original_annotations['annotations']]\n",
    "\n",
    "# Calculate dynamic thresholds based on percentiles\n",
    "small_threshold = np.percentile(all_areas, 33)\n",
    "medium_threshold = np.percentile(all_areas, 66)\n",
    "\n",
    "print(\"Small Threshold: \", small_threshold)\n",
    "print(\"Medium Threshold: \", medium_threshold)\n",
    "print(\"All Areas: \", all_areas)"
   ]
  },
  {
   "cell_type": "markdown",
   "metadata": {},
   "source": [
    "### Functions\n",
    "\n",
    "Benefits of Dynamic Thresholds\n",
    "1. **Adaptability**: Since the thresholds are derived from the dataset, they better represent the natural distribution of bounding box sizes.\n",
    "2. **Scalability**: This approach automatically adjusts if the dataset grows or changes in defect types and bounding box sizes."
   ]
  },
  {
   "cell_type": "code",
   "execution_count": 59,
   "metadata": {},
   "outputs": [],
   "source": [
    "# Categorising dynamic threshold\n",
    "def categorize_by_dynamic_size(area, small_threshold, medium_threshold):\n",
    "    if area > medium_threshold:\n",
    "        return \"Large\"\n",
    "    elif area > small_threshold:\n",
    "        return \"Medium\"\n",
    "    else:\n",
    "        return \"Small\""
   ]
  },
  {
   "cell_type": "code",
   "execution_count": 60,
   "metadata": {},
   "outputs": [],
   "source": [
    "# Prepare data for bounding box size analysis with dynamic thresholds\n",
    "def create_bbox_size_data(annotations, category_mapping, small_threshold, medium_threshold):\n",
    "    bbox_data = []\n",
    "    for ann in annotations['annotations']:\n",
    "        defect_type = category_mapping[ann['category_id']]\n",
    "        area = calculate_area(ann['bbox'])\n",
    "        size_category = categorize_by_dynamic_size(area, small_threshold, medium_threshold)\n",
    "        bbox_data.append({\n",
    "            \"Defect Type\": defect_type,\n",
    "            \"Bounding Box Area\": area,\n",
    "            \"Size Category\": size_category\n",
    "        })\n",
    "    return bbox_data"
   ]
  },
  {
   "cell_type": "code",
   "execution_count": 61,
   "metadata": {},
   "outputs": [
    {
     "name": "stdout",
     "output_type": "stream",
     "text": [
      "Original bounding box:  [{'Defect Type': 'line_crack', 'Bounding Box Area': 11250.788755982963, 'Size Category': 'Large'}, {'Defect Type': 'line_crack', 'Bounding Box Area': 3684.9086114129277, 'Size Category': 'Large'}, {'Defect Type': 'line_crack', 'Bounding Box Area': 1729.6509808672772, 'Size Category': 'Large'}, {'Defect Type': 'line_crack', 'Bounding Box Area': 706.2389241390035, 'Size Category': 'Medium'}, {'Defect Type': 'line_crack', 'Bounding Box Area': 536.200551158886, 'Size Category': 'Medium'}, {'Defect Type': 'line_crack', 'Bounding Box Area': 956.4658480131437, 'Size Category': 'Medium'}, {'Defect Type': 'line_crack', 'Bounding Box Area': 524.1239621688045, 'Size Category': 'Medium'}, {'Defect Type': 'particle_material', 'Bounding Box Area': 127.2271400619153, 'Size Category': 'Small'}, {'Defect Type': 'particle_material', 'Bounding Box Area': 149.1001533907278, 'Size Category': 'Small'}, {'Defect Type': 'particle_material', 'Bounding Box Area': 57.86618380479451, 'Size Category': 'Small'}, {'Defect Type': 'particle_material', 'Bounding Box Area': 28.05633154172121, 'Size Category': 'Small'}, {'Defect Type': 'particle_material', 'Bounding Box Area': 19.63272858873214, 'Size Category': 'Small'}, {'Defect Type': 'line_crack', 'Bounding Box Area': 1771.2918776398874, 'Size Category': 'Large'}, {'Defect Type': 'line_crack', 'Bounding Box Area': 2486.0236879155777, 'Size Category': 'Large'}, {'Defect Type': 'line_crack', 'Bounding Box Area': 6605.720085032894, 'Size Category': 'Large'}, {'Defect Type': 'light_stain', 'Bounding Box Area': 225.5296437842936, 'Size Category': 'Medium'}, {'Defect Type': 'particle_material', 'Bounding Box Area': 52.17205830644165, 'Size Category': 'Small'}, {'Defect Type': 'line_crack', 'Bounding Box Area': 634.823906021296, 'Size Category': 'Medium'}, {'Defect Type': 'line_crack', 'Bounding Box Area': 488.32608155478863, 'Size Category': 'Medium'}, {'Defect Type': 'line_crack', 'Bounding Box Area': 2097.582486678786, 'Size Category': 'Large'}, {'Defect Type': 'particle_material', 'Bounding Box Area': 110.25893696121001, 'Size Category': 'Small'}, {'Defect Type': 'chip_crack', 'Bounding Box Area': 1194.215924463596, 'Size Category': 'Medium'}, {'Defect Type': 'bubble', 'Bounding Box Area': 165.09897573229276, 'Size Category': 'Medium'}, {'Defect Type': 'bubble', 'Bounding Box Area': 128.49490685429316, 'Size Category': 'Small'}, {'Defect Type': 'line_crack', 'Bounding Box Area': 3573.99412372357, 'Size Category': 'Large'}, {'Defect Type': 'line_crack', 'Bounding Box Area': 3529.6336383840285, 'Size Category': 'Large'}, {'Defect Type': 'particle_material', 'Bounding Box Area': 83.94520793686539, 'Size Category': 'Small'}, {'Defect Type': 'particle_material', 'Bounding Box Area': 71.80437153737263, 'Size Category': 'Small'}, {'Defect Type': 'light_stain', 'Bounding Box Area': 1194.2669232972185, 'Size Category': 'Large'}]\n",
      "Sliced bounding box:  [{'Defect Type': 'line_crack', 'Bounding Box Area': 1729.6509808672831, 'Size Category': 'Large'}, {'Defect Type': 'line_crack', 'Bounding Box Area': 706.2389241390016, 'Size Category': 'Medium'}, {'Defect Type': 'line_crack', 'Bounding Box Area': 956.465848013143, 'Size Category': 'Medium'}, {'Defect Type': 'line_crack', 'Bounding Box Area': 1472.8804310272662, 'Size Category': 'Large'}, {'Defect Type': 'line_crack', 'Bounding Box Area': 706.2389241390016, 'Size Category': 'Medium'}, {'Defect Type': 'line_crack', 'Bounding Box Area': 536.2005511588868, 'Size Category': 'Medium'}, {'Defect Type': 'line_crack', 'Bounding Box Area': 120.82997855898154, 'Size Category': 'Small'}, {'Defect Type': 'line_crack', 'Bounding Box Area': 524.1239621688051, 'Size Category': 'Medium'}, {'Defect Type': 'chip_crack', 'Bounding Box Area': 1194.2159244635968, 'Size Category': 'Medium'}, {'Defect Type': 'bubble', 'Bounding Box Area': 128.4949068542921, 'Size Category': 'Small'}, {'Defect Type': 'light_stain', 'Bounding Box Area': 1194.2669232972205, 'Size Category': 'Large'}, {'Defect Type': 'bubble', 'Bounding Box Area': 165.09897573229148, 'Size Category': 'Medium'}, {'Defect Type': 'bubble', 'Bounding Box Area': 128.4949068542921, 'Size Category': 'Small'}, {'Defect Type': 'line_crack', 'Bounding Box Area': 3529.6336383840376, 'Size Category': 'Large'}, {'Defect Type': 'particle_material', 'Bounding Box Area': 83.94520793686306, 'Size Category': 'Small'}, {'Defect Type': 'particle_material', 'Bounding Box Area': 127.2271400619154, 'Size Category': 'Small'}, {'Defect Type': 'particle_material', 'Bounding Box Area': 24.839656132430886, 'Size Category': 'Small'}, {'Defect Type': 'particle_material', 'Bounding Box Area': 71.80437153737229, 'Size Category': 'Small'}, {'Defect Type': 'particle_material', 'Bounding Box Area': 149.10015339072808, 'Size Category': 'Small'}, {'Defect Type': 'particle_material', 'Bounding Box Area': 71.80437153737229, 'Size Category': 'Small'}, {'Defect Type': 'line_crack', 'Bounding Box Area': 1729.6509808672831, 'Size Category': 'Large'}, {'Defect Type': 'line_crack', 'Bounding Box Area': 540.921709498975, 'Size Category': 'Medium'}, {'Defect Type': 'line_crack', 'Bounding Box Area': 1472.8804310272662, 'Size Category': 'Large'}, {'Defect Type': 'line_crack', 'Bounding Box Area': 540.921709498975, 'Size Category': 'Medium'}, {'Defect Type': 'line_crack', 'Bounding Box Area': 524.1239621688051, 'Size Category': 'Medium'}, {'Defect Type': 'line_crack', 'Bounding Box Area': 3573.994123723559, 'Size Category': 'Large'}, {'Defect Type': 'line_crack', 'Bounding Box Area': 11250.788755982961, 'Size Category': 'Large'}, {'Defect Type': 'particle_material', 'Bounding Box Area': 24.839656132430886, 'Size Category': 'Small'}, {'Defect Type': 'line_crack', 'Bounding Box Area': 634.8239060212956, 'Size Category': 'Medium'}, {'Defect Type': 'particle_material', 'Bounding Box Area': 149.10015339072808, 'Size Category': 'Small'}, {'Defect Type': 'particle_material', 'Bounding Box Area': 57.86618380479419, 'Size Category': 'Small'}, {'Defect Type': 'particle_material', 'Bounding Box Area': 28.056331541720628, 'Size Category': 'Small'}, {'Defect Type': 'particle_material', 'Bounding Box Area': 19.632728588731037, 'Size Category': 'Small'}, {'Defect Type': 'line_crack', 'Bounding Box Area': 1771.2918776398974, 'Size Category': 'Large'}, {'Defect Type': 'line_crack', 'Bounding Box Area': 2486.02368791557, 'Size Category': 'Large'}, {'Defect Type': 'line_crack', 'Bounding Box Area': 3573.994123723559, 'Size Category': 'Large'}, {'Defect Type': 'line_crack', 'Bounding Box Area': 634.8239060212956, 'Size Category': 'Medium'}, {'Defect Type': 'line_crack', 'Bounding Box Area': 488.3260815547913, 'Size Category': 'Medium'}, {'Defect Type': 'line_crack', 'Bounding Box Area': 2097.5824866787866, 'Size Category': 'Large'}, {'Defect Type': 'particle_material', 'Bounding Box Area': 52.17205830644145, 'Size Category': 'Small'}, {'Defect Type': 'particle_material', 'Bounding Box Area': 110.25893696120905, 'Size Category': 'Small'}, {'Defect Type': 'particle_material', 'Bounding Box Area': 57.86618380479419, 'Size Category': 'Small'}, {'Defect Type': 'particle_material', 'Bounding Box Area': 28.056331541720628, 'Size Category': 'Small'}, {'Defect Type': 'light_stain', 'Bounding Box Area': 225.52964378429456, 'Size Category': 'Medium'}, {'Defect Type': 'line_crack', 'Bounding Box Area': 3684.9086114129427, 'Size Category': 'Large'}, {'Defect Type': 'particle_material', 'Bounding Box Area': 19.632728588731037, 'Size Category': 'Small'}, {'Defect Type': 'line_crack', 'Bounding Box Area': 6605.72008503288, 'Size Category': 'Large'}]\n"
     ]
    }
   ],
   "source": [
    "# Create bounding box data for original and sliced annotations\n",
    "original_bbox_data = create_bbox_size_data(original_annotations, category_mapping, small_threshold, medium_threshold)\n",
    "sliced_bbox_data = create_bbox_size_data(sliced_annotations, category_mapping, small_threshold, medium_threshold)\n",
    "\n",
    "print(\"Original bounding box: \", original_bbox_data)\n",
    "print(\"Sliced bounding box: \", sliced_bbox_data)"
   ]
  },
  {
   "cell_type": "code",
   "execution_count": null,
   "metadata": {},
   "outputs": [],
   "source": [
    "original_bbox_df = pd.DataFrame(original_bbox_data)\n",
    "sliced_bbox_df = pd.DataFrame(sliced_bbox_data)\n",
    "\n",
    "# Group by defect type and size category, counting occurrences\n",
    "grouped_original_bbox_df = original_bbox_df.groupby(['Defect Type', 'Size Category']).size().reset_index(name='Original Count')\n",
    "grouped_sliced_bbox_df = sliced_bbox_df.groupby(['Defect Type', 'Size Category']).size().reset_index(name='Sliced Count')\n",
    "\n",
    "# Merge original and sliced data on defect type and size category\n",
    "merged_bbox_df = pd.merge(grouped_original_bbox_df, grouped_sliced_bbox_df, on=['Defect Type', 'Size Category'], how='outer').fillna(0)\n",
    "\n",
    "# Converting the count to integers\n",
    "merged_bbox_df['Original Count'] = merged_bbox_df['Original Count'].astype(int)\n",
    "merged_bbox_df['Sliced Count'] = merged_bbox_df['Sliced Count'].astype(int)\n",
    "\n",
    "print(\"Grouped by Dynamic Bounding Box Size Category\")\n",
    "print(merged_bbox_df)"
   ]
  }
 ],
 "metadata": {
  "kernelspec": {
   "display_name": ".venv",
   "language": "python",
   "name": "python3"
  },
  "language_info": {
   "codemirror_mode": {
    "name": "ipython",
    "version": 3
   },
   "file_extension": ".py",
   "mimetype": "text/x-python",
   "name": "python",
   "nbconvert_exporter": "python",
   "pygments_lexer": "ipython3",
   "version": "3.11.9"
  }
 },
 "nbformat": 4,
 "nbformat_minor": 2
}
