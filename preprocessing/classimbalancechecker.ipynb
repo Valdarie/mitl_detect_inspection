{
 "cells": [
  {
   "cell_type": "markdown",
   "metadata": {},
   "source": [
    "# Class Imbalancer Checker Script\n",
    "\n",
    "The class imbalance checker script will serve as a diagnostic tool that:\n",
    "\n",
    "- Confirms that the slicing process has not unintentionally altered the dataset (such as by adding new defect types).\n",
    "  \n",
    "- Identifies any class imbalances in the original dataset that may require balancing measures.\n",
    "  \n",
    "- Highlights any changes in the distribution of bounding box sizes due to slicing, allowing you to see if the slicing process fragments large defects excessively."
   ]
  },
  {
   "cell_type": "markdown",
   "metadata": {},
   "source": [
    "<details open>\n",
    "<summary>Why Class Imbalance Matters in ML?</summary>\n",
    "<br>\n",
    "When training a model, we want it to identify all defect types, regardless of their frequency in the dataset. If some defect types are rare, the model might:\n",
    "\n",
    "- **Predict only the common defects**: It might say “crack” for every image, missing other defects.\n",
    "  \n",
    "- **Miss rare but important defects**: Some rare defects could be critical, and we want the model to catch those as well.\n",
    "\n",
    "In this example:\n",
    "\n",
    "Each defect type (e.g., line_crack, particle_material) shows up with a certain frequency in both the original and sliced data.\n",
    "If there are discrepancies between the counts in the original and sliced data, it could indicate that some classes became more or less frequent after slicing. \n",
    "E.g. if residue_stain had a count of 4 in the original data but became 0 in the sliced data, this would mean the slicing process didn’t preserve that defect type well.\n",
    "</details>\n",
    "\n",
    "\n"
   ]
  },
  {
   "cell_type": "markdown",
   "metadata": {},
   "source": [
    "| Step                          | Output                        | Purpose                                                        |\n",
    "|-------------------------------|-------------------------------|----------------------------------------------------------------|\n",
    "| 1                             | Loaded datasets               | Verify data structure and integrity                            |\n",
    "| 2                             | Defect types in each dataset  | Identify unexpected defect types in sliced data               |\n",
    "| 3                             | Total class counts            | Compare overall defect counts before and after slicing         |\n",
    "| 4                             | Size-based classification     | Analyze if slicing affects size distribution of defects       |\n",
    "| 5                             | Final summary table           | Comprehensive view of class imbalance and size distribution, guiding augmentation and balancing decisions |"
   ]
  },
  {
   "cell_type": "markdown",
   "metadata": {},
   "source": [
    "| Step                     | Action                                           | Goal                                                      |\n",
    "|--------------------------|--------------------------------------------------|-----------------------------------------------------------|\n",
    "| 1. Count Each Defect     | Check how many times each defect type appears.   | Identify if any defect type is much rarer than others.    |\n",
    "| 2. Apply Augmentation    | Create new variations of rare defects.           | Increase the number of examples for rare classes.         |\n",
    "| 3. Use Class Weights     | Assign higher importance to rare classes.        | Encourage the model to focus more on rare defects.        |\n",
    "| 4. Balance the Dataset   | Use sampling techniques to even class counts.    | Ensure the model sees all defect types fairly often.      |\n"
   ]
  },
  {
   "cell_type": "code",
   "execution_count": 47,
   "metadata": {},
   "outputs": [
    {
     "name": "stdout",
     "output_type": "stream",
     "text": [
      "Requirement already satisfied: pandas in e:\\github_repos\\mitl_detect_inspection\\.venv\\lib\\site-packages (2.2.3)\n",
      "Requirement already satisfied: pycocotools in e:\\github_repos\\mitl_detect_inspection\\.venv\\lib\\site-packages (2.0.8)\n",
      "Requirement already satisfied: matplotlib in e:\\github_repos\\mitl_detect_inspection\\.venv\\lib\\site-packages (3.9.2)\n",
      "Requirement already satisfied: numpy in e:\\github_repos\\mitl_detect_inspection\\.venv\\lib\\site-packages (1.26.4)\n",
      "Requirement already satisfied: python-dateutil>=2.8.2 in e:\\github_repos\\mitl_detect_inspection\\.venv\\lib\\site-packages (from pandas) (2.9.0.post0)\n",
      "Requirement already satisfied: pytz>=2020.1 in e:\\github_repos\\mitl_detect_inspection\\.venv\\lib\\site-packages (from pandas) (2024.2)\n",
      "Requirement already satisfied: tzdata>=2022.7 in e:\\github_repos\\mitl_detect_inspection\\.venv\\lib\\site-packages (from pandas) (2024.2)\n",
      "Requirement already satisfied: contourpy>=1.0.1 in e:\\github_repos\\mitl_detect_inspection\\.venv\\lib\\site-packages (from matplotlib) (1.3.1)\n",
      "Requirement already satisfied: cycler>=0.10 in e:\\github_repos\\mitl_detect_inspection\\.venv\\lib\\site-packages (from matplotlib) (0.12.1)\n",
      "Requirement already satisfied: fonttools>=4.22.0 in e:\\github_repos\\mitl_detect_inspection\\.venv\\lib\\site-packages (from matplotlib) (4.54.1)\n",
      "Requirement already satisfied: kiwisolver>=1.3.1 in e:\\github_repos\\mitl_detect_inspection\\.venv\\lib\\site-packages (from matplotlib) (1.4.7)\n",
      "Requirement already satisfied: packaging>=20.0 in e:\\github_repos\\mitl_detect_inspection\\.venv\\lib\\site-packages (from matplotlib) (24.2)\n",
      "Requirement already satisfied: pillow>=8 in e:\\github_repos\\mitl_detect_inspection\\.venv\\lib\\site-packages (from matplotlib) (11.0.0)\n",
      "Requirement already satisfied: pyparsing>=2.3.1 in e:\\github_repos\\mitl_detect_inspection\\.venv\\lib\\site-packages (from matplotlib) (3.2.0)\n",
      "Requirement already satisfied: six>=1.5 in e:\\github_repos\\mitl_detect_inspection\\.venv\\lib\\site-packages (from python-dateutil>=2.8.2->pandas) (1.16.0)\n",
      "Note: you may need to restart the kernel to use updated packages.\n"
     ]
    }
   ],
   "source": [
    "%pip install pandas; pycocotools; matplotlib; pandas; numpy"
   ]
  },
  {
   "cell_type": "code",
   "execution_count": 48,
   "metadata": {},
   "outputs": [],
   "source": [
    "# class_imbalance_check.py\n",
    "import json\n",
    "from collections import Counter, defaultdict\n",
    "import os.path\n",
    "from PIL import Image, ImageDraw\n",
    "import matplotlib.pyplot as plt\n",
    "import pandas as pd\n",
    "import numpy as np\n",
    "from pycocotools.coco import COCO\n",
    "import shutil"
   ]
  },
  {
   "cell_type": "code",
   "execution_count": 49,
   "metadata": {},
   "outputs": [],
   "source": [
    "def calculate_class_counts(coco_obj):\n",
    "    return Counter(cat_id for cat_id in coco_obj.getCatIds() for _ in coco_obj.getAnnIds(catIds=[cat_id]))\n",
    "\n",
    "def calculate_area(bbox):\n",
    "    return bbox[2] * bbox[3]\n",
    "\n",
    "def categorize_by_dynamic_size(area, small_threshold, medium_threshold):\n",
    "    if area > medium_threshold:\n",
    "        return \"Large\"\n",
    "    elif area > small_threshold:\n",
    "        return \"Medium\"\n",
    "    return \"Small\"\n",
    "\n",
    "def create_bbox_size_data(annotations, category_mapping, small_threshold, medium_threshold):\n",
    "    return [\n",
    "        {\n",
    "            \"Defect Type\": category_mapping[ann['category_id']],\n",
    "            \"Bounding Box Area\": calculate_area(ann['bbox']),\n",
    "            \"Size Category\": categorize_by_dynamic_size(calculate_area(ann['bbox']), small_threshold, medium_threshold),\n",
    "        }\n",
    "        for ann in annotations['annotations']\n",
    "    ]\n",
    "\n",
    "def calculate_size_category_counts(bbox_data):\n",
    "    size_counts = defaultdict(lambda: defaultdict(int))\n",
    "    for data in bbox_data:\n",
    "        size_counts[data[\"Defect Type\"]][data[\"Size Category\"]] += 1\n",
    "    return size_counts\n",
    "\n",
    "def calculate_iou(boxA, boxB):\n",
    "    xA, yA = max(boxA[0], boxB[0]), max(boxA[1], boxB[1])\n",
    "    xB, yB = min(boxA[0] + boxA[2], boxB[0] + boxB[2]), min(boxA[1] + boxA[3], boxB[1] + boxB[3])\n",
    "    inter_area = max(0, xB - xA) * max(0, yB - yA)\n",
    "    return inter_area / float(boxA[2] * boxA[3] + boxB[2] * boxB[3] - inter_area)\n",
    "\n",
    "def remove_duplicate_bboxes(annotations, iou_threshold=0.7):\n",
    "    removed_ids = set()\n",
    "    unique_annotations = []\n",
    "    category_groups = defaultdict(list)\n",
    "\n",
    "    for ann in annotations:\n",
    "        category_groups[ann['category_id']].append(ann)\n",
    "\n",
    "    for bboxes in category_groups.values():\n",
    "        for i in range(len(bboxes)):\n",
    "            for j in range(i + 1, len(bboxes)):\n",
    "                if bboxes[i]['id'] in removed_ids or bboxes[j]['id'] in removed_ids:\n",
    "                    continue\n",
    "                if calculate_iou(bboxes[i]['bbox'], bboxes[j]['bbox']) > iou_threshold:\n",
    "                    removed_ids.add(bboxes[j]['id'])\n",
    "\n",
    "    unique_annotations = [ann for ann in annotations if ann['id'] not in removed_ids]\n",
    "    return unique_annotations, removed_ids\n"
   ]
  },
  {
   "cell_type": "code",
   "execution_count": 50,
   "metadata": {},
   "outputs": [
    {
     "name": "stdout",
     "output_type": "stream",
     "text": [
      "loading annotations into memory...\n",
      "Done (t=0.00s)\n",
      "creating index...\n",
      "index created!\n",
      "loading annotations into memory...\n",
      "Done (t=0.00s)\n",
      "creating index...\n",
      "index created!\n",
      "{'images': [{'width': 4096, 'height': 2000, 'id': 4, 'file_name': '01BN02.bmp'}, {'width': 4096, 'height': 2000, 'id': 25, 'file_name': '01FW01.bmp'}], 'annotations': [{'id': 98, 'image_id': 4, 'category_id': 5, 'segmentation': [], 'bbox': [2214.833880112831, 223.5076988929449, 21.737717054118985, 45.54569287529642], 'ignore': 0, 'iscrowd': 0, 'area': 990.0593847569965}, {'id': 99, 'image_id': 4, 'category_id': 5, 'segmentation': [], 'bbox': [2729.2931837269757, 203.84024060588504, 28.983622738824923, 38.29978719059021], 'ignore': 0, 'iscrowd': 0, 'area': 1110.066582909346}, {'id': 100, 'image_id': 4, 'category_id': 5, 'segmentation': [], 'bbox': [1882.5573479998739, 603.4001826482585, 12.421552602353332, 22.772846437648226], 'ignore': 0, 'iscrowd': 0, 'area': 282.87410993056216}, {'id': 101, 'image_id': 4, 'category_id': 7, 'segmentation': [], 'bbox': [2414.76780379523, 623.8160249415288, 6.427339063585387, 8.764553268525148], 'ignore': 0, 'iscrowd': 0, 'area': 56.33275559766667}, {'id': 102, 'image_id': 4, 'category_id': 6, 'segmentation': [], 'bbox': [3139.4239184467547, 332.38546483295534, 32.04670115714252, 28.095738000782404], 'ignore': 0, 'iscrowd': 0, 'area': 900.3757195004466}, {'id': 103, 'image_id': 4, 'category_id': 6, 'segmentation': [], 'bbox': [2961.600279059792, 195.73355615829885, 30.11285479358514, 30.112854793584418], 'ignore': 0, 'iscrowd': 0, 'area': 906.7840238195217}, {'id': 104, 'image_id': 4, 'category_id': 6, 'segmentation': [], 'bbox': [3043.714087106246, 1372.4790158859523, 41.677155586700536, 25.006293352020922], 'ignore': 0, 'iscrowd': 0, 'area': 1042.1911786788512}, {'id': 105, 'image_id': 4, 'category_id': 6, 'segmentation': [], 'bbox': [3017.1443808445238, 1838.294145123866, 50.19751808660163, 12.01912404890436], 'ignore': 0, 'iscrowd': 0, 'area': 603.3301968299852}, {'id': 106, 'image_id': 4, 'category_id': 6, 'segmentation': [], 'bbox': [2444.0108244557337, 1878.8898621270523, 39.33491657411967, 13.456681985881989], 'ignore': 0, 'iscrowd': 0, 'area': 529.317463279127}, {'id': 107, 'image_id': 4, 'category_id': 6, 'segmentation': [], 'bbox': [2000.9754483051242, 1856.1170156894027, 41.40517534117767, 15.526940752942256], 'ignore': 0, 'iscrowd': 0, 'area': 642.8957043876513}, {'id': 108, 'image_id': 4, 'category_id': 9, 'segmentation': [], 'bbox': [2059.7017886317535, 1559.6596085737049, 31.527887813377603, 23.94523125066712], 'ignore': 0, 'iscrowd': 0, 'area': 754.9425645364165}, {'id': 109, 'image_id': 4, 'category_id': 6, 'segmentation': [], 'bbox': [1577.0431440518012, 1827.751590298049, 11.85288946908023, 16.681844437964866], 'ignore': 0, 'iscrowd': 0, 'area': 197.72805826358837}, {'id': 110, 'image_id': 4, 'category_id': 6, 'segmentation': [], 'bbox': [942.0450559567693, 1916.0820608772663, 47.59524905468483, 20.040104865130388], 'ignore': 0, 'iscrowd': 0, 'area': 953.813782137882}, {'id': 111, 'image_id': 4, 'category_id': 6, 'segmentation': [], 'bbox': [923.2574576457093, 1777.0538333754237, 16.282585202918646, 30.060157297695437], 'ignore': 0, 'iscrowd': 0, 'area': 489.45707241286266}, {'id': 112, 'image_id': 4, 'category_id': 7, 'segmentation': [], 'bbox': [873.8602257766653, 1490.1689155129952, 5.706946781408915, 8.34092221898203], 'ignore': 0, 'iscrowd': 0, 'area': 47.601199211601596}, {'id': 113, 'image_id': 4, 'category_id': 9, 'segmentation': [], 'bbox': [883.9571316206959, 1331.6913933523301, 43.46059471995986, 71.99532862700448], 'ignore': 0, 'iscrowd': 0, 'area': 3128.9597991885657}, {'id': 114, 'image_id': 4, 'category_id': 7, 'segmentation': [], 'bbox': [1066.8418007680132, 588.0255901600613, 9.179005312755905, 12.371702812844687], 'ignore': 0, 'iscrowd': 0, 'area': 113.55992584693855}, {'id': 115, 'image_id': 4, 'category_id': 9, 'segmentation': [], 'bbox': [1042.8496774246828, 615.4772707374756, 55.79347377223836, 204.95561793883405], 'ignore': 0, 'iscrowd': 0, 'area': 11435.185893943242}, {'id': 116, 'image_id': 4, 'category_id': 9, 'segmentation': [], 'bbox': [1155.5752672910414, 607.5067744842988, 63.76397002541518, 228.86710669836472], 'ignore': 0, 'iscrowd': 0, 'area': 14593.475331318026}, {'id': 117, 'image_id': 4, 'category_id': 0, 'segmentation': [], 'bbox': [1333.9730532212661, 434.93307532387, 88.65871504309557, 165.65180968578238], 'ignore': 0, 'iscrowd': 0, 'area': 14686.47659130488}, {'id': 118, 'image_id': 4, 'category_id': 7, 'segmentation': [], 'bbox': [1154.1381840756967, 49.66580185497679, 6.427339063585241, 12.854678127170462], 'ignore': 0, 'iscrowd': 0, 'area': 82.62137487657748}, {'id': 119, 'image_id': 4, 'category_id': 7, 'segmentation': [], 'bbox': [3257.030091781571, 1020.0990175191394, 22.240887685365742, 22.240887685366033], 'ignore': 0, 'iscrowd': 0, 'area': 494.65708503305996}, {'id': 120, 'image_id': 4, 'category_id': 7, 'segmentation': [], 'bbox': [3330.7030322393457, 1124.3531785442922, 7.645305141844437, 8.340332882012405], 'ignore': 0, 'iscrowd': 0, 'area': 63.76438986754367}, {'id': 121, 'image_id': 4, 'category_id': 7, 'segmentation': [], 'bbox': [3164.670790887308, 870.6256913339246, 6.1712728790252, 5.69655958063791], 'ignore': 0, 'iscrowd': 0, 'area': 35.1550236437419}, {'id': 122, 'image_id': 4, 'category_id': 7, 'segmentation': [], 'bbox': [1677.8210677740008, 926.6261497377964, 4.17016644100601, 6.528409868713643], 'ignore': 0, 'iscrowd': 0, 'area': 27.22455574764209}, {'id': 123, 'image_id': 4, 'category_id': 7, 'segmentation': [], 'bbox': [1618.1910591263832, 1012.4121521691746, 3.422521247342811, 5.637093819153023], 'ignore': 0, 'iscrowd': 0, 'area': 19.293073369316055}, {'id': 124, 'image_id': 4, 'category_id': 7, 'segmentation': [], 'bbox': [2734.8370710785075, 1347.2817904399178, 6.189951795467059, 12.969422809548519], 'ignore': 0, 'iscrowd': 0, 'area': 80.28010200613629}, {'id': 125, 'image_id': 4, 'category_id': 7, 'segmentation': [], 'bbox': [1953.9045000757992, 1384.8410406097285, 10.699773817877867, 17.508720792890813], 'ignore': 0, 'iscrowd': 0, 'area': 187.33935232430693}, {'id': 126, 'image_id': 4, 'category_id': 6, 'segmentation': [], 'bbox': [1367.880142997596, 278.27019267822004, 22.16311269118538, 163.76077710709407], 'ignore': 0, 'iscrowd': 0, 'area': 3629.448557420617}, {'id': 497, 'image_id': 25, 'category_id': 6, 'segmentation': [], 'bbox': [1775.0717177845875, 661.4631928334245, 107.26946542533842, 22.34780529694561], 'ignore': 0, 'iscrowd': 0, 'area': 2397.237127632902}, {'id': 498, 'image_id': 25, 'category_id': 7, 'segmentation': [], 'bbox': [3123.0423987157724, 897.9731431884034, 30.275408361704322, 14.296720615249255], 'ignore': 0, 'iscrowd': 0, 'area': 432.8390548598679}, {'id': 499, 'image_id': 25, 'category_id': 6, 'segmentation': [], 'bbox': [2513.7744723254336, 298.2743036448389, 32.461124648706466, 22.38698251634915], 'ignore': 0, 'iscrowd': 0, 'area': 726.7066299716221}, {'id': 500, 'image_id': 25, 'category_id': 6, 'segmentation': [], 'bbox': [2319.007724433196, 269.171226373585, 44.77396503269818, 48.13201241015068], 'ignore': 0, 'iscrowd': 0, 'area': 2155.061040605481}, {'id': 501, 'image_id': 25, 'category_id': 7, 'segmentation': [], 'bbox': [1530.1107362274006, 301.21028493428986, 8.430124826206592, 7.133182545251806], 'ignore': 0, 'iscrowd': 0, 'area': 60.13361926459078}, {'id': 502, 'image_id': 25, 'category_id': 6, 'segmentation': [], 'bbox': [753.7462437738958, 384.3394301957645, 68.96065237943759, 60.55081672340861], 'ignore': 0, 'iscrowd': 0, 'area': 4175.623823354017}, {'id': 503, 'image_id': 25, 'category_id': 7, 'segmentation': [], 'bbox': [674.6604744089583, 76.52950446986378, 23.54753983688119, 17.660654877660864], 'ignore': 0, 'iscrowd': 0, 'area': 415.86497427712925}, {'id': 504, 'image_id': 25, 'category_id': 9, 'segmentation': [], 'bbox': [978.1189953486828, 146.6154510225546, 89.72176282164699, 87.82623262118923], 'ignore': 0, 'iscrowd': 0, 'area': 7879.924412757136}, {'id': 505, 'image_id': 25, 'category_id': 6, 'segmentation': [], 'bbox': [1094.9378633817653, 887.9593985803857, 51.81115881250022, 18.955302004573156], 'ignore': 0, 'iscrowd': 0, 'area': 982.0961624978435}, {'id': 506, 'image_id': 25, 'category_id': 6, 'segmentation': [], 'bbox': [1361.1758041307921, 1244.3382079587973, 62.30297234299942, 127.31476957047775], 'ignore': 0, 'iscrowd': 0, 'area': 7932.0885674048195}, {'id': 507, 'image_id': 25, 'category_id': 6, 'segmentation': [], 'bbox': [1038.237899018503, 1756.073068785973, 28.532730181007064, 14.266365090503825], 'ignore': 0, 'iscrowd': 0, 'area': 407.0583457910841}, {'id': 508, 'image_id': 25, 'category_id': 7, 'segmentation': [], 'bbox': [2501.472497298993, 1483.4462415705896, 7.582120801829442, 21.482675605182923], 'ignore': 0, 'iscrowd': 0, 'area': 162.88424158501132}, {'id': 509, 'image_id': 25, 'category_id': 1, 'segmentation': [], 'bbox': [502.3521524579026, 1297.2369640393817, 10.425416102515229, 20.850832205030656], 'ignore': 0, 'iscrowd': 0, 'area': 217.37860182116972}, {'id': 510, 'image_id': 25, 'category_id': 6, 'segmentation': [], 'bbox': [344.5808554398382, 1256.9253551096563, 20.850832205030528, 70.19780175693626], 'ignore': 0, 'iscrowd': 0, 'area': 1463.682585595875}, {'id': 511, 'image_id': 25, 'category_id': 6, 'segmentation': [], 'bbox': [303.57421876994476, 1329.903267827263, 31.971276047713474, 11.1204438426833], 'ignore': 0, 'iscrowd': 0, 'area': 355.5347798675234}, {'id': 512, 'image_id': 25, 'category_id': 6, 'segmentation': [], 'bbox': [202.2530723887962, 1194.5539319866273, 34.05635926821658, 50.04199729207329], 'ignore': 0, 'iscrowd': 0, 'area': 1704.2482382779692}, {'id': 513, 'image_id': 25, 'category_id': 7, 'segmentation': [], 'bbox': [1069.1574753516961, 1330.3189866725777, 6.80894697501295, 5.512004694058135], 'ignore': 0, 'iscrowd': 0, 'area': 37.53094768786432}, {'id': 514, 'image_id': 25, 'category_id': 6, 'segmentation': [], 'bbox': [1056.1124816608494, 1256.763499582155, 22.976123641906742, 18.380898913525243], 'ignore': 0, 'iscrowd': 0, 'area': 422.3218060865453}, {'id': 515, 'image_id': 25, 'category_id': 5, 'segmentation': [], 'bbox': [1644.3494284736798, 1734.1321824695112, 28.49613734687533, 30.581220567378015], 'ignore': 0, 'iscrowd': 0, 'area': 871.4466615230926}, {'id': 516, 'image_id': 25, 'category_id': 7, 'segmentation': [], 'bbox': [2295.8120960774127, 1067.142747452778, 5.696559580638132, 6.171272879024627], 'ignore': 0, 'iscrowd': 0, 'area': 35.15502364374001}, {'id': 517, 'image_id': 25, 'category_id': 7, 'segmentation': [], 'bbox': [2183.779757658197, 1090.8784123721034, 5.696559580638422, 5.221846282251477], 'ignore': 0, 'iscrowd': 0, 'area': 29.746558467780776}, {'id': 518, 'image_id': 25, 'category_id': 6, 'segmentation': [], 'bbox': [3609.725698879384, 1432.4948949936452, 65.68081647358656, 36.406840215092835], 'ignore': 0, 'iscrowd': 0, 'area': 2391.230990550703}], 'categories': [{'id': 0, 'name': 'blocked_valve'}, {'id': 1, 'name': 'bubble'}, {'id': 2, 'name': 'chip_crack'}, {'id': 3, 'name': 'excessive_flash'}, {'id': 4, 'name': 'improper_welding'}, {'id': 5, 'name': 'light_stain'}, {'id': 6, 'name': 'line_crack'}, {'id': 7, 'name': 'particle_material'}, {'id': 8, 'name': 'residue_stain'}, {'id': 9, 'name': 'unknown'}, {'id': 10, 'name': 'welding_blob'}]}\n",
      "{'images': [{'height': 640, 'width': 640, 'id': 1, 'file_name': '01BN02_0_0_0_640_640.png'}, {'height': 640, 'width': 640, 'id': 2, 'file_name': '01BN02_0_512_0_1152_640.png'}, {'height': 640, 'width': 640, 'id': 3, 'file_name': '01BN02_0_1024_0_1664_640.png'}, {'height': 640, 'width': 640, 'id': 4, 'file_name': '01BN02_0_1536_0_2176_640.png'}, {'height': 640, 'width': 640, 'id': 5, 'file_name': '01BN02_0_2048_0_2688_640.png'}, {'height': 640, 'width': 640, 'id': 6, 'file_name': '01BN02_0_2560_0_3200_640.png'}, {'height': 640, 'width': 640, 'id': 7, 'file_name': '01BN02_0_3072_0_3712_640.png'}, {'height': 640, 'width': 640, 'id': 8, 'file_name': '01BN02_0_3456_0_4096_640.png'}, {'height': 640, 'width': 640, 'id': 9, 'file_name': '01BN02_0_0_512_640_1152.png'}, {'height': 640, 'width': 640, 'id': 10, 'file_name': '01BN02_0_512_512_1152_1152.png'}, {'height': 640, 'width': 640, 'id': 11, 'file_name': '01BN02_0_1024_512_1664_1152.png'}, {'height': 640, 'width': 640, 'id': 12, 'file_name': '01BN02_0_1536_512_2176_1152.png'}, {'height': 640, 'width': 640, 'id': 13, 'file_name': '01BN02_0_2048_512_2688_1152.png'}, {'height': 640, 'width': 640, 'id': 14, 'file_name': '01BN02_0_2560_512_3200_1152.png'}, {'height': 640, 'width': 640, 'id': 15, 'file_name': '01BN02_0_3072_512_3712_1152.png'}, {'height': 640, 'width': 640, 'id': 16, 'file_name': '01BN02_0_3456_512_4096_1152.png'}, {'height': 640, 'width': 640, 'id': 17, 'file_name': '01BN02_0_0_1024_640_1664.png'}, {'height': 640, 'width': 640, 'id': 18, 'file_name': '01BN02_0_512_1024_1152_1664.png'}, {'height': 640, 'width': 640, 'id': 19, 'file_name': '01BN02_0_1024_1024_1664_1664.png'}, {'height': 640, 'width': 640, 'id': 20, 'file_name': '01BN02_0_1536_1024_2176_1664.png'}, {'height': 640, 'width': 640, 'id': 21, 'file_name': '01BN02_0_2048_1024_2688_1664.png'}, {'height': 640, 'width': 640, 'id': 22, 'file_name': '01BN02_0_2560_1024_3200_1664.png'}, {'height': 640, 'width': 640, 'id': 23, 'file_name': '01BN02_0_3072_1024_3712_1664.png'}, {'height': 640, 'width': 640, 'id': 24, 'file_name': '01BN02_0_3456_1024_4096_1664.png'}, {'height': 640, 'width': 640, 'id': 25, 'file_name': '01BN02_0_0_1360_640_2000.png'}, {'height': 640, 'width': 640, 'id': 26, 'file_name': '01BN02_0_512_1360_1152_2000.png'}, {'height': 640, 'width': 640, 'id': 27, 'file_name': '01BN02_0_1024_1360_1664_2000.png'}, {'height': 640, 'width': 640, 'id': 28, 'file_name': '01BN02_0_1536_1360_2176_2000.png'}, {'height': 640, 'width': 640, 'id': 29, 'file_name': '01BN02_0_2048_1360_2688_2000.png'}, {'height': 640, 'width': 640, 'id': 30, 'file_name': '01BN02_0_2560_1360_3200_2000.png'}, {'height': 640, 'width': 640, 'id': 31, 'file_name': '01BN02_0_3072_1360_3712_2000.png'}, {'height': 640, 'width': 640, 'id': 32, 'file_name': '01BN02_0_3456_1360_4096_2000.png'}, {'height': 640, 'width': 640, 'id': 33, 'file_name': '01FW01_1_0_0_640_640.png'}, {'height': 640, 'width': 640, 'id': 34, 'file_name': '01FW01_1_512_0_1152_640.png'}, {'height': 640, 'width': 640, 'id': 35, 'file_name': '01FW01_1_1024_0_1664_640.png'}, {'height': 640, 'width': 640, 'id': 36, 'file_name': '01FW01_1_1536_0_2176_640.png'}, {'height': 640, 'width': 640, 'id': 37, 'file_name': '01FW01_1_2048_0_2688_640.png'}, {'height': 640, 'width': 640, 'id': 38, 'file_name': '01FW01_1_2560_0_3200_640.png'}, {'height': 640, 'width': 640, 'id': 39, 'file_name': '01FW01_1_3072_0_3712_640.png'}, {'height': 640, 'width': 640, 'id': 40, 'file_name': '01FW01_1_3456_0_4096_640.png'}, {'height': 640, 'width': 640, 'id': 41, 'file_name': '01FW01_1_0_512_640_1152.png'}, {'height': 640, 'width': 640, 'id': 42, 'file_name': '01FW01_1_512_512_1152_1152.png'}, {'height': 640, 'width': 640, 'id': 43, 'file_name': '01FW01_1_1024_512_1664_1152.png'}, {'height': 640, 'width': 640, 'id': 44, 'file_name': '01FW01_1_1536_512_2176_1152.png'}, {'height': 640, 'width': 640, 'id': 45, 'file_name': '01FW01_1_2048_512_2688_1152.png'}, {'height': 640, 'width': 640, 'id': 46, 'file_name': '01FW01_1_2560_512_3200_1152.png'}, {'height': 640, 'width': 640, 'id': 47, 'file_name': '01FW01_1_3072_512_3712_1152.png'}, {'height': 640, 'width': 640, 'id': 48, 'file_name': '01FW01_1_3456_512_4096_1152.png'}, {'height': 640, 'width': 640, 'id': 49, 'file_name': '01FW01_1_0_1024_640_1664.png'}, {'height': 640, 'width': 640, 'id': 50, 'file_name': '01FW01_1_512_1024_1152_1664.png'}, {'height': 640, 'width': 640, 'id': 51, 'file_name': '01FW01_1_1024_1024_1664_1664.png'}, {'height': 640, 'width': 640, 'id': 52, 'file_name': '01FW01_1_1536_1024_2176_1664.png'}, {'height': 640, 'width': 640, 'id': 53, 'file_name': '01FW01_1_2048_1024_2688_1664.png'}, {'height': 640, 'width': 640, 'id': 54, 'file_name': '01FW01_1_2560_1024_3200_1664.png'}, {'height': 640, 'width': 640, 'id': 55, 'file_name': '01FW01_1_3072_1024_3712_1664.png'}, {'height': 640, 'width': 640, 'id': 56, 'file_name': '01FW01_1_3456_1024_4096_1664.png'}, {'height': 640, 'width': 640, 'id': 57, 'file_name': '01FW01_1_0_1360_640_2000.png'}, {'height': 640, 'width': 640, 'id': 58, 'file_name': '01FW01_1_512_1360_1152_2000.png'}, {'height': 640, 'width': 640, 'id': 59, 'file_name': '01FW01_1_1024_1360_1664_2000.png'}, {'height': 640, 'width': 640, 'id': 60, 'file_name': '01FW01_1_1536_1360_2176_2000.png'}, {'height': 640, 'width': 640, 'id': 61, 'file_name': '01FW01_1_2048_1360_2688_2000.png'}, {'height': 640, 'width': 640, 'id': 62, 'file_name': '01FW01_1_2560_1360_3200_2000.png'}, {'height': 640, 'width': 640, 'id': 63, 'file_name': '01FW01_1_3072_1360_3712_2000.png'}, {'height': 640, 'width': 640, 'id': 64, 'file_name': '01FW01_1_3456_1360_4096_2000.png'}], 'annotations': [{'iscrowd': 0, 'image_id': 2, 'bbox': [554.8418007680132, 588.0255901600613, 9.179005312755862, 12.37170281284466], 'segmentation': [[554, 588, 554, 600, 564, 600, 564, 588]], 'category_id': 7, 'id': 1, 'area': 113}, {'iscrowd': 0, 'image_id': 2, 'bbox': [530.8496774246828, 615.4772707374756, 55.79347377223826, 24.52272926252442], 'segmentation': [[586, 615, 530, 615, 530, 640, 586, 640]], 'category_id': 9, 'id': 2, 'area': 1368}, {'iscrowd': 0, 'image_id': 3, 'bbox': [42.84180076801317, 588.0255901600613, 9.179005312755862, 12.37170281284466], 'segmentation': [[42, 588, 42, 600, 52, 600, 52, 588]], 'category_id': 7, 'id': 3, 'area': 113}, {'iscrowd': 0, 'image_id': 3, 'bbox': [18.849677424682795, 615.4772707374756, 55.79347377223826, 24.52272926252442], 'segmentation': [[74, 615, 18, 615, 18, 640, 74, 640]], 'category_id': 9, 'id': 4, 'area': 1368}, {'iscrowd': 0, 'image_id': 3, 'bbox': [131.57526729104143, 607.5067744842988, 63.76397002541512, 32.49322551570117], 'segmentation': [[195, 607, 131, 607, 131, 640, 195, 640]], 'category_id': 9, 'id': 5, 'area': 2071}, {'iscrowd': 0, 'image_id': 3, 'bbox': [309.9730532212661, 434.93307532387, 88.65871504309553, 165.65180968578244], 'segmentation': [[309, 434, 309, 600, 398, 600, 398, 434]], 'category_id': 0, 'id': 6, 'area': 14686}, {'iscrowd': 0, 'image_id': 3, 'bbox': [130.1381840756967, 49.66580185497679, 6.42733906358535, 12.854678127170459], 'segmentation': [[130, 49, 130, 62, 136, 62, 136, 49]], 'category_id': 7, 'id': 7, 'area': 82}, {'iscrowd': 0, 'image_id': 3, 'bbox': [343.88014299759607, 278.27019267822004, 22.16311269118546, 163.7607771070941], 'segmentation': [[343, 278, 343, 442, 366, 442, 366, 278]], 'category_id': 6, 'id': 8, 'area': 3629}, {'iscrowd': 0, 'image_id': 4, 'bbox': [346.55734799987385, 603.4001826482585, 12.421552602353358, 22.77284643764824], 'segmentation': [[346, 603, 346, 626, 358, 626, 358, 603]], 'category_id': 5, 'id': 9, 'area': 282}, {'iscrowd': 0, 'image_id': 5, 'bbox': [166.83388011283114, 223.5076988929449, 21.737717054119003, 45.545692875296396], 'segmentation': [[166, 223, 166, 269, 188, 269, 188, 223]], 'category_id': 5, 'id': 10, 'area': 990}, {'iscrowd': 0, 'image_id': 5, 'bbox': [366.76780379523007, 623.8160249415288, 6.42733906358535, 8.764553268525106], 'segmentation': [[366, 623, 366, 632, 373, 632, 373, 623]], 'category_id': 7, 'id': 11, 'area': 56}, {'iscrowd': 0, 'image_id': 6, 'bbox': [169.2931837269757, 203.84024060588504, 28.983622738825034, 38.299787190590195], 'segmentation': [[169, 203, 169, 242, 198, 242, 198, 203]], 'category_id': 5, 'id': 12, 'area': 1110}, {'iscrowd': 0, 'image_id': 6, 'bbox': [579.4239184467547, 332.38546483295534, 32.04670115714271, 28.095738000782376], 'segmentation': [[579, 332, 579, 360, 611, 360, 611, 332]], 'category_id': 6, 'id': 13, 'area': 900}, {'iscrowd': 0, 'image_id': 6, 'bbox': [401.6002790597918, 195.73355615829885, 30.11285479358503, 30.112854793584432], 'segmentation': [[401, 195, 401, 225, 431, 225, 431, 195]], 'category_id': 6, 'id': 14, 'area': 906}, {'iscrowd': 0, 'image_id': 7, 'bbox': [67.42391844675467, 332.38546483295534, 32.04670115714271, 28.095738000782376], 'segmentation': [[67, 332, 67, 360, 99, 360, 99, 332]], 'category_id': 6, 'id': 15, 'area': 900}, {'iscrowd': 0, 'image_id': 10, 'bbox': [554.8418007680132, 76.02559016006126, 9.179005312755862, 12.37170281284466], 'segmentation': [[554, 76, 554, 88, 564, 88, 564, 76]], 'category_id': 7, 'id': 16, 'area': 113}, {'iscrowd': 0, 'image_id': 10, 'bbox': [530.8496774246828, 103.47727073747558, 55.79347377223826, 204.95561793883405], 'segmentation': [[530, 103, 530, 308, 586, 308, 586, 103]], 'category_id': 9, 'id': 17, 'area': 11435}, {'iscrowd': 0, 'image_id': 11, 'bbox': [42.84180076801317, 76.02559016006126, 9.179005312755862, 12.37170281284466], 'segmentation': [[42, 76, 42, 88, 52, 88, 52, 76]], 'category_id': 7, 'id': 18, 'area': 113}, {'iscrowd': 0, 'image_id': 11, 'bbox': [18.849677424682795, 103.47727073747558, 55.79347377223826, 204.95561793883405], 'segmentation': [[18, 103, 18, 308, 74, 308, 74, 103]], 'category_id': 9, 'id': 19, 'area': 11435}, {'iscrowd': 0, 'image_id': 11, 'bbox': [131.57526729104143, 95.50677448429883, 63.76397002541512, 228.86710669836475], 'segmentation': [[131, 95, 131, 324, 195, 324, 195, 95]], 'category_id': 9, 'id': 20, 'area': 14593}, {'iscrowd': 0, 'image_id': 11, 'bbox': [309.9730532212661, 0.0, 88.65871504309553, 88.58488500965245], 'segmentation': [[309, 88, 398, 88, 398, 0, 309, 0]], 'category_id': 0, 'id': 21, 'area': 7853}, {'iscrowd': 0, 'image_id': 11, 'bbox': [594.1910591263832, 500.41215216917465, 3.422521247342729, 5.637093819153051], 'segmentation': [[594, 500, 594, 506, 597, 506, 597, 500]], 'category_id': 7, 'id': 22, 'area': 19}, {'iscrowd': 0, 'image_id': 12, 'bbox': [346.55734799987385, 91.40018264825846, 12.421552602353358, 22.77284643764824], 'segmentation': [[346, 91, 346, 114, 358, 114, 358, 91]], 'category_id': 5, 'id': 23, 'area': 282}, {'iscrowd': 0, 'image_id': 12, 'bbox': [141.82106777400077, 414.62614973779637, 4.170166441005904, 6.528409868713652], 'segmentation': [[141, 414, 141, 421, 145, 421, 145, 414]], 'category_id': 7, 'id': 24, 'area': 27}, {'iscrowd': 0, 'image_id': 12, 'bbox': [82.19105912638315, 500.41215216917465, 3.422521247342729, 5.637093819153051], 'segmentation': [[82, 500, 82, 506, 85, 506, 85, 500]], 'category_id': 7, 'id': 25, 'area': 19}, {'iscrowd': 0, 'image_id': 13, 'bbox': [366.76780379523007, 111.81602494152878, 6.42733906358535, 8.764553268525106], 'segmentation': [[366, 111, 366, 120, 373, 120, 373, 111]], 'category_id': 7, 'id': 26, 'area': 56}, {'iscrowd': 0, 'image_id': 14, 'bbox': [604.6707908873082, 358.6256913339246, 6.1712728790253095, 5.6965595806378815], 'segmentation': [[604, 358, 604, 364, 610, 364, 610, 358]], 'category_id': 7, 'id': 27, 'area': 35}, {'iscrowd': 0, 'image_id': 15, 'bbox': [185.03009178157117, 508.09901751913935, 22.24088768536558, 22.240887685366033], 'segmentation': [[185, 508, 185, 530, 207, 530, 207, 508]], 'category_id': 7, 'id': 28, 'area': 494}, {'iscrowd': 0, 'image_id': 15, 'bbox': [258.7030322393457, 612.3531785442922, 7.6453051418443465, 8.34033288201249], 'segmentation': [[258, 612, 258, 620, 266, 620, 266, 612]], 'category_id': 7, 'id': 29, 'area': 63}, {'iscrowd': 0, 'image_id': 15, 'bbox': [92.67079088730816, 358.6256913339246, 6.1712728790253095, 5.6965595806378815], 'segmentation': [[92, 358, 92, 364, 98, 364, 98, 358]], 'category_id': 7, 'id': 30, 'area': 35}, {'iscrowd': 0, 'image_id': 18, 'bbox': [361.8602257766653, 466.1689155129952, 5.706946781408874, 8.340922218982087], 'segmentation': [[361, 466, 361, 474, 367, 474, 367, 466]], 'category_id': 7, 'id': 31, 'area': 47}, {'iscrowd': 0, 'image_id': 18, 'bbox': [371.9571316206959, 307.6913933523301, 43.460594719959886, 71.99532862700448], 'segmentation': [[371, 307, 371, 379, 415, 379, 415, 307]], 'category_id': 9, 'id': 32, 'area': 3128}, {'iscrowd': 0, 'image_id': 20, 'bbox': [523.7017886317535, 535.6596085737049, 31.527887813377674, 23.94523125066712], 'segmentation': [[523, 535, 523, 559, 555, 559, 555, 535]], 'category_id': 9, 'id': 33, 'area': 754}, {'iscrowd': 0, 'image_id': 20, 'bbox': [417.9045000757992, 360.84104060972845, 10.69977381787794, 17.5087207928907], 'segmentation': [[417, 360, 417, 378, 428, 378, 428, 360]], 'category_id': 7, 'id': 34, 'area': 187}, {'iscrowd': 0, 'image_id': 21, 'bbox': [11.701788631753516, 535.6596085737049, 31.527887813377674, 23.94523125066712], 'segmentation': [[11, 535, 11, 559, 43, 559, 43, 535]], 'category_id': 9, 'id': 35, 'area': 754}, {'iscrowd': 0, 'image_id': 22, 'bbox': [483.7140871062461, 348.4790158859523, 41.67715558670034, 25.006293352020975], 'segmentation': [[483, 348, 483, 373, 525, 373, 525, 348]], 'category_id': 6, 'id': 36, 'area': 1042}, {'iscrowd': 0, 'image_id': 22, 'bbox': [174.8370710785075, 323.2817904399178, 6.1899517954670955, 12.969422809548405], 'segmentation': [[174, 323, 174, 336, 181, 336, 181, 323]], 'category_id': 7, 'id': 37, 'area': 80}, {'iscrowd': 0, 'image_id': 23, 'bbox': [0.0, 348.4790158859523, 13.391242692946435, 25.006293352020975], 'segmentation': [[13, 373, 13, 348, 0, 348, 0, 373]], 'category_id': 6, 'id': 38, 'area': 334}, {'iscrowd': 0, 'image_id': 23, 'bbox': [185.03009178157117, 0.0, 22.24088768536558, 18.339905204505385], 'segmentation': [[185, 18, 207, 18, 207, 0, 185, 0]], 'category_id': 7, 'id': 39, 'area': 407}, {'iscrowd': 0, 'image_id': 23, 'bbox': [258.7030322393457, 100.35317854429218, 7.6453051418443465, 8.34033288201249], 'segmentation': [[258, 100, 258, 108, 266, 108, 266, 100]], 'category_id': 7, 'id': 40, 'area': 63}, {'iscrowd': 0, 'image_id': 26, 'bbox': [430.04505595676926, 556.0820608772663, 47.595249054684814, 20.040104865130388], 'segmentation': [[430, 556, 430, 576, 477, 576, 477, 556]], 'category_id': 6, 'id': 41, 'area': 953}, {'iscrowd': 0, 'image_id': 26, 'bbox': [411.25745764570934, 417.05383337542366, 16.282585202918654, 30.06015729769547], 'segmentation': [[411, 417, 411, 447, 427, 447, 427, 417]], 'category_id': 6, 'id': 42, 'area': 489}, {'iscrowd': 0, 'image_id': 26, 'bbox': [361.8602257766653, 130.16891551299523, 5.706946781408874, 8.340922218982087], 'segmentation': [[361, 130, 361, 138, 367, 138, 367, 130]], 'category_id': 7, 'id': 43, 'area': 47}, {'iscrowd': 0, 'image_id': 26, 'bbox': [371.9571316206959, 0.0, 43.460594719959886, 43.68672197933461], 'segmentation': [[371, 43, 415, 43, 415, 0, 371, 0]], 'category_id': 9, 'id': 44, 'area': 1898}, {'iscrowd': 0, 'image_id': 27, 'bbox': [553.0431440518012, 467.751590298049, 11.85288946908031, 16.681844437964855], 'segmentation': [[553, 467, 553, 484, 564, 484, 564, 467]], 'category_id': 6, 'id': 45, 'area': 197}, {'iscrowd': 0, 'image_id': 28, 'bbox': [464.97544830512425, 496.1170156894027, 41.40517534117771, 15.52694075294221], 'segmentation': [[464, 496, 464, 511, 506, 511, 506, 496]], 'category_id': 6, 'id': 46, 'area': 642}, {'iscrowd': 0, 'image_id': 28, 'bbox': [523.7017886317535, 199.65960857370487, 31.527887813377674, 23.94523125066712], 'segmentation': [[523, 199, 523, 223, 555, 223, 555, 199]], 'category_id': 9, 'id': 47, 'area': 754}, {'iscrowd': 0, 'image_id': 28, 'bbox': [41.043144051801164, 467.751590298049, 11.85288946908031, 16.681844437964855], 'segmentation': [[41, 467, 41, 484, 52, 484, 52, 467]], 'category_id': 6, 'id': 48, 'area': 197}, {'iscrowd': 0, 'image_id': 28, 'bbox': [417.9045000757992, 24.841040609728452, 10.69977381787794, 17.5087207928907], 'segmentation': [[417, 24, 417, 42, 428, 42, 428, 24]], 'category_id': 7, 'id': 49, 'area': 187}, {'iscrowd': 0, 'image_id': 29, 'bbox': [396.01082445573365, 518.8898621270523, 39.33491657411969, 13.456681985881914], 'segmentation': [[396, 518, 396, 532, 435, 532, 435, 518]], 'category_id': 6, 'id': 50, 'area': 529}, {'iscrowd': 0, 'image_id': 29, 'bbox': [11.701788631753516, 199.65960857370487, 31.527887813377674, 23.94523125066712], 'segmentation': [[11, 199, 11, 223, 43, 223, 43, 199]], 'category_id': 9, 'id': 51, 'area': 754}, {'iscrowd': 0, 'image_id': 30, 'bbox': [483.7140871062461, 12.479015885952322, 41.67715558670034, 25.006293352020975], 'segmentation': [[483, 12, 483, 37, 525, 37, 525, 12]], 'category_id': 6, 'id': 52, 'area': 1042}, {'iscrowd': 0, 'image_id': 30, 'bbox': [457.14438084452377, 478.294145123866, 50.197518086601576, 12.01912404890436], 'segmentation': [[457, 478, 457, 490, 507, 490, 507, 478]], 'category_id': 6, 'id': 53, 'area': 603}, {'iscrowd': 0, 'image_id': 31, 'bbox': [0.0, 12.479015885952322, 13.391242692946435, 25.006293352020975], 'segmentation': [[13, 37, 13, 12, 0, 12, 0, 37]], 'category_id': 6, 'id': 54, 'area': 334}, {'iscrowd': 0, 'image_id': 34, 'bbox': [241.7462437738958, 384.3394301957645, 68.96065237943765, 60.550816723408616], 'segmentation': [[241, 384, 241, 444, 310, 444, 310, 384]], 'category_id': 6, 'id': 55, 'area': 4175}, {'iscrowd': 0, 'image_id': 34, 'bbox': [162.6604744089583, 76.52950446986378, 23.547539836881242, 17.66065487766086], 'segmentation': [[162, 76, 162, 94, 186, 94, 186, 76]], 'category_id': 7, 'id': 56, 'area': 415}, {'iscrowd': 0, 'image_id': 34, 'bbox': [466.1189953486828, 146.6154510225546, 89.72176282164696, 87.82623262118923], 'segmentation': [[466, 146, 466, 234, 555, 234, 555, 146]], 'category_id': 9, 'id': 57, 'area': 7879}, {'iscrowd': 0, 'image_id': 35, 'bbox': [506.1107362274006, 301.21028493428986, 8.430124826206566, 7.133182545251827], 'segmentation': [[506, 301, 506, 308, 514, 308, 514, 301]], 'category_id': 7, 'id': 58, 'area': 60}, {'iscrowd': 0, 'image_id': 35, 'bbox': [0.0, 146.6154510225546, 43.840758170329764, 87.82623262118923], 'segmentation': [[43, 234, 43, 146, 0, 146, 0, 234]], 'category_id': 9, 'id': 59, 'area': 3850}, {'iscrowd': 0, 'image_id': 36, 'bbox': [0.0, 301.21028493428986, 2.540861053607159, 7.133182545251827], 'segmentation': [[2, 308, 2, 301, 0, 301, 0, 308]], 'category_id': 7, 'id': 60, 'area': 18}, {'iscrowd': 0, 'image_id': 37, 'bbox': [465.77447232543363, 298.2743036448389, 32.46112464870657, 22.38698251634918], 'segmentation': [[465, 298, 465, 320, 498, 320, 498, 298]], 'category_id': 6, 'id': 61, 'area': 726}, {'iscrowd': 0, 'image_id': 37, 'bbox': [271.007724433196, 269.171226373585, 44.773965032698015, 48.13201241015065], 'segmentation': [[271, 269, 271, 317, 315, 317, 315, 269]], 'category_id': 6, 'id': 62, 'area': 2155}, {'iscrowd': 0, 'image_id': 42, 'bbox': [582.9378633817653, 375.9593985803857, 51.81115881250025, 18.955302004573127], 'segmentation': [[582, 375, 582, 394, 634, 394, 634, 375]], 'category_id': 6, 'id': 63, 'area': 982}, {'iscrowd': 0, 'image_id': 43, 'bbox': [70.93786338176528, 375.9593985803857, 51.81115881250025, 18.955302004573127], 'segmentation': [[70, 375, 70, 394, 122, 394, 122, 375]], 'category_id': 6, 'id': 64, 'area': 982}, {'iscrowd': 0, 'image_id': 44, 'bbox': [239.07171778458746, 149.4631928334245, 107.26946542533847, 22.34780529694558], 'segmentation': [[239, 149, 239, 171, 346, 171, 346, 149]], 'category_id': 6, 'id': 65, 'area': 2397}, {'iscrowd': 0, 'image_id': 45, 'bbox': [247.81209607741266, 555.1427474527779, 5.6965595806382225, 6.171272879024627], 'segmentation': [[247, 555, 247, 561, 253, 561, 253, 555]], 'category_id': 7, 'id': 66, 'area': 35}, {'iscrowd': 0, 'image_id': 45, 'bbox': [135.779757658197, 578.8784123721034, 5.6965595806382225, 5.22184628225159], 'segmentation': [[135, 578, 135, 584, 141, 584, 141, 578]], 'category_id': 7, 'id': 67, 'area': 29}, {'iscrowd': 0, 'image_id': 46, 'bbox': [563.0423987157724, 385.97314318840336, 30.275408361704194, 14.296720615249228], 'segmentation': [[563, 385, 563, 400, 593, 400, 593, 385]], 'category_id': 7, 'id': 68, 'area': 432}, {'iscrowd': 0, 'image_id': 47, 'bbox': [51.04239871577238, 385.97314318840336, 30.275408361704194, 14.296720615249228], 'segmentation': [[51, 385, 51, 400, 81, 400, 81, 385]], 'category_id': 7, 'id': 69, 'area': 432}, {'iscrowd': 0, 'image_id': 49, 'bbox': [502.3521524579026, 273.23696403938175, 10.425416102515271, 20.850832205030656], 'segmentation': [[502, 273, 502, 294, 512, 294, 512, 273]], 'category_id': 1, 'id': 70, 'area': 217}, {'iscrowd': 0, 'image_id': 49, 'bbox': [344.5808554398382, 232.92535510965627, 20.850832205030542, 70.19780175693631], 'segmentation': [[344, 232, 344, 303, 365, 303, 365, 232]], 'category_id': 6, 'id': 71, 'area': 1463}, {'iscrowd': 0, 'image_id': 49, 'bbox': [303.57421876994476, 305.9032678272631, 31.971276047713445, 11.120443842683244], 'segmentation': [[303, 305, 303, 317, 335, 317, 335, 305]], 'category_id': 6, 'id': 72, 'area': 355}, {'iscrowd': 0, 'image_id': 49, 'bbox': [202.2530723887962, 170.55393198662728, 34.056359268216596, 50.04199729207335], 'segmentation': [[202, 170, 202, 220, 236, 220, 236, 170]], 'category_id': 6, 'id': 73, 'area': 1704}, {'iscrowd': 0, 'image_id': 50, 'bbox': [557.1574753516961, 306.3189866725777, 6.8089469750129865, 5.512004694058078], 'segmentation': [[557, 306, 557, 311, 563, 311, 563, 306]], 'category_id': 7, 'id': 74, 'area': 37}, {'iscrowd': 0, 'image_id': 50, 'bbox': [544.1124816608494, 232.76349958215496, 22.976123641906725, 18.380898913525243], 'segmentation': [[544, 232, 544, 251, 567, 251, 567, 232]], 'category_id': 6, 'id': 75, 'area': 422}, {'iscrowd': 0, 'image_id': 51, 'bbox': [337.17580413079213, 220.33820795879728, 62.30297234299951, 127.31476957047767], 'segmentation': [[337, 220, 337, 347, 399, 347, 399, 220]], 'category_id': 6, 'id': 76, 'area': 7932}, {'iscrowd': 0, 'image_id': 51, 'bbox': [45.15747535169612, 306.3189866725777, 6.8089469750129865, 5.512004694058078], 'segmentation': [[45, 306, 45, 311, 51, 311, 51, 306]], 'category_id': 7, 'id': 77, 'area': 37}, {'iscrowd': 0, 'image_id': 51, 'bbox': [32.112481660849426, 232.76349958215496, 22.976123641906725, 18.380898913525243], 'segmentation': [[32, 232, 32, 251, 55, 251, 55, 232]], 'category_id': 6, 'id': 78, 'area': 422}, {'iscrowd': 0, 'image_id': 53, 'bbox': [453.47249729899295, 459.44624157058956, 7.58212080182966, 21.482675605182976], 'segmentation': [[453, 459, 453, 480, 461, 480, 461, 459]], 'category_id': 7, 'id': 79, 'area': 162}, {'iscrowd': 0, 'image_id': 53, 'bbox': [247.81209607741266, 43.14274745277794, 5.6965595806382225, 6.171272879024627], 'segmentation': [[247, 43, 247, 49, 253, 49, 253, 43]], 'category_id': 7, 'id': 80, 'area': 35}, {'iscrowd': 0, 'image_id': 53, 'bbox': [135.779757658197, 66.87841237210341, 5.6965595806382225, 5.22184628225159], 'segmentation': [[135, 66, 135, 72, 141, 72, 141, 66]], 'category_id': 7, 'id': 81, 'area': 29}, {'iscrowd': 0, 'image_id': 55, 'bbox': [537.7256988793838, 408.4948949936452, 65.68081647358667, 36.40684021509287], 'segmentation': [[537, 408, 537, 444, 603, 444, 603, 408]], 'category_id': 6, 'id': 82, 'area': 2391}, {'iscrowd': 0, 'image_id': 56, 'bbox': [153.7256988793838, 408.4948949936452, 65.68081647358667, 36.40684021509287], 'segmentation': [[153, 408, 153, 444, 219, 444, 219, 408]], 'category_id': 6, 'id': 83, 'area': 2391}, {'iscrowd': 0, 'image_id': 58, 'bbox': [526.237899018503, 396.07306878597296, 28.532730181007082, 14.266365090503768], 'segmentation': [[526, 396, 526, 410, 554, 410, 554, 396]], 'category_id': 6, 'id': 84, 'area': 407}, {'iscrowd': 0, 'image_id': 59, 'bbox': [14.237899018502958, 396.07306878597296, 28.532730181007082, 14.266365090503768], 'segmentation': [[14, 396, 14, 410, 42, 410, 42, 396]], 'category_id': 6, 'id': 85, 'area': 407}, {'iscrowd': 0, 'image_id': 59, 'bbox': [620.3494284736798, 374.13218246951124, 19.650571526320164, 30.581220567378068], 'segmentation': [[620, 374, 620, 404, 640, 404, 640, 374]], 'category_id': 5, 'id': 86, 'area': 600}, {'iscrowd': 0, 'image_id': 60, 'bbox': [108.34942847367984, 374.13218246951124, 28.49613734687523, 30.581220567378068], 'segmentation': [[108, 374, 108, 404, 136, 404, 136, 374]], 'category_id': 5, 'id': 87, 'area': 871}, {'iscrowd': 0, 'image_id': 61, 'bbox': [453.47249729899295, 123.44624157058956, 7.58212080182966, 21.482675605182976], 'segmentation': [[453, 123, 453, 144, 461, 144, 461, 123]], 'category_id': 7, 'id': 88, 'area': 162}, {'iscrowd': 0, 'image_id': 63, 'bbox': [537.7256988793838, 72.49489499364518, 65.68081647358667, 36.40684021509287], 'segmentation': [[537, 72, 537, 108, 603, 108, 603, 72]], 'category_id': 6, 'id': 89, 'area': 2391}, {'iscrowd': 0, 'image_id': 64, 'bbox': [153.7256988793838, 72.49489499364518, 65.68081647358667, 36.40684021509287], 'segmentation': [[153, 72, 153, 108, 219, 108, 219, 72]], 'category_id': 6, 'id': 90, 'area': 2391}], 'categories': [{'id': 0, 'name': 'blocked_valve'}, {'id': 1, 'name': 'bubble'}, {'id': 2, 'name': 'chip_crack'}, {'id': 3, 'name': 'excessive_flash'}, {'id': 4, 'name': 'improper_welding'}, {'id': 5, 'name': 'light_stain'}, {'id': 6, 'name': 'line_crack'}, {'id': 7, 'name': 'particle_material'}, {'id': 8, 'name': 'residue_stain'}, {'id': 9, 'name': 'unknown'}, {'id': 10, 'name': 'welding_blob'}]}\n",
      "\n",
      "Keys in original dataset: dict_keys(['images', 'annotations', 'categories'])\n",
      "Keys in sliced dataset: dict_keys(['images', 'annotations', 'categories'])\n",
      "Sample data from original dataset: [{'id': 98, 'image_id': 4, 'category_id': 5, 'segmentation': [], 'bbox': [2214.833880112831, 223.5076988929449, 21.737717054118985, 45.54569287529642], 'ignore': 0, 'iscrowd': 0, 'area': 990.0593847569965}, {'id': 99, 'image_id': 4, 'category_id': 5, 'segmentation': [], 'bbox': [2729.2931837269757, 203.84024060588504, 28.983622738824923, 38.29978719059021], 'ignore': 0, 'iscrowd': 0, 'area': 1110.066582909346}]\n",
      "Sample data from sliced dataset: [{'iscrowd': 0, 'image_id': 2, 'bbox': [554.8418007680132, 588.0255901600613, 9.179005312755862, 12.37170281284466], 'segmentation': [[554, 588, 554, 600, 564, 600, 564, 588]], 'category_id': 7, 'id': 1, 'area': 113}, {'iscrowd': 0, 'image_id': 2, 'bbox': [530.8496774246828, 615.4772707374756, 55.79347377223826, 24.52272926252442], 'segmentation': [[586, 615, 530, 615, 530, 640, 586, 640]], 'category_id': 9, 'id': 2, 'area': 1368}]\n"
     ]
    }
   ],
   "source": [
    "coco_file_name = 'cassette1_val'\n",
    "base_path = \"../data/coco/\"\n",
    "\n",
    "with open(f\"{base_path}{coco_file_name}_corrected_coco.json\") as f:\n",
    "    original_annotations = json.load(f)\n",
    "\n",
    "with open(f\"{base_path}{coco_file_name}_sliced_coco.json\") as f:\n",
    "    sliced_annotations = json.load(f)\n",
    "\n",
    "coco_original = COCO(f\"{base_path}{coco_file_name}_corrected_coco.json\")\n",
    "coco_sliced = COCO(f\"{base_path}{coco_file_name}_sliced_coco.json\")\n",
    "\n",
    "print(original_annotations)\n",
    "print(sliced_annotations)\n",
    "\n",
    "# Inspect the structure of both datasets to ensure they are loaded correctly\n",
    "print(\"\\nKeys in original dataset:\", original_annotations.keys())\n",
    "print(\"Keys in sliced dataset:\", sliced_annotations.keys())\n",
    "print(\"Sample data from original dataset:\", original_annotations['annotations'][:2])\n",
    "print(\"Sample data from sliced dataset:\", sliced_annotations['annotations'][:2])"
   ]
  },
  {
   "cell_type": "markdown",
   "metadata": {},
   "source": [
    "# Count Checker"
   ]
  },
  {
   "cell_type": "code",
   "execution_count": 51,
   "metadata": {},
   "outputs": [
    {
     "name": "stdout",
     "output_type": "stream",
     "text": [
      "loading annotations into memory...\n",
      "Done (t=0.00s)\n",
      "creating index...\n",
      "index created!\n",
      "loading annotations into memory...\n",
      "Done (t=0.00s)\n",
      "creating index...\n",
      "index created!\n",
      "Counter({6: 22, 7: 18, 9: 5, 5: 4, 0: 1, 1: 1})\n",
      "Counter({7: 34, 6: 33, 9: 14, 5: 6, 0: 2, 1: 1})\n"
     ]
    }
   ],
   "source": [
    "# Calculate total counts for original and sliced datasets\n",
    "original_counts = calculate_class_counts(coco_original)\n",
    "sliced_counts = calculate_class_counts(coco_sliced)\n",
    "\n",
    "coco_original = COCO(f\"{base_path}{coco_file_name}_corrected_coco.json\")\n",
    "coco_sliced = COCO(f\"{base_path}{coco_file_name}_sliced_coco.json\")\n",
    "\n",
    "category_mapping = {cat['id']: cat['name'] for cat in coco_original.loadCats(coco_original.getCatIds())}\n",
    "\n",
    "all_areas = [calculate_area(ann['bbox']) for ann in original_annotations['annotations']]\n",
    "small_threshold, medium_threshold = np.percentile(all_areas, 33), np.percentile(all_areas, 66)\n",
    "\n",
    "original_bbox_data = create_bbox_size_data(original_annotations, category_mapping, small_threshold, medium_threshold)\n",
    "sliced_bbox_data = create_bbox_size_data(sliced_annotations, category_mapping, small_threshold, medium_threshold)\n",
    "\n",
    "unique_annotations, removed_ids = remove_duplicate_bboxes(sliced_annotations['annotations'], iou_threshold=0.7)\n",
    "sliced_annotations['annotations'] = unique_annotations\n",
    "\n",
    "print(original_counts)\n",
    "print(sliced_counts)"
   ]
  },
  {
   "cell_type": "code",
   "execution_count": 52,
   "metadata": {},
   "outputs": [
    {
     "name": "stdout",
     "output_type": "stream",
     "text": [
      "Category Mapping:  {0: 'blocked_valve', 1: 'bubble', 5: 'light_stain', 6: 'line_crack', 7: 'particle_material', 9: 'unknown'}\n",
      "Bounding Box Counts in Original Dataset: {'blocked_valve': 1, 'bubble': 1, 'light_stain': 4, 'line_crack': 22, 'particle_material': 18, 'unknown': 5}\n",
      "Bounding Box Counts in Sliced Dataset: {'blocked_valve': 2, 'bubble': 1, 'light_stain': 6, 'line_crack': 33, 'particle_material': 34, 'unknown': 14}\n"
     ]
    }
   ],
   "source": [
    "# Map category IDs to names for readability\n",
    "category_mapping = {cat['id']: cat['name'] for cat in coco_original.loadCats(original_counts.keys())}\n",
    "original_counts_named = {category_mapping[k]: v for k, v in original_counts.items()}\n",
    "sliced_counts_named = {category_mapping.get(k, 'Unknown'): v for k, v in sliced_counts.items()}\n",
    "\n",
    "print(\"Category Mapping: \",category_mapping)\n",
    "print(\"Bounding Box Counts in Original Dataset:\", original_counts_named)\n",
    "print(\"Bounding Box Counts in Sliced Dataset:\", sliced_counts_named)"
   ]
  },
  {
   "cell_type": "code",
   "execution_count": 53,
   "metadata": {},
   "outputs": [
    {
     "name": "stdout",
     "output_type": "stream",
     "text": [
      "\n",
      "Total bounding boxes in the original dataset: 51\n",
      "Total bounding boxes in the sliced dataset: 90\n"
     ]
    }
   ],
   "source": [
    "# Calculate the total number of bounding boxes across all defect types\n",
    "total_original_bboxes = sum(original_counts.values())\n",
    "total_sliced_bboxes = sum(sliced_counts.values())\n",
    "\n",
    "print(f\"\\nTotal bounding boxes in the original dataset: {total_original_bboxes}\")\n",
    "print(f\"Total bounding boxes in the sliced dataset: {total_sliced_bboxes}\")"
   ]
  },
  {
   "cell_type": "code",
   "execution_count": 54,
   "metadata": {},
   "outputs": [
    {
     "name": "stdout",
     "output_type": "stream",
     "text": [
      "Defect types in the original dataset: {0, 1, 5, 6, 7, 9}\n",
      "Defect types in the sliced dataset: {0, 1, 5, 6, 7, 9}\n",
      "All defect types in the sliced dataset are also present in the original dataset.\n"
     ]
    }
   ],
   "source": [
    "\n",
    "# Check unique defect types in each dataset\n",
    "original_defect_types = {ann['category_id'] for ann in original_annotations['annotations']}\n",
    "sliced_defect_types = {ann['category_id'] for ann in sliced_annotations['annotations']}\n",
    "\n",
    "print(\"Defect types in the original dataset:\", original_defect_types)\n",
    "print(\"Defect types in the sliced dataset:\", sliced_defect_types)\n",
    "\n",
    "# Ensure that all defect types in the sliced dataset exist in the original dataset\n",
    "unexpected_defects = sliced_defect_types - original_defect_types\n",
    "if unexpected_defects:\n",
    "    print(\"Warning: These defect types appear in the sliced dataset but not in the original dataset:\", unexpected_defects)\n",
    "else:\n",
    "    print(\"All defect types in the sliced dataset are also present in the original dataset.\")"
   ]
  },
  {
   "cell_type": "code",
   "execution_count": 55,
   "metadata": {},
   "outputs": [
    {
     "name": "stdout",
     "output_type": "stream",
     "text": [
      "Class Imbalance in Original Annotations:\n",
      "blocked_valve: 1\n",
      "bubble: 1\n",
      "light_stain: 4\n",
      "line_crack: 22\n",
      "particle_material: 18\n",
      "unknown: 5\n",
      "\n",
      "Class Imbalance in Sliced Annotations:\n",
      "blocked_valve: 2\n",
      "bubble: 1\n",
      "light_stain: 6\n",
      "line_crack: 33\n",
      "particle_material: 34\n",
      "unknown: 14\n"
     ]
    }
   ],
   "source": [
    "print(\"Class Imbalance in Original Annotations:\")\n",
    "for cat_id, count in original_counts.items():\n",
    "    print(f\"{category_mapping[cat_id]}: {count}\")\n",
    "\n",
    "print(\"\\nClass Imbalance in Sliced Annotations:\")\n",
    "for cat_id, count in sliced_counts.items():\n",
    "    print(f\"{category_mapping[cat_id]}: {count}\")"
   ]
  },
  {
   "cell_type": "code",
   "execution_count": 56,
   "metadata": {},
   "outputs": [
    {
     "name": "stdout",
     "output_type": "stream",
     "text": [
      "Class Imbalance Comparison\n",
      "      Defect Type  Original Count  Sliced Count\n",
      "    blocked_valve               1             2\n",
      "           bubble               1             1\n",
      "      light_stain               4             6\n",
      "       line_crack              22            33\n",
      "particle_material              18            34\n",
      "          unknown               5            14\n"
     ]
    }
   ],
   "source": [
    "# Convert counts into DataFrame format\n",
    "data = {\n",
    "    \"Defect Type\": [category_mapping[cat_id] for cat_id in original_counts.keys()],\n",
    "    \"Original Count\": [original_counts[cat_id] for cat_id in original_counts.keys()],\n",
    "    \"Sliced Count\": [sliced_counts.get(cat_id, 0) for cat_id in original_counts.keys()]\n",
    "}\n",
    "\n",
    "df = pd.DataFrame(data)\n",
    "\n",
    "print(\"Class Imbalance Comparison\")\n",
    "print(df.to_string(index=False))"
   ]
  },
  {
   "cell_type": "markdown",
   "metadata": {},
   "source": [
    "#### Interpretation\n",
    "\n",
    "- **Class Imbalance Remains**: In both the original and sliced datasets, certain defects, like `line_crack` and `particle_material`, are **more** **common** than others, like `chip_crack` and `light_stain`.\n",
    "\n",
    "- **Increased Counts After Slicing**: For most classes (except `light_stain` and `chip_crack`), slicing increased the counts, which is good for adding examples. However, rare defects like `chip_crack` still have only 1 instance."
   ]
  },
  {
   "cell_type": "markdown",
   "metadata": {},
   "source": [
    "## Bounding Box Size Checker"
   ]
  },
  {
   "cell_type": "code",
   "execution_count": 57,
   "metadata": {},
   "outputs": [
    {
     "name": "stdout",
     "output_type": "stream",
     "text": [
      "Small Threshold:  250.12635587586595\n",
      "Medium Threshold:  953.813782137882\n",
      "All Areas:  [990.0593847569965, 1110.066582909346, 282.87410993056216, 56.33275559766667, 900.3757195004466, 906.7840238195217, 1042.1911786788512, 603.3301968299852, 529.317463279127, 642.8957043876513, 754.9425645364165, 197.72805826358837, 953.813782137882, 489.45707241286266, 47.601199211601596, 3128.9597991885657, 113.55992584693855, 11435.185893943242, 14593.475331318026, 14686.47659130488, 82.62137487657748, 494.65708503305996, 63.76438986754367, 35.1550236437419, 27.22455574764209, 19.293073369316055, 80.28010200613629, 187.33935232430693, 3629.448557420617, 2397.237127632902, 432.8390548598679, 726.7066299716221, 2155.061040605481, 60.13361926459078, 4175.623823354017, 415.86497427712925, 7879.924412757136, 982.0961624978435, 7932.0885674048195, 407.0583457910841, 162.88424158501132, 217.37860182116972, 1463.682585595875, 355.5347798675234, 1704.2482382779692, 37.53094768786432, 422.3218060865453, 871.4466615230926, 35.15502364374001, 29.746558467780776, 2391.230990550703]\n"
     ]
    }
   ],
   "source": [
    "# Function to calculate bounding box area\n",
    "def calculate_area(bbox):\n",
    "    return bbox[2] * bbox[3]  # width * height\n",
    "\n",
    "# Collect all bounding box areas from the original dataset\n",
    "all_areas = [calculate_area(ann['bbox']) for ann in original_annotations['annotations']]\n",
    "\n",
    "# Calculate dynamic thresholds based on percentiles\n",
    "small_threshold = np.percentile(all_areas, 33)\n",
    "medium_threshold = np.percentile(all_areas, 66)\n",
    "\n",
    "print(\"Small Threshold: \", small_threshold)\n",
    "print(\"Medium Threshold: \", medium_threshold)\n",
    "print(\"All Areas: \", all_areas)"
   ]
  },
  {
   "cell_type": "markdown",
   "metadata": {},
   "source": [
    "### Functions\n",
    "\n",
    "Benefits of Dynamic Thresholds\n",
    "1. **Adaptability**: Since the thresholds are derived from the dataset, they better represent the natural distribution of bounding box sizes.\n",
    "2. **Scalability**: This approach automatically adjusts if the dataset grows or changes in defect types and bounding box sizes."
   ]
  },
  {
   "cell_type": "code",
   "execution_count": 58,
   "metadata": {},
   "outputs": [
    {
     "name": "stdout",
     "output_type": "stream",
     "text": [
      "Grouped by Dynamic Bounding Box Size Category\n",
      "          Defect Type Size Category  Original Count  Sliced Count\n",
      "0       blocked_valve         Large               1             2\n",
      "1              bubble         Small               1             1\n",
      "2         light_stain         Large               2             2\n",
      "3         light_stain        Medium               2             4\n",
      "4          line_crack         Large              10            15\n",
      "5          line_crack        Medium              11            16\n",
      "6          line_crack         Small               1             2\n",
      "7   particle_material        Medium               3             5\n",
      "8   particle_material         Small              15            29\n",
      "9             unknown         Large               4            10\n",
      "10            unknown        Medium               1             4\n"
     ]
    }
   ],
   "source": [
    "original_bbox_df = pd.DataFrame(original_bbox_data)\n",
    "sliced_bbox_df = pd.DataFrame(sliced_bbox_data)\n",
    "\n",
    "# Group by defect type and size category, counting occurrences\n",
    "grouped_original_bbox_df = original_bbox_df.groupby(['Defect Type', 'Size Category']).size().reset_index(name='Original Count')\n",
    "grouped_sliced_bbox_df = sliced_bbox_df.groupby(['Defect Type', 'Size Category']).size().reset_index(name='Sliced Count')\n",
    "\n",
    "# Merge original and sliced data on defect type and size category\n",
    "merged_bbox_df = pd.merge(grouped_original_bbox_df, grouped_sliced_bbox_df, on=['Defect Type', 'Size Category'], how='outer').fillna(0)\n",
    "\n",
    "# Converting the count to integers\n",
    "merged_bbox_df['Original Count'] = merged_bbox_df['Original Count'].astype(int)\n",
    "merged_bbox_df['Sliced Count'] = merged_bbox_df['Sliced Count'].astype(int)\n",
    "\n",
    "print(\"Grouped by Dynamic Bounding Box Size Category\")\n",
    "print(merged_bbox_df)"
   ]
  },
  {
   "cell_type": "code",
   "execution_count": 59,
   "metadata": {},
   "outputs": [],
   "source": [
    "def calculate_iou(boxA, boxB):\n",
    "    xA = max(boxA[0], boxB[0])\n",
    "    yA = max(boxA[1], boxB[1])\n",
    "    xB = min(boxA[0] + boxA[2], boxB[0] + boxB[2])\n",
    "    yB = min(boxA[1] + boxA[3], boxB[1] + boxB[3])\n",
    "\n",
    "    inter_width = max(0, xB - xA)\n",
    "    inter_height = max(0, yB - yA)\n",
    "    inter_area = inter_width * inter_height\n",
    "\n",
    "    boxA_area = boxA[2] * boxA[3]\n",
    "    boxB_area = boxB[2] * boxB[3]\n",
    "\n",
    "    iou = inter_area / float(boxA_area + boxB_area - inter_area)\n",
    "    return iou\n",
    "\n",
    "def remove_duplicate_bboxes(annotations, iou_threshold=0.7):\n",
    "    # Dictionary to keep unique annotations\n",
    "    unique_annotations = []\n",
    "    # Set to track which annotation IDs have been removed\n",
    "    removed_ids = set()\n",
    "    \n",
    "    # Group annotations by category_id\n",
    "    category_groups = defaultdict(list)\n",
    "    for ann in annotations:\n",
    "        category_groups[ann['category_id']].append(ann)\n",
    "\n",
    "    # Loop through each category's annotations to detect duplicates\n",
    "    for cat_id, bboxes in category_groups.items():\n",
    "        # Compare each pair of bounding boxes within the same category\n",
    "        for i in range(len(bboxes)):\n",
    "            for j in range(i + 1, len(bboxes)):\n",
    "                # Skip if either bounding box has already been marked as duplicate\n",
    "                if bboxes[i]['id'] in removed_ids or bboxes[j]['id'] in removed_ids:\n",
    "                    continue\n",
    "                \n",
    "                bboxA = bboxes[i]['bbox']\n",
    "                bboxB = bboxes[j]['bbox']\n",
    "                iou = calculate_iou(bboxA, bboxB)\n",
    "                \n",
    "                if iou > iou_threshold:\n",
    "                    # Mark the second bounding box as duplicate\n",
    "                    removed_ids.add(bboxes[j]['id'])\n",
    "\n",
    "    # Collect annotations that are not marked as duplicates\n",
    "    unique_annotations = [ann for ann in annotations if ann['id'] not in removed_ids]\n",
    "    \n",
    "    return unique_annotations, removed_ids"
   ]
  },
  {
   "cell_type": "code",
   "execution_count": 60,
   "metadata": {},
   "outputs": [
    {
     "name": "stdout",
     "output_type": "stream",
     "text": [
      "Class Imbalance by Size Category\n",
      "           Defect Type Size Category  Original Count  Sliced Count  \\\n",
      "0       blocked_valve         Large               1             2   \n",
      "1       blocked_valve        Medium               0             0   \n",
      "2       blocked_valve         Small               0             0   \n",
      "3              bubble         Large               0             0   \n",
      "4              bubble        Medium               0             0   \n",
      "5              bubble         Small               1             1   \n",
      "6         light_stain         Large               2             2   \n",
      "7         light_stain        Medium               2             4   \n",
      "8         light_stain         Small               0             0   \n",
      "9          line_crack         Large              10            15   \n",
      "10         line_crack        Medium              11            16   \n",
      "11         line_crack         Small               1             2   \n",
      "12  particle_material         Large               0             0   \n",
      "13  particle_material        Medium               3             5   \n",
      "14  particle_material         Small              15            29   \n",
      "15            unknown         Large               4            10   \n",
      "16            unknown        Medium               1             4   \n",
      "17            unknown         Small               0             0   \n",
      "\n",
      "    Deduplicated Sliced Count  \n",
      "0                           2  \n",
      "1                           0  \n",
      "2                           0  \n",
      "3                           0  \n",
      "4                           0  \n",
      "5                           1  \n",
      "6                           2  \n",
      "7                           4  \n",
      "8                           0  \n",
      "9                          15  \n",
      "10                         16  \n",
      "11                          2  \n",
      "12                          0  \n",
      "13                          5  \n",
      "14                         29  \n",
      "15                         10  \n",
      "16                          4  \n",
      "17                          0  \n"
     ]
    }
   ],
   "source": [
    "original_size_counts = calculate_size_category_counts(original_bbox_data)\n",
    "sliced_size_counts = calculate_size_category_counts(sliced_bbox_data)\n",
    "deduped_size_counts = calculate_size_category_counts(create_bbox_size_data(sliced_annotations, category_mapping, small_threshold, medium_threshold))\n",
    "\n",
    "size_data = [\n",
    "    {\n",
    "        \"Defect Type\": defect_type,\n",
    "        \"Size Category\": size_category,\n",
    "        \"Original Count\": original_size_counts[defect_type].get(size_category, 0),\n",
    "        \"Sliced Count\": sliced_size_counts[defect_type].get(size_category, 0),\n",
    "        \"Deduplicated Sliced Count\": deduped_size_counts[defect_type].get(size_category, 0),\n",
    "    }\n",
    "    for defect_type in category_mapping.values()\n",
    "    for size_category in [\"Small\", \"Medium\", \"Large\"]\n",
    "]\n",
    "\n",
    "df = pd.DataFrame(size_data).sort_values(by=[\"Defect Type\", \"Size Category\"]).reset_index(drop=True)\n",
    "print(\"Class Imbalance by Size Category\\n\", df)"
   ]
  },
  {
   "cell_type": "code",
   "execution_count": 61,
   "metadata": {},
   "outputs": [
    {
     "name": "stdout",
     "output_type": "stream",
     "text": [
      "Class Imbalance After Deduplication\n",
      "         Defect Type  Bounding Box Count\n",
      "0  particle_material                  34\n",
      "1         line_crack                  33\n",
      "2            unknown                  14\n",
      "3        light_stain                   6\n",
      "4      blocked_valve                   2\n",
      "5             bubble                   1\n"
     ]
    }
   ],
   "source": [
    "def calculate_class_counts_deduped(annotations, category_mapping):\n",
    "    bbox_counts = Counter(ann['category_id'] for ann in annotations)\n",
    "    return {category_mapping[cat_id]: count for cat_id, count in bbox_counts.items()}\n",
    "\n",
    "# Calculate class counts on deduplicated annotations\n",
    "deduped_counts = calculate_class_counts_deduped(unique_annotations, category_mapping)\n",
    "\n",
    "# Display the class imbalance in a DataFrame format\n",
    "deduped_counts_df = pd.DataFrame(list(deduped_counts.items()), columns=['Defect Type', 'Bounding Box Count'])\n",
    "deduped_counts_df = deduped_counts_df.sort_values(by=\"Bounding Box Count\", ascending=False).reset_index(drop=True)\n",
    "\n",
    "print(\"Class Imbalance After Deduplication\")\n",
    "print(deduped_counts_df)"
   ]
  },
  {
   "cell_type": "code",
   "execution_count": 66,
   "metadata": {},
   "outputs": [
    {
     "name": "stdout",
     "output_type": "stream",
     "text": [
      "\n",
      "Defect Type Scale Classification (Original)\n",
      "          Defect Type  Median Bounding Box Size Scale Classification\n",
      "0      blocked_valve              14686.476591          Large Scale\n",
      "1            unknown               7879.924413          Large Scale\n",
      "2        light_stain                930.753023          Large Scale\n",
      "3         line_crack                930.298903          Small Scale\n",
      "4             bubble                217.378602          Small Scale\n",
      "5  particle_material                 61.949005          Small Scale\n",
      "\n",
      "Defect Type Scale Classification (Sliced)\n",
      "          Defect Type  Median Bounding Box Size Scale Classification\n",
      "0      blocked_valve              11270.149334          Large Scale\n",
      "1            unknown               1985.273988          Large Scale\n",
      "2         line_crack                906.784024          Large Scale\n",
      "3        light_stain                736.192562          Small Scale\n",
      "4             bubble                217.378602          Small Scale\n",
      "5  particle_material                 61.949005          Small Scale\n"
     ]
    }
   ],
   "source": [
    "def calculate_median_bbox_size(annotations, category_mapping):\n",
    "    bbox_sizes = defaultdict(list)\n",
    "    for ann in annotations['annotations']:\n",
    "        bbox_sizes[category_mapping[ann['category_id']]].append(calculate_area(ann['bbox']))\n",
    "    return {defect_type: np.median(sizes) if sizes else 0 for defect_type, sizes in bbox_sizes.items()}\n",
    "\n",
    "def classify_defect_scale(median_bbox_sizes):\n",
    "    size_threshold = np.median([size for size in median_bbox_sizes.values() if size > 0])\n",
    "    return {defect_type: \"Large Scale\" if size > size_threshold else \"Small Scale\" for defect_type, size in median_bbox_sizes.items()}\n",
    "\n",
    "with open(f\"{base_path}{coco_file_name}_sliced_coco.json\", \"w\") as f:\n",
    "        json.dump(sliced_annotations, f)\n",
    "\n",
    "median_bbox_sizes_original = calculate_median_bbox_size(original_annotations, category_mapping)\n",
    "median_bbox_sizes_sliced = calculate_median_bbox_size(sliced_annotations, category_mapping)\n",
    "\n",
    "scale_classification_original = classify_defect_scale(median_bbox_sizes_original)\n",
    "scale_classification_sliced = classify_defect_scale(median_bbox_sizes_sliced)\n",
    "\n",
    "scale_data_original = [\n",
    "    {\"Defect Type\": defect_type, \"Median Bounding Box Size\": median_size, \"Scale Classification\": scale_classification_original[defect_type]}\n",
    "    for defect_type, median_size in median_bbox_sizes_original.items()\n",
    "]\n",
    "\n",
    "scale_data_sliced = [\n",
    "    {\"Defect Type\": defect_type, \"Median Bounding Box Size\": median_size, \"Scale Classification\": scale_classification_sliced[defect_type]}\n",
    "    for defect_type, median_size in median_bbox_sizes_sliced.items()\n",
    "]\n",
    "\n",
    "df_original = pd.DataFrame(scale_data_original).sort_values(by=\"Median Bounding Box Size\", ascending=False).reset_index(drop=True)\n",
    "df_sliced = pd.DataFrame(scale_data_sliced).sort_values(by=\"Median Bounding Box Size\", ascending=False).reset_index(drop=True)\n",
    "\n",
    "print(\"\\nDefect Type Scale Classification (Original)\\n\", df_original)\n",
    "print(\"\\nDefect Type Scale Classification (Sliced)\\n\", df_sliced)\n"
   ]
  },
  {
   "cell_type": "markdown",
   "metadata": {},
   "source": [
    "transfer"
   ]
  },
  {
   "cell_type": "code",
   "execution_count": 65,
   "metadata": {},
   "outputs": [
    {
     "name": "stdout",
     "output_type": "stream",
     "text": [
      "File moved to ../data/coco/val\\cassette1_val_corrected_coco.json\n"
     ]
    }
   ],
   "source": [
    "import shutil\n",
    "\n",
    "def move_coco_file(coco_file_name, source_dir=base_path):\n",
    "    # Automatically determine target split based on coco_file_name\n",
    "    if \"train\" in coco_file_name.lower():\n",
    "        target_split = \"train\"\n",
    "    elif \"test\" in coco_file_name.lower():\n",
    "        target_split = \"test\"\n",
    "    elif \"val\" in coco_file_name.lower():\n",
    "        target_split = \"val\"\n",
    "    else:\n",
    "        print(\"Unable to determine target split from coco_file_name.\")\n",
    "        return\n",
    "\n",
    "    # Define source and destination paths\n",
    "    source_path = os.path.join(source_dir, f\"{coco_file_name}_sliced_coco.json\")\n",
    "    destination_path = os.path.join(source_dir, target_split, f\"{coco_file_name}_sliced_coco.json\")\n",
    "\n",
    "    # Check if source file exists\n",
    "    if not os.path.exists(source_path):\n",
    "        print(f\"Source file {source_path} does not exist.\")\n",
    "        return\n",
    "\n",
    "    # Ensure target directory exists\n",
    "    os.makedirs(os.path.dirname(destination_path), exist_ok=True)\n",
    "\n",
    "    # Move the file\n",
    "    shutil.move(source_path, destination_path)\n",
    "\n",
    "    source_path = os.path.join(source_dir, f\"{coco_file_name}_corrected_coco.json\")\n",
    "    destination_path = os.path.join(source_dir, target_split, f\"{coco_file_name}_corrected_coco.json\")\n",
    "\n",
    "    # Check if source file exists\n",
    "    if not os.path.exists(source_path):\n",
    "        print(f\"Source file {source_path} does not exist.\")\n",
    "        return\n",
    "\n",
    "    # Ensure target directory exists\n",
    "    os.makedirs(os.path.dirname(destination_path), exist_ok=True)\n",
    "\n",
    "    # Move the file\n",
    "    shutil.move(source_path, destination_path)\n",
    "    print(f\"File moved to {destination_path}\")\n",
    "\n",
    "    \n",
    "\n",
    "move_coco_file(coco_file_name)"
   ]
  },
  {
   "cell_type": "code",
   "execution_count": 76,
   "metadata": {},
   "outputs": [
    {
     "name": "stdout",
     "output_type": "stream",
     "text": [
      "          Defect Type Size Category  Original Count  Sliced Count  \\\n",
      "0       blocked_valve         Large               1             2   \n",
      "1       blocked_valve        Medium               0             0   \n",
      "2       blocked_valve         Small               0             0   \n",
      "3              bubble         Large               0             0   \n",
      "4              bubble        Medium               0             0   \n",
      "5              bubble         Small               1             1   \n",
      "6         light_stain         Large               2             2   \n",
      "7         light_stain        Medium               2             4   \n",
      "8         light_stain         Small               0             0   \n",
      "9          line_crack         Large              10            15   \n",
      "10         line_crack        Medium              11            16   \n",
      "11         line_crack         Small               1             2   \n",
      "12  particle_material         Large               0             0   \n",
      "13  particle_material        Medium               3             5   \n",
      "14  particle_material         Small              15            29   \n",
      "15            unknown         Large               4            10   \n",
      "16            unknown        Medium               1             4   \n",
      "17            unknown         Small               0             0   \n",
      "\n",
      "    Deduplicated Sliced Count  \n",
      "0                           2  \n",
      "1                           0  \n",
      "2                           0  \n",
      "3                           0  \n",
      "4                           0  \n",
      "5                           1  \n",
      "6                           2  \n",
      "7                           4  \n",
      "8                           0  \n",
      "9                          15  \n",
      "10                         16  \n",
      "11                          2  \n",
      "12                          0  \n",
      "13                          5  \n",
      "14                         29  \n",
      "15                         10  \n",
      "16                          4  \n",
      "17                          0  \n",
      "         Defect Type  Median Bounding Box Size Scale Classification\n",
      "0      blocked_valve              14686.476591          Large Scale\n",
      "1            unknown               7879.924413          Large Scale\n",
      "2        light_stain                930.753023          Large Scale\n",
      "3         line_crack                930.298903          Small Scale\n",
      "4             bubble                217.378602          Small Scale\n",
      "5  particle_material                 61.949005          Small Scale\n",
      "         Defect Type  Median Bounding Box Size Scale Classification\n",
      "0      blocked_valve              11270.149334          Large Scale\n",
      "1            unknown               1985.273988          Large Scale\n",
      "2         line_crack                906.784024          Large Scale\n",
      "3        light_stain                736.192562          Small Scale\n",
      "4             bubble                217.378602          Small Scale\n",
      "5  particle_material                 61.949005          Small Scale\n"
     ]
    }
   ],
   "source": [
    "# Saving all the dfs\n",
    "print(df)\n",
    "print(df_original)\n",
    "print(df_sliced)"
   ]
  },
  {
   "cell_type": "code",
   "execution_count": 77,
   "metadata": {},
   "outputs": [
    {
     "ename": "OSError",
     "evalue": "[Errno 22] Invalid argument: 'cassette1_val_imbalance.csv'",
     "output_type": "error",
     "traceback": [
      "\u001b[1;31m---------------------------------------------------------------------------\u001b[0m",
      "\u001b[1;31mOSError\u001b[0m                                   Traceback (most recent call last)",
      "Cell \u001b[1;32mIn[77], line 1\u001b[0m\n\u001b[1;32m----> 1\u001b[0m \u001b[43mdf\u001b[49m\u001b[38;5;241;43m.\u001b[39;49m\u001b[43mto_csv\u001b[49m\u001b[43m(\u001b[49m\u001b[38;5;124;43mf\u001b[39;49m\u001b[38;5;124;43m'\u001b[39;49m\u001b[38;5;132;43;01m{\u001b[39;49;00m\u001b[43mcoco_file_name\u001b[49m\u001b[38;5;132;43;01m}\u001b[39;49;00m\u001b[38;5;124;43m_imbalance.csv\u001b[39;49m\u001b[38;5;124;43m'\u001b[39;49m\u001b[43m,\u001b[49m\u001b[43m \u001b[49m\u001b[43mindex\u001b[49m\u001b[38;5;241;43m=\u001b[39;49m\u001b[38;5;28;43;01mFalse\u001b[39;49;00m\u001b[43m)\u001b[49m\n",
      "File \u001b[1;32me:\\GitHub_Repos\\mitl_detect_inspection\\.venv\\Lib\\site-packages\\pandas\\util\\_decorators.py:333\u001b[0m, in \u001b[0;36mdeprecate_nonkeyword_arguments.<locals>.decorate.<locals>.wrapper\u001b[1;34m(*args, **kwargs)\u001b[0m\n\u001b[0;32m    327\u001b[0m \u001b[38;5;28;01mif\u001b[39;00m \u001b[38;5;28mlen\u001b[39m(args) \u001b[38;5;241m>\u001b[39m num_allow_args:\n\u001b[0;32m    328\u001b[0m     warnings\u001b[38;5;241m.\u001b[39mwarn(\n\u001b[0;32m    329\u001b[0m         msg\u001b[38;5;241m.\u001b[39mformat(arguments\u001b[38;5;241m=\u001b[39m_format_argument_list(allow_args)),\n\u001b[0;32m    330\u001b[0m         \u001b[38;5;167;01mFutureWarning\u001b[39;00m,\n\u001b[0;32m    331\u001b[0m         stacklevel\u001b[38;5;241m=\u001b[39mfind_stack_level(),\n\u001b[0;32m    332\u001b[0m     )\n\u001b[1;32m--> 333\u001b[0m \u001b[38;5;28;01mreturn\u001b[39;00m \u001b[43mfunc\u001b[49m\u001b[43m(\u001b[49m\u001b[38;5;241;43m*\u001b[39;49m\u001b[43margs\u001b[49m\u001b[43m,\u001b[49m\u001b[43m \u001b[49m\u001b[38;5;241;43m*\u001b[39;49m\u001b[38;5;241;43m*\u001b[39;49m\u001b[43mkwargs\u001b[49m\u001b[43m)\u001b[49m\n",
      "File \u001b[1;32me:\\GitHub_Repos\\mitl_detect_inspection\\.venv\\Lib\\site-packages\\pandas\\core\\generic.py:3967\u001b[0m, in \u001b[0;36mNDFrame.to_csv\u001b[1;34m(self, path_or_buf, sep, na_rep, float_format, columns, header, index, index_label, mode, encoding, compression, quoting, quotechar, lineterminator, chunksize, date_format, doublequote, escapechar, decimal, errors, storage_options)\u001b[0m\n\u001b[0;32m   3956\u001b[0m df \u001b[38;5;241m=\u001b[39m \u001b[38;5;28mself\u001b[39m \u001b[38;5;28;01mif\u001b[39;00m \u001b[38;5;28misinstance\u001b[39m(\u001b[38;5;28mself\u001b[39m, ABCDataFrame) \u001b[38;5;28;01melse\u001b[39;00m \u001b[38;5;28mself\u001b[39m\u001b[38;5;241m.\u001b[39mto_frame()\n\u001b[0;32m   3958\u001b[0m formatter \u001b[38;5;241m=\u001b[39m DataFrameFormatter(\n\u001b[0;32m   3959\u001b[0m     frame\u001b[38;5;241m=\u001b[39mdf,\n\u001b[0;32m   3960\u001b[0m     header\u001b[38;5;241m=\u001b[39mheader,\n\u001b[1;32m   (...)\u001b[0m\n\u001b[0;32m   3964\u001b[0m     decimal\u001b[38;5;241m=\u001b[39mdecimal,\n\u001b[0;32m   3965\u001b[0m )\n\u001b[1;32m-> 3967\u001b[0m \u001b[38;5;28;01mreturn\u001b[39;00m \u001b[43mDataFrameRenderer\u001b[49m\u001b[43m(\u001b[49m\u001b[43mformatter\u001b[49m\u001b[43m)\u001b[49m\u001b[38;5;241;43m.\u001b[39;49m\u001b[43mto_csv\u001b[49m\u001b[43m(\u001b[49m\n\u001b[0;32m   3968\u001b[0m \u001b[43m    \u001b[49m\u001b[43mpath_or_buf\u001b[49m\u001b[43m,\u001b[49m\n\u001b[0;32m   3969\u001b[0m \u001b[43m    \u001b[49m\u001b[43mlineterminator\u001b[49m\u001b[38;5;241;43m=\u001b[39;49m\u001b[43mlineterminator\u001b[49m\u001b[43m,\u001b[49m\n\u001b[0;32m   3970\u001b[0m \u001b[43m    \u001b[49m\u001b[43msep\u001b[49m\u001b[38;5;241;43m=\u001b[39;49m\u001b[43msep\u001b[49m\u001b[43m,\u001b[49m\n\u001b[0;32m   3971\u001b[0m \u001b[43m    \u001b[49m\u001b[43mencoding\u001b[49m\u001b[38;5;241;43m=\u001b[39;49m\u001b[43mencoding\u001b[49m\u001b[43m,\u001b[49m\n\u001b[0;32m   3972\u001b[0m \u001b[43m    \u001b[49m\u001b[43merrors\u001b[49m\u001b[38;5;241;43m=\u001b[39;49m\u001b[43merrors\u001b[49m\u001b[43m,\u001b[49m\n\u001b[0;32m   3973\u001b[0m \u001b[43m    \u001b[49m\u001b[43mcompression\u001b[49m\u001b[38;5;241;43m=\u001b[39;49m\u001b[43mcompression\u001b[49m\u001b[43m,\u001b[49m\n\u001b[0;32m   3974\u001b[0m \u001b[43m    \u001b[49m\u001b[43mquoting\u001b[49m\u001b[38;5;241;43m=\u001b[39;49m\u001b[43mquoting\u001b[49m\u001b[43m,\u001b[49m\n\u001b[0;32m   3975\u001b[0m \u001b[43m    \u001b[49m\u001b[43mcolumns\u001b[49m\u001b[38;5;241;43m=\u001b[39;49m\u001b[43mcolumns\u001b[49m\u001b[43m,\u001b[49m\n\u001b[0;32m   3976\u001b[0m \u001b[43m    \u001b[49m\u001b[43mindex_label\u001b[49m\u001b[38;5;241;43m=\u001b[39;49m\u001b[43mindex_label\u001b[49m\u001b[43m,\u001b[49m\n\u001b[0;32m   3977\u001b[0m \u001b[43m    \u001b[49m\u001b[43mmode\u001b[49m\u001b[38;5;241;43m=\u001b[39;49m\u001b[43mmode\u001b[49m\u001b[43m,\u001b[49m\n\u001b[0;32m   3978\u001b[0m \u001b[43m    \u001b[49m\u001b[43mchunksize\u001b[49m\u001b[38;5;241;43m=\u001b[39;49m\u001b[43mchunksize\u001b[49m\u001b[43m,\u001b[49m\n\u001b[0;32m   3979\u001b[0m \u001b[43m    \u001b[49m\u001b[43mquotechar\u001b[49m\u001b[38;5;241;43m=\u001b[39;49m\u001b[43mquotechar\u001b[49m\u001b[43m,\u001b[49m\n\u001b[0;32m   3980\u001b[0m \u001b[43m    \u001b[49m\u001b[43mdate_format\u001b[49m\u001b[38;5;241;43m=\u001b[39;49m\u001b[43mdate_format\u001b[49m\u001b[43m,\u001b[49m\n\u001b[0;32m   3981\u001b[0m \u001b[43m    \u001b[49m\u001b[43mdoublequote\u001b[49m\u001b[38;5;241;43m=\u001b[39;49m\u001b[43mdoublequote\u001b[49m\u001b[43m,\u001b[49m\n\u001b[0;32m   3982\u001b[0m \u001b[43m    \u001b[49m\u001b[43mescapechar\u001b[49m\u001b[38;5;241;43m=\u001b[39;49m\u001b[43mescapechar\u001b[49m\u001b[43m,\u001b[49m\n\u001b[0;32m   3983\u001b[0m \u001b[43m    \u001b[49m\u001b[43mstorage_options\u001b[49m\u001b[38;5;241;43m=\u001b[39;49m\u001b[43mstorage_options\u001b[49m\u001b[43m,\u001b[49m\n\u001b[0;32m   3984\u001b[0m \u001b[43m\u001b[49m\u001b[43m)\u001b[49m\n",
      "File \u001b[1;32me:\\GitHub_Repos\\mitl_detect_inspection\\.venv\\Lib\\site-packages\\pandas\\io\\formats\\format.py:1014\u001b[0m, in \u001b[0;36mDataFrameRenderer.to_csv\u001b[1;34m(self, path_or_buf, encoding, sep, columns, index_label, mode, compression, quoting, quotechar, lineterminator, chunksize, date_format, doublequote, escapechar, errors, storage_options)\u001b[0m\n\u001b[0;32m    993\u001b[0m     created_buffer \u001b[38;5;241m=\u001b[39m \u001b[38;5;28;01mFalse\u001b[39;00m\n\u001b[0;32m    995\u001b[0m csv_formatter \u001b[38;5;241m=\u001b[39m CSVFormatter(\n\u001b[0;32m    996\u001b[0m     path_or_buf\u001b[38;5;241m=\u001b[39mpath_or_buf,\n\u001b[0;32m    997\u001b[0m     lineterminator\u001b[38;5;241m=\u001b[39mlineterminator,\n\u001b[1;32m   (...)\u001b[0m\n\u001b[0;32m   1012\u001b[0m     formatter\u001b[38;5;241m=\u001b[39m\u001b[38;5;28mself\u001b[39m\u001b[38;5;241m.\u001b[39mfmt,\n\u001b[0;32m   1013\u001b[0m )\n\u001b[1;32m-> 1014\u001b[0m \u001b[43mcsv_formatter\u001b[49m\u001b[38;5;241;43m.\u001b[39;49m\u001b[43msave\u001b[49m\u001b[43m(\u001b[49m\u001b[43m)\u001b[49m\n\u001b[0;32m   1016\u001b[0m \u001b[38;5;28;01mif\u001b[39;00m created_buffer:\n\u001b[0;32m   1017\u001b[0m     \u001b[38;5;28;01massert\u001b[39;00m \u001b[38;5;28misinstance\u001b[39m(path_or_buf, StringIO)\n",
      "File \u001b[1;32me:\\GitHub_Repos\\mitl_detect_inspection\\.venv\\Lib\\site-packages\\pandas\\io\\formats\\csvs.py:251\u001b[0m, in \u001b[0;36mCSVFormatter.save\u001b[1;34m(self)\u001b[0m\n\u001b[0;32m    247\u001b[0m \u001b[38;5;250m\u001b[39m\u001b[38;5;124;03m\"\"\"\u001b[39;00m\n\u001b[0;32m    248\u001b[0m \u001b[38;5;124;03mCreate the writer & save.\u001b[39;00m\n\u001b[0;32m    249\u001b[0m \u001b[38;5;124;03m\"\"\"\u001b[39;00m\n\u001b[0;32m    250\u001b[0m \u001b[38;5;66;03m# apply compression and byte/text conversion\u001b[39;00m\n\u001b[1;32m--> 251\u001b[0m \u001b[38;5;28;01mwith\u001b[39;00m \u001b[43mget_handle\u001b[49m\u001b[43m(\u001b[49m\n\u001b[0;32m    252\u001b[0m \u001b[43m    \u001b[49m\u001b[38;5;28;43mself\u001b[39;49m\u001b[38;5;241;43m.\u001b[39;49m\u001b[43mfilepath_or_buffer\u001b[49m\u001b[43m,\u001b[49m\n\u001b[0;32m    253\u001b[0m \u001b[43m    \u001b[49m\u001b[38;5;28;43mself\u001b[39;49m\u001b[38;5;241;43m.\u001b[39;49m\u001b[43mmode\u001b[49m\u001b[43m,\u001b[49m\n\u001b[0;32m    254\u001b[0m \u001b[43m    \u001b[49m\u001b[43mencoding\u001b[49m\u001b[38;5;241;43m=\u001b[39;49m\u001b[38;5;28;43mself\u001b[39;49m\u001b[38;5;241;43m.\u001b[39;49m\u001b[43mencoding\u001b[49m\u001b[43m,\u001b[49m\n\u001b[0;32m    255\u001b[0m \u001b[43m    \u001b[49m\u001b[43merrors\u001b[49m\u001b[38;5;241;43m=\u001b[39;49m\u001b[38;5;28;43mself\u001b[39;49m\u001b[38;5;241;43m.\u001b[39;49m\u001b[43merrors\u001b[49m\u001b[43m,\u001b[49m\n\u001b[0;32m    256\u001b[0m \u001b[43m    \u001b[49m\u001b[43mcompression\u001b[49m\u001b[38;5;241;43m=\u001b[39;49m\u001b[38;5;28;43mself\u001b[39;49m\u001b[38;5;241;43m.\u001b[39;49m\u001b[43mcompression\u001b[49m\u001b[43m,\u001b[49m\n\u001b[0;32m    257\u001b[0m \u001b[43m    \u001b[49m\u001b[43mstorage_options\u001b[49m\u001b[38;5;241;43m=\u001b[39;49m\u001b[38;5;28;43mself\u001b[39;49m\u001b[38;5;241;43m.\u001b[39;49m\u001b[43mstorage_options\u001b[49m\u001b[43m,\u001b[49m\n\u001b[0;32m    258\u001b[0m \u001b[43m\u001b[49m\u001b[43m)\u001b[49m \u001b[38;5;28;01mas\u001b[39;00m handles:\n\u001b[0;32m    259\u001b[0m     \u001b[38;5;66;03m# Note: self.encoding is irrelevant here\u001b[39;00m\n\u001b[0;32m    260\u001b[0m     \u001b[38;5;28mself\u001b[39m\u001b[38;5;241m.\u001b[39mwriter \u001b[38;5;241m=\u001b[39m csvlib\u001b[38;5;241m.\u001b[39mwriter(\n\u001b[0;32m    261\u001b[0m         handles\u001b[38;5;241m.\u001b[39mhandle,\n\u001b[0;32m    262\u001b[0m         lineterminator\u001b[38;5;241m=\u001b[39m\u001b[38;5;28mself\u001b[39m\u001b[38;5;241m.\u001b[39mlineterminator,\n\u001b[1;32m   (...)\u001b[0m\n\u001b[0;32m    267\u001b[0m         quotechar\u001b[38;5;241m=\u001b[39m\u001b[38;5;28mself\u001b[39m\u001b[38;5;241m.\u001b[39mquotechar,\n\u001b[0;32m    268\u001b[0m     )\n\u001b[0;32m    270\u001b[0m     \u001b[38;5;28mself\u001b[39m\u001b[38;5;241m.\u001b[39m_save()\n",
      "File \u001b[1;32me:\\GitHub_Repos\\mitl_detect_inspection\\.venv\\Lib\\site-packages\\pandas\\io\\common.py:873\u001b[0m, in \u001b[0;36mget_handle\u001b[1;34m(path_or_buf, mode, encoding, compression, memory_map, is_text, errors, storage_options)\u001b[0m\n\u001b[0;32m    868\u001b[0m \u001b[38;5;28;01melif\u001b[39;00m \u001b[38;5;28misinstance\u001b[39m(handle, \u001b[38;5;28mstr\u001b[39m):\n\u001b[0;32m    869\u001b[0m     \u001b[38;5;66;03m# Check whether the filename is to be opened in binary mode.\u001b[39;00m\n\u001b[0;32m    870\u001b[0m     \u001b[38;5;66;03m# Binary mode does not support 'encoding' and 'newline'.\u001b[39;00m\n\u001b[0;32m    871\u001b[0m     \u001b[38;5;28;01mif\u001b[39;00m ioargs\u001b[38;5;241m.\u001b[39mencoding \u001b[38;5;129;01mand\u001b[39;00m \u001b[38;5;124m\"\u001b[39m\u001b[38;5;124mb\u001b[39m\u001b[38;5;124m\"\u001b[39m \u001b[38;5;129;01mnot\u001b[39;00m \u001b[38;5;129;01min\u001b[39;00m ioargs\u001b[38;5;241m.\u001b[39mmode:\n\u001b[0;32m    872\u001b[0m         \u001b[38;5;66;03m# Encoding\u001b[39;00m\n\u001b[1;32m--> 873\u001b[0m         handle \u001b[38;5;241m=\u001b[39m \u001b[38;5;28;43mopen\u001b[39;49m\u001b[43m(\u001b[49m\n\u001b[0;32m    874\u001b[0m \u001b[43m            \u001b[49m\u001b[43mhandle\u001b[49m\u001b[43m,\u001b[49m\n\u001b[0;32m    875\u001b[0m \u001b[43m            \u001b[49m\u001b[43mioargs\u001b[49m\u001b[38;5;241;43m.\u001b[39;49m\u001b[43mmode\u001b[49m\u001b[43m,\u001b[49m\n\u001b[0;32m    876\u001b[0m \u001b[43m            \u001b[49m\u001b[43mencoding\u001b[49m\u001b[38;5;241;43m=\u001b[39;49m\u001b[43mioargs\u001b[49m\u001b[38;5;241;43m.\u001b[39;49m\u001b[43mencoding\u001b[49m\u001b[43m,\u001b[49m\n\u001b[0;32m    877\u001b[0m \u001b[43m            \u001b[49m\u001b[43merrors\u001b[49m\u001b[38;5;241;43m=\u001b[39;49m\u001b[43merrors\u001b[49m\u001b[43m,\u001b[49m\n\u001b[0;32m    878\u001b[0m \u001b[43m            \u001b[49m\u001b[43mnewline\u001b[49m\u001b[38;5;241;43m=\u001b[39;49m\u001b[38;5;124;43m\"\u001b[39;49m\u001b[38;5;124;43m\"\u001b[39;49m\u001b[43m,\u001b[49m\n\u001b[0;32m    879\u001b[0m \u001b[43m        \u001b[49m\u001b[43m)\u001b[49m\n\u001b[0;32m    880\u001b[0m     \u001b[38;5;28;01melse\u001b[39;00m:\n\u001b[0;32m    881\u001b[0m         \u001b[38;5;66;03m# Binary mode\u001b[39;00m\n\u001b[0;32m    882\u001b[0m         handle \u001b[38;5;241m=\u001b[39m \u001b[38;5;28mopen\u001b[39m(handle, ioargs\u001b[38;5;241m.\u001b[39mmode)\n",
      "\u001b[1;31mOSError\u001b[0m: [Errno 22] Invalid argument: 'cassette1_val_imbalance.csv'"
     ]
    }
   ],
   "source": [
    "df.to_csv(f'{coco_file_name}_imbalance.csv', index=False)"
   ]
  }
 ],
 "metadata": {
  "kernelspec": {
   "display_name": ".venv",
   "language": "python",
   "name": "python3"
  },
  "language_info": {
   "codemirror_mode": {
    "name": "ipython",
    "version": 3
   },
   "file_extension": ".py",
   "mimetype": "text/x-python",
   "name": "python",
   "nbconvert_exporter": "python",
   "pygments_lexer": "ipython3",
   "version": "3.11.9"
  }
 },
 "nbformat": 4,
 "nbformat_minor": 2
}
