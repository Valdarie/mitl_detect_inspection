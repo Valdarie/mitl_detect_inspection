{
 "cells": [
  {
   "cell_type": "markdown",
   "metadata": {},
   "source": [
    "### Used for Train Test Split before augmentation"
   ]
  },
  {
   "cell_type": "code",
   "execution_count": 72,
   "metadata": {},
   "outputs": [],
   "source": [
    "import json\n",
    "import os\n",
    "from PIL import Image, ImageDraw"
   ]
  },
  {
   "cell_type": "code",
   "execution_count": 70,
   "metadata": {},
   "outputs": [
    {
     "name": "stdout",
     "output_type": "stream",
     "text": [
      "{'images': [{'width': 4096, 'height': 2000, 'id': 0, 'file_name': '01BE01.bmp'}], 'annotations': [{'id': 0, 'image_id': 0, 'category_id': 6, 'segmentation': [], 'bbox': [3243.732519135956, 674.1576397397976, 96.69150425145112, 116.35757291276306], 'ignore': 0, 'iscrowd': 0, 'area': 11250.788755982963}, {'id': 1, 'image_id': 0, 'category_id': 6, 'segmentation': [], 'bbox': [2752.15197481034, 1706.6478091354281, 45.88749354306201, 80.30311370035747], 'ignore': 0, 'iscrowd': 0, 'area': 3684.9086114129277}, {'id': 2, 'image_id': 0, 'category_id': 6, 'segmentation': [], 'bbox': [1529.1878991321566, 557.4169134727985, 45.887493543061424, 37.693298267514876], 'ignore': 0, 'iscrowd': 0, 'area': 1729.6509808672772}, {'id': 3, 'image_id': 0, 'category_id': 6, 'segmentation': [], 'bbox': [1567.6792100432908, 505.00420582112133, 23.630943165701463, 29.886192827210394], 'ignore': 0, 'iscrowd': 0, 'area': 706.2389241390035}, {'id': 4, 'image_id': 0, 'category_id': 6, 'segmentation': [], 'bbox': [1703.904647116157, 464.6925968913957, 20.850832205030603, 25.716026386204334], 'ignore': 0, 'iscrowd': 0, 'area': 536.200551158886}, {'id': 5, 'image_id': 0, 'category_id': 6, 'segmentation': [], 'bbox': [1499.5664915068583, 466.7776801118987, 41.701664410060914, 22.93591542553365], 'ignore': 0, 'iscrowd': 0, 'area': 956.4658480131437}, {'id': 6, 'image_id': 0, 'category_id': 6, 'segmentation': [], 'bbox': [1750.471505707392, 563.3865359952069, 24.325970905868452, 21.545859945198064], 'ignore': 0, 'iscrowd': 0, 'area': 524.1239621688045}, {'id': 7, 'image_id': 0, 'category_id': 7, 'segmentation': [], 'bbox': [377.88629130081944, 789.5673069617799, 11.193491258174477, 11.36617138723388], 'ignore': 0, 'iscrowd': 0, 'area': 127.2271400619153}, {'id': 8, 'image_id': 0, 'category_id': 7, 'segmentation': [], 'bbox': [638.694637616287, 1053.906380783759, 7.83544388072216, 19.0289351388968], 'ignore': 0, 'iscrowd': 0, 'area': 149.1001533907278}, {'id': 9, 'image_id': 0, 'category_id': 7, 'segmentation': [], 'bbox': [1990.4825019315115, 1551.9874587707861, 6.880774627659994, 8.409835656028974], 'ignore': 0, 'iscrowd': 0, 'area': 57.86618380479451}, {'id': 10, 'image_id': 0, 'category_id': 7, 'segmentation': [], 'bbox': [1884.2127604598727, 1386.08433719276, 4.5871830851069815, 6.116244113475773], 'ignore': 0, 'iscrowd': 0, 'area': 28.05633154172121}, {'id': 11, 'image_id': 0, 'category_id': 7, 'segmentation': [], 'bbox': [2955.810994813055, 1412.956877884322, 4.699661654026131, 4.177477025801011], 'ignore': 0, 'iscrowd': 0, 'area': 19.63272858873214}, {'id': 12, 'image_id': 0, 'category_id': 6, 'segmentation': [], 'bbox': [2989.9282503835107, 1206.4739146383743, 62.573854831447825, 28.307220042797923], 'ignore': 0, 'iscrowd': 0, 'area': 1771.2918776398874}, {'id': 13, 'image_id': 0, 'category_id': 6, 'segmentation': [], 'bbox': [2913.945712373896, 1166.2478651038723, 52.14487902620574, 47.67531796681723], 'ignore': 0, 'iscrowd': 0, 'area': 2486.0236879155777}, {'id': 14, 'image_id': 0, 'category_id': 6, 'segmentation': [], 'bbox': [3801.008970080318, 1681.1713110969097, 92.37092856070842, 71.51297695022578], 'ignore': 0, 'iscrowd': 0, 'area': 6605.720085032894}, {'id': 15, 'image_id': 0, 'category_id': 5, 'segmentation': [], 'bbox': [2263.0122456306294, 1918.2875138153252, 16.790236887261855, 13.432189509809405], 'ignore': 0, 'iscrowd': 0, 'area': 225.5296437842936}, {'id': 16, 'image_id': 0, 'category_id': 7, 'segmentation': [], 'bbox': [1316.5313150812622, 1700.091241049394, 6.6584687607555475, 7.835443880722149], 'ignore': 0, 'iscrowd': 0, 'area': 52.17205830644165}, {'id': 17, 'image_id': 0, 'category_id': 6, 'segmentation': [], 'bbox': [454.5239174950842, 1618.5974562654624, 38.73619584803899, 16.388390551093153], 'ignore': 0, 'iscrowd': 0, 'area': 634.823906021296}, {'id': 18, 'image_id': 0, 'category_id': 6, 'segmentation': [], 'bbox': [293.61971935707595, 1804.8291670733418, 32.776781102186796, 14.898536864628497], 'ignore': 0, 'iscrowd': 0, 'area': 488.32608155478863}, {'id': 19, 'image_id': 0, 'category_id': 6, 'segmentation': [], 'bbox': [257.86323088196343, 1667.7626279187423, 31.28692741572373, 67.04341589083668], 'ignore': 0, 'iscrowd': 0, 'area': 2097.582486678786}, {'id': 20, 'image_id': 0, 'category_id': 7, 'segmentation': [], 'bbox': [1291.2990837370128, 1980.971064861103, 12.312840383992006, 8.954793006539603], 'ignore': 0, 'iscrowd': 0, 'area': 110.25893696121001}, {'id': 21, 'image_id': 0, 'category_id': 2, 'segmentation': [], 'bbox': [1926.7167749696935, 163.88390551093397, 28.442661287021764, 41.986785709412864], 'ignore': 0, 'iscrowd': 0, 'area': 1194.215924463596}, {'id': 22, 'image_id': 0, 'category_id': 1, 'segmentation': [], 'bbox': [2272.0919477406705, 90.74563363002132, 12.18971198015206, 13.544124422391253], 'ignore': 0, 'iscrowd': 0, 'area': 165.09897573229276}, {'id': 23, 'image_id': 0, 'category_id': 1, 'segmentation': [], 'bbox': [2069.4292978641865, 416.8724861765618, 9.73038836234773, 13.205527063186011], 'ignore': 0, 'iscrowd': 0, 'area': 128.49490685429316}, {'id': 24, 'image_id': 0, 'category_id': 6, 'segmentation': [], 'bbox': [2885.7293906568984, 1054.8290515097342, 38.885401334690975, 91.91094860926867], 'ignore': 0, 'iscrowd': 0, 'area': 3573.99412372357}, {'id': 25, 'image_id': 0, 'category_id': 6, 'segmentation': [], 'bbox': [2903.489406474265, 427.2439553977827, 100.97880668623547, 34.954202314466016], 'ignore': 0, 'iscrowd': 0, 'area': 3529.6336383840285}, {'id': 26, 'image_id': 0, 'category_id': 7, 'segmentation': [], 'bbox': [3375.79867907456, 382.5586259967446, 7.187391007841797, 11.679510387743903], 'ignore': 0, 'iscrowd': 0, 'area': 83.94520793686539}, {'id': 27, 'image_id': 0, 'category_id': 7, 'segmentation': [], 'bbox': [604.4244869630038, 656.291435236341, 6.355309511720988, 11.298328020837547], 'ignore': 0, 'iscrowd': 0, 'area': 71.80437153737263}, {'id': 28, 'image_id': 0, 'category_id': 5, 'segmentation': [], 'bbox': [1667.4912658621831, 331.3210085772326, 44.29458144532866, 26.961919140634905], 'ignore': 0, 'iscrowd': 0, 'area': 1194.2669232972185}], 'categories': [{'id': 0, 'name': 'blocked_valve'}, {'id': 1, 'name': 'bubble'}, {'id': 2, 'name': 'chip_crack'}, {'id': 3, 'name': 'excessive_flash'}, {'id': 4, 'name': 'improper_welding'}, {'id': 5, 'name': 'light_stain'}, {'id': 6, 'name': 'line_crack'}, {'id': 7, 'name': 'particle_material'}, {'id': 8, 'name': 'residue_stain'}, {'id': 9, 'name': 'unknown'}, {'id': 10, 'name': 'welding_blob'}]}\n",
      "{'images': [{'height': 640, 'width': 640, 'id': 1, 'file_name': '01BE01_0_0_0_640_640.png'}, {'height': 640, 'width': 640, 'id': 2, 'file_name': '01BE01_0_512_0_1152_640.png'}, {'height': 640, 'width': 640, 'id': 3, 'file_name': '01BE01_0_1024_0_1664_640.png'}, {'height': 640, 'width': 640, 'id': 4, 'file_name': '01BE01_0_1536_0_2176_640.png'}, {'height': 640, 'width': 640, 'id': 5, 'file_name': '01BE01_0_2048_0_2688_640.png'}, {'height': 640, 'width': 640, 'id': 6, 'file_name': '01BE01_0_2560_0_3200_640.png'}, {'height': 640, 'width': 640, 'id': 7, 'file_name': '01BE01_0_3072_0_3712_640.png'}, {'height': 640, 'width': 640, 'id': 8, 'file_name': '01BE01_0_3456_0_4096_640.png'}, {'height': 640, 'width': 640, 'id': 9, 'file_name': '01BE01_0_0_512_640_1152.png'}, {'height': 640, 'width': 640, 'id': 10, 'file_name': '01BE01_0_512_512_1152_1152.png'}, {'height': 640, 'width': 640, 'id': 11, 'file_name': '01BE01_0_1024_512_1664_1152.png'}, {'height': 640, 'width': 640, 'id': 12, 'file_name': '01BE01_0_1536_512_2176_1152.png'}, {'height': 640, 'width': 640, 'id': 13, 'file_name': '01BE01_0_2048_512_2688_1152.png'}, {'height': 640, 'width': 640, 'id': 14, 'file_name': '01BE01_0_2560_512_3200_1152.png'}, {'height': 640, 'width': 640, 'id': 15, 'file_name': '01BE01_0_3072_512_3712_1152.png'}, {'height': 640, 'width': 640, 'id': 16, 'file_name': '01BE01_0_3456_512_4096_1152.png'}, {'height': 640, 'width': 640, 'id': 17, 'file_name': '01BE01_0_0_1024_640_1664.png'}, {'height': 640, 'width': 640, 'id': 18, 'file_name': '01BE01_0_512_1024_1152_1664.png'}, {'height': 640, 'width': 640, 'id': 19, 'file_name': '01BE01_0_1024_1024_1664_1664.png'}, {'height': 640, 'width': 640, 'id': 20, 'file_name': '01BE01_0_1536_1024_2176_1664.png'}, {'height': 640, 'width': 640, 'id': 21, 'file_name': '01BE01_0_2048_1024_2688_1664.png'}, {'height': 640, 'width': 640, 'id': 22, 'file_name': '01BE01_0_2560_1024_3200_1664.png'}, {'height': 640, 'width': 640, 'id': 23, 'file_name': '01BE01_0_3072_1024_3712_1664.png'}, {'height': 640, 'width': 640, 'id': 24, 'file_name': '01BE01_0_3456_1024_4096_1664.png'}, {'height': 640, 'width': 640, 'id': 25, 'file_name': '01BE01_0_0_1360_640_2000.png'}, {'height': 640, 'width': 640, 'id': 26, 'file_name': '01BE01_0_512_1360_1152_2000.png'}, {'height': 640, 'width': 640, 'id': 27, 'file_name': '01BE01_0_1024_1360_1664_2000.png'}, {'height': 640, 'width': 640, 'id': 28, 'file_name': '01BE01_0_1536_1360_2176_2000.png'}, {'height': 640, 'width': 640, 'id': 29, 'file_name': '01BE01_0_2048_1360_2688_2000.png'}, {'height': 640, 'width': 640, 'id': 30, 'file_name': '01BE01_0_2560_1360_3200_2000.png'}, {'height': 640, 'width': 640, 'id': 31, 'file_name': '01BE01_0_3072_1360_3712_2000.png'}, {'height': 640, 'width': 640, 'id': 32, 'file_name': '01BE01_0_3456_1360_4096_2000.png'}], 'annotations': [{'iscrowd': 0, 'image_id': 3, 'bbox': [505.18789913215664, 557.4169134727985, 45.88749354306151, 37.69329826751493], 'segmentation': [[505, 557, 505, 595, 551, 595, 551, 557]], 'category_id': 6, 'id': 1, 'area': 1729}, {'iscrowd': 0, 'image_id': 3, 'bbox': [543.6792100432908, 505.00420582112133, 23.63094316570141, 29.88619282721038], 'segmentation': [[543, 505, 543, 534, 567, 534, 567, 505]], 'category_id': 6, 'id': 2, 'area': 706}, {'iscrowd': 0, 'image_id': 3, 'bbox': [475.56649150685826, 466.7776801118987, 41.70166441006086, 22.935915425533665], 'segmentation': [[475, 466, 475, 489, 517, 489, 517, 466]], 'category_id': 6, 'id': 3, 'area': 956}, {'iscrowd': 0, 'image_id': 4, 'bbox': [0.0, 557.4169134727985, 39.075392675218154, 37.69329826751493], 'segmentation': [[39, 595, 39, 557, 0, 557, 0, 595]], 'category_id': 6, 'id': 4, 'area': 1472}, {'iscrowd': 0, 'image_id': 4, 'bbox': [31.679210043290823, 505.00420582112133, 23.63094316570141, 29.88619282721038], 'segmentation': [[31, 505, 31, 534, 55, 534, 55, 505]], 'category_id': 6, 'id': 5, 'area': 706}, {'iscrowd': 0, 'image_id': 4, 'bbox': [167.9046471161571, 464.6925968913957, 20.850832205030656, 25.716026386204305], 'segmentation': [[167, 464, 167, 490, 188, 490, 188, 464]], 'category_id': 6, 'id': 6, 'area': 536}, {'iscrowd': 0, 'image_id': 4, 'bbox': [0.0, 466.7776801118987, 5.268155916919113, 22.935915425533665], 'segmentation': [[5, 489, 5, 466, 0, 466, 0, 489]], 'category_id': 6, 'id': 7, 'area': 120}, {'iscrowd': 0, 'image_id': 4, 'bbox': [214.471505707392, 563.3865359952069, 24.325970905868417, 21.545859945198117], 'segmentation': [[214, 563, 214, 584, 238, 584, 238, 563]], 'category_id': 6, 'id': 8, 'area': 524}, {'iscrowd': 0, 'image_id': 4, 'bbox': [390.71677496969346, 163.88390551093397, 28.442661287021792, 41.98678570941286], 'segmentation': [[390, 163, 390, 205, 419, 205, 419, 163]], 'category_id': 2, 'id': 9, 'area': 1194}, {'iscrowd': 0, 'image_id': 4, 'bbox': [533.4292978641865, 416.8724861765618, 9.73038836234764, 13.205527063186025], 'segmentation': [[533, 416, 533, 430, 543, 430, 543, 416]], 'category_id': 1, 'id': 10, 'area': 128}, {'iscrowd': 0, 'image_id': 4, 'bbox': [131.49126586218313, 331.3210085772326, 44.29458144532873, 26.961919140634905], 'segmentation': [[131, 331, 131, 358, 175, 358, 175, 331]], 'category_id': 5, 'id': 11, 'area': 1194}, {'iscrowd': 0, 'image_id': 5, 'bbox': [224.09194774067055, 90.74563363002132, 12.18971198015197, 13.54412442239125], 'segmentation': [[224, 90, 224, 104, 236, 104, 236, 90]], 'category_id': 1, 'id': 12, 'area': 165}, {'iscrowd': 0, 'image_id': 5, 'bbox': [21.429297864186537, 416.8724861765618, 9.73038836234764, 13.205527063186025], 'segmentation': [[21, 416, 21, 430, 31, 430, 31, 416]], 'category_id': 1, 'id': 13, 'area': 128}, {'iscrowd': 0, 'image_id': 6, 'bbox': [343.4894064742648, 427.2439553977827, 100.97880668623566, 34.954202314466045], 'segmentation': [[343, 427, 343, 462, 444, 462, 444, 427]], 'category_id': 6, 'id': 14, 'area': 3529}, {'iscrowd': 0, 'image_id': 7, 'bbox': [303.7986790745599, 382.5586259967446, 7.1873910078415975, 11.679510387743903], 'segmentation': [[303, 382, 303, 394, 310, 394, 310, 382]], 'category_id': 7, 'id': 15, 'area': 83}, {'iscrowd': 0, 'image_id': 9, 'bbox': [377.88629130081944, 277.5673069617799, 11.193491258174504, 11.366171387233862], 'segmentation': [[377, 277, 377, 288, 389, 288, 389, 277]], 'category_id': 7, 'id': 16, 'area': 127}, {'iscrowd': 0, 'image_id': 9, 'bbox': [638.694637616287, 541.906380783759, 1.3053623837130317, 19.028935138896713], 'segmentation': [[638, 541, 638, 560, 640, 560, 640, 541]], 'category_id': 7, 'id': 17, 'area': 24}, {'iscrowd': 0, 'image_id': 9, 'bbox': [604.4244869630038, 144.29143523634104, 6.355309511720975, 11.298328020837516], 'segmentation': [[604, 144, 604, 155, 610, 155, 610, 144]], 'category_id': 7, 'id': 18, 'area': 71}, {'iscrowd': 0, 'image_id': 10, 'bbox': [126.69463761628697, 541.906380783759, 7.8354438807222095, 19.028935138896713], 'segmentation': [[126, 541, 126, 560, 134, 560, 134, 541]], 'category_id': 7, 'id': 19, 'area': 149}, {'iscrowd': 0, 'image_id': 10, 'bbox': [92.4244869630038, 144.29143523634104, 6.355309511720975, 11.298328020837516], 'segmentation': [[92, 144, 92, 155, 98, 155, 98, 144]], 'category_id': 7, 'id': 20, 'area': 71}, {'iscrowd': 0, 'image_id': 11, 'bbox': [505.18789913215664, 45.416913472798456, 45.88749354306151, 37.69329826751493], 'segmentation': [[505, 45, 505, 83, 551, 83, 551, 45]], 'category_id': 6, 'id': 21, 'area': 1729}, {'iscrowd': 0, 'image_id': 11, 'bbox': [543.6792100432908, 0.0, 23.63094316570141, 22.89039864833171], 'segmentation': [[543, 22, 567, 22, 567, 0, 543, 0]], 'category_id': 6, 'id': 22, 'area': 540}, {'iscrowd': 0, 'image_id': 12, 'bbox': [0.0, 45.416913472798456, 39.075392675218154, 37.69329826751493], 'segmentation': [[39, 83, 39, 45, 0, 45, 0, 83]], 'category_id': 6, 'id': 23, 'area': 1472}, {'iscrowd': 0, 'image_id': 12, 'bbox': [31.679210043290823, 0.0, 23.63094316570141, 22.89039864833171], 'segmentation': [[31, 22, 55, 22, 55, 0, 31, 0]], 'category_id': 6, 'id': 24, 'area': 540}, {'iscrowd': 0, 'image_id': 12, 'bbox': [214.471505707392, 51.38653599520694, 24.325970905868417, 21.545859945198117], 'segmentation': [[214, 51, 214, 72, 238, 72, 238, 51]], 'category_id': 6, 'id': 25, 'area': 524}, {'iscrowd': 0, 'image_id': 14, 'bbox': [325.72939065689843, 542.8290515097342, 38.88540133469087, 91.91094860926864], 'segmentation': [[325, 542, 325, 634, 364, 634, 364, 542]], 'category_id': 6, 'id': 26, 'area': 3573}, {'iscrowd': 0, 'image_id': 15, 'bbox': [171.73251913595595, 162.15763973979756, 96.69150425145108, 116.35757291276309], 'segmentation': [[171, 162, 171, 278, 268, 278, 268, 162]], 'category_id': 6, 'id': 27, 'area': 11250}, {'iscrowd': 0, 'image_id': 17, 'bbox': [638.694637616287, 29.906380783759005, 1.3053623837130317, 19.028935138896713], 'segmentation': [[638, 29, 638, 48, 640, 48, 640, 29]], 'category_id': 7, 'id': 28, 'area': 24}, {'iscrowd': 0, 'image_id': 17, 'bbox': [454.5239174950842, 594.5974562654624, 38.73619584803896, 16.388390551093153], 'segmentation': [[454, 594, 454, 610, 493, 610, 493, 594]], 'category_id': 6, 'id': 29, 'area': 634}, {'iscrowd': 0, 'image_id': 18, 'bbox': [126.69463761628697, 29.906380783759005, 7.8354438807222095, 19.028935138896713], 'segmentation': [[126, 29, 126, 48, 134, 48, 134, 29]], 'category_id': 7, 'id': 30, 'area': 149}, {'iscrowd': 0, 'image_id': 20, 'bbox': [454.4825019315115, 527.9874587707861, 6.880774627660003, 8.409835656028918], 'segmentation': [[454, 527, 454, 536, 461, 536, 461, 527]], 'category_id': 7, 'id': 31, 'area': 57}, {'iscrowd': 0, 'image_id': 20, 'bbox': [348.2127604598727, 362.0843371927599, 4.587183085106972, 6.116244113475659], 'segmentation': [[348, 362, 348, 368, 352, 368, 352, 362]], 'category_id': 7, 'id': 32, 'area': 28}, {'iscrowd': 0, 'image_id': 22, 'bbox': [395.810994813055, 388.956877884322, 4.699661654025931, 4.177477025800954], 'segmentation': [[395, 388, 395, 393, 400, 393, 400, 388]], 'category_id': 7, 'id': 33, 'area': 19}, {'iscrowd': 0, 'image_id': 22, 'bbox': [429.92825038351066, 182.47391463837425, 62.57385483144799, 28.307220042798008], 'segmentation': [[429, 182, 429, 210, 492, 210, 492, 182]], 'category_id': 6, 'id': 34, 'area': 1771}, {'iscrowd': 0, 'image_id': 22, 'bbox': [353.9457123738962, 142.2478651038723, 52.14487902620567, 47.67531796681715], 'segmentation': [[353, 142, 353, 189, 406, 189, 406, 142]], 'category_id': 6, 'id': 35, 'area': 2486}, {'iscrowd': 0, 'image_id': 22, 'bbox': [325.72939065689843, 30.8290515097342, 38.88540133469087, 91.91094860926864], 'segmentation': [[325, 30, 325, 122, 364, 122, 364, 30]], 'category_id': 6, 'id': 36, 'area': 3573}, {'iscrowd': 0, 'image_id': 25, 'bbox': [454.5239174950842, 258.59745626546237, 38.73619584803896, 16.388390551093153], 'segmentation': [[454, 258, 454, 274, 493, 274, 493, 258]], 'category_id': 6, 'id': 37, 'area': 634}, {'iscrowd': 0, 'image_id': 25, 'bbox': [293.61971935707595, 444.82916707334175, 32.77678110218682, 14.898536864628568], 'segmentation': [[293, 444, 293, 459, 326, 459, 326, 444]], 'category_id': 6, 'id': 38, 'area': 488}, {'iscrowd': 0, 'image_id': 25, 'bbox': [257.86323088196343, 307.7626279187423, 31.28692741572371, 67.04341589083674], 'segmentation': [[257, 307, 257, 374, 289, 374, 289, 307]], 'category_id': 6, 'id': 39, 'area': 2097}, {'iscrowd': 0, 'image_id': 27, 'bbox': [292.53131508126216, 340.09124104939406, 6.658468760755568, 7.835443880722096], 'segmentation': [[292, 340, 292, 347, 299, 347, 299, 340]], 'category_id': 7, 'id': 40, 'area': 52}, {'iscrowd': 0, 'image_id': 27, 'bbox': [267.2990837370128, 620.9710648611031, 12.312840383991897, 8.954793006539603], 'segmentation': [[267, 620, 267, 629, 279, 629, 279, 620]], 'category_id': 7, 'id': 41, 'area': 110}, {'iscrowd': 0, 'image_id': 28, 'bbox': [454.4825019315115, 191.98745877078613, 6.880774627660003, 8.409835656028918], 'segmentation': [[454, 191, 454, 200, 461, 200, 461, 191]], 'category_id': 7, 'id': 42, 'area': 57}, {'iscrowd': 0, 'image_id': 28, 'bbox': [348.2127604598727, 26.084337192759904, 4.587183085106972, 6.116244113475659], 'segmentation': [[348, 26, 348, 32, 352, 32, 352, 26]], 'category_id': 7, 'id': 43, 'area': 28}, {'iscrowd': 0, 'image_id': 29, 'bbox': [215.01224563062942, 558.2875138153252, 16.790236887261926, 13.432189509809405], 'segmentation': [[215, 558, 215, 571, 231, 571, 231, 558]], 'category_id': 5, 'id': 44, 'area': 225}, {'iscrowd': 0, 'image_id': 30, 'bbox': [192.1519748103401, 346.64780913542813, 45.88749354306219, 80.30311370035747], 'segmentation': [[192, 346, 192, 426, 238, 426, 238, 346]], 'category_id': 6, 'id': 45, 'area': 3684}, {'iscrowd': 0, 'image_id': 30, 'bbox': [395.810994813055, 52.95687788432201, 4.699661654025931, 4.177477025800954], 'segmentation': [[395, 52, 395, 57, 400, 57, 400, 52]], 'category_id': 7, 'id': 46, 'area': 19}, {'iscrowd': 0, 'image_id': 32, 'bbox': [345.0089700803178, 321.1713110969097, 92.37092856070831, 71.51297695022572], 'segmentation': [[345, 321, 345, 392, 437, 392, 437, 321]], 'category_id': 6, 'id': 47, 'area': 6605}], 'categories': [{'id': 0, 'name': 'blocked_valve'}, {'id': 1, 'name': 'bubble'}, {'id': 2, 'name': 'chip_crack'}, {'id': 3, 'name': 'excessive_flash'}, {'id': 4, 'name': 'improper_welding'}, {'id': 5, 'name': 'light_stain'}, {'id': 6, 'name': 'line_crack'}, {'id': 7, 'name': 'particle_material'}, {'id': 8, 'name': 'residue_stain'}, {'id': 9, 'name': 'unknown'}, {'id': 10, 'name': 'welding_blob'}]}\n",
      "{'images': [], 'annotations': []}\n"
     ]
    }
   ],
   "source": [
    "with open(\"../data/coco.json\") as f: #. in scripts, .. in notebook\n",
    "    original_annotations = json.load(f) \n",
    "\n",
    "with open(\"../data/coco_sliced_coco.json\") as f:\n",
    "    sliced_annotations = json.load(f)\n",
    "\n",
    "# Initialise an empty dictionary for adjusted annotations\n",
    "adjusted_annotations = {\"images\": [], \"annotations\": []}\n",
    "\n",
    "print(original_annotations)\n",
    "print(sliced_annotations)\n",
    "print(adjusted_annotations)\n"
   ]
  },
  {
   "cell_type": "code",
   "execution_count": 87,
   "metadata": {},
   "outputs": [],
   "source": [
    "# Helper function to calculate intersection and adjust bounding box\n",
    "def check_and_adjust_bbox(bbox, offset_x, offset_y, slice_size):\n",
    "    \"\"\"\n",
    "    Checks if a bounding box intersects with a slice and adjusts it if needed.\n",
    "    \"\"\"\n",
    "    x, y, w, h = bbox\n",
    "    x_max, y_max = x + w, y + h\n",
    "    \n",
    "    # Define the slice boundaries\n",
    "    slice_x_min, slice_y_min = offset_x, offset_y\n",
    "    slice_x_max, slice_y_max = offset_x + slice_size, offset_y + slice_size\n",
    "    \n",
    "    # Check intersection\n",
    "    if not (x_max <= slice_x_min or x >= slice_x_max or y_max <= slice_y_min or y >= slice_y_max):\n",
    "        # Calculate adjusted bounding box within slice boundaries\n",
    "        new_x = max(x - offset_x, 0)\n",
    "        new_y = max(y - offset_y, 0)\n",
    "        new_w = min(w, slice_x_max - x) if x + w > slice_x_max else w\n",
    "        new_h = min(h, slice_y_max - y) if y + h > slice_y_max else h\n",
    "        print(f\"Adjusted bbox within slice: [new_x={new_x}, new_y={new_y}, new_w={new_w}, new_h={new_h}]\")\n",
    "        return [new_x, new_y, new_w, new_h]\n",
    "    \n",
    "    print(\"No intersection with slice boundaries.\")\n",
    "    return None  # No intersection"
   ]
  },
  {
   "cell_type": "code",
   "execution_count": null,
   "metadata": {},
   "outputs": [
    {
     "name": "stdout",
     "output_type": "stream",
     "text": [
      "Generated 32 slice positions for image of size 4096x2000\n"
     ]
    },
    {
     "ename": "",
     "evalue": "",
     "output_type": "error",
     "traceback": [
      "\u001b[1;31mThe Kernel crashed while executing code in the current cell or a previous cell. \n",
      "\u001b[1;31mPlease review the code in the cell(s) to identify a possible cause of the failure. \n",
      "\u001b[1;31mClick <a href='https://aka.ms/vscodeJupyterKernelCrash'>here</a> for more info. \n",
      "\u001b[1;31mView Jupyter <a href='command:jupyter.viewOutput'>log</a> for further details."
     ]
    }
   ],
   "source": [
    "def calculate_slice_positions(image_width, image_height, slice_size, overlap_ratio):\n",
    "    # Calculate overlap in pixels and effective stride\n",
    "    overlap_pixels = int(slice_size * overlap_ratio)\n",
    "    stride = slice_size - overlap_pixels\n",
    "\n",
    "    # Generate slice positions for the current image\n",
    "    slice_positions = []\n",
    "    for y in range(0, image_height - slice_size + 1, stride):\n",
    "        for x in range(0, image_width - slice_size + 1, stride):\n",
    "            slice_positions.append((x, y))\n",
    "    \n",
    "    # Handle edge case: if the image dimensions are not exact multiples of stride\n",
    "    if (image_width - slice_size) % stride != 0:\n",
    "        for y in range(0, image_height - slice_size + 1, stride):\n",
    "            slice_positions.append((image_width - slice_size, y))\n",
    "    if (image_height - slice_size) % stride != 0:\n",
    "        for x in range(0, image_width - slice_size + 1, stride):\n",
    "            slice_positions.append((x, image_height - slice_size))\n",
    "    if (image_width - slice_size) % stride != 0 and (image_height - slice_size) % stride != 0:\n",
    "        slice_positions.append((image_width - slice_size, image_height - slice_size))\n",
    "    \n",
    "    return slice_positions\n",
    "\n",
    "# Parameters for slicing\n",
    "slice_size = 640\n",
    "overlap_ratio = 0.2\n",
    "\n",
    "# Example for one image\n",
    "original_image_width, original_image_height = 4096, 2000  # Replace with each image's actual dimensions as needed\n",
    "slice_positions = calculate_slice_positions(original_image_width, original_image_height, slice_size, overlap_ratio)\n",
    "\n",
    "# Verify slice positions\n",
    "print(f\"Generated {len(slice_positions)} slice positions for image of size {original_image_width}x{original_image_height}\")\n"
   ]
  },
  {
   "cell_type": "code",
   "execution_count": 94,
   "metadata": {},
   "outputs": [
    {
     "ename": "NameError",
     "evalue": "name 'slice_positions' is not defined",
     "output_type": "error",
     "traceback": [
      "\u001b[1;31m---------------------------------------------------------------------------\u001b[0m",
      "\u001b[1;31mNameError\u001b[0m                                 Traceback (most recent call last)",
      "Cell \u001b[1;32mIn[94], line 2\u001b[0m\n\u001b[0;32m      1\u001b[0m \u001b[38;5;66;03m# Loop through each slice and apply adjustments\u001b[39;00m\n\u001b[1;32m----> 2\u001b[0m \u001b[38;5;28;01mfor\u001b[39;00m i, (slice_x, slice_y) \u001b[38;5;129;01min\u001b[39;00m \u001b[38;5;28menumerate\u001b[39m(\u001b[43mslice_positions\u001b[49m):  \u001b[38;5;66;03m# slice_positions should be generated based on stride\u001b[39;00m\n\u001b[0;32m      3\u001b[0m     \u001b[38;5;28mprint\u001b[39m(\u001b[38;5;124mf\u001b[39m\u001b[38;5;124m\"\u001b[39m\u001b[38;5;124mProcessing slice \u001b[39m\u001b[38;5;132;01m{\u001b[39;00mi\u001b[38;5;132;01m}\u001b[39;00m\u001b[38;5;124m at position (\u001b[39m\u001b[38;5;132;01m{\u001b[39;00mslice_x\u001b[38;5;132;01m}\u001b[39;00m\u001b[38;5;124m, \u001b[39m\u001b[38;5;132;01m{\u001b[39;00mslice_y\u001b[38;5;132;01m}\u001b[39;00m\u001b[38;5;124m) with size \u001b[39m\u001b[38;5;132;01m{\u001b[39;00mslice_size\u001b[38;5;132;01m}\u001b[39;00m\u001b[38;5;124m\"\u001b[39m)\n\u001b[0;32m      5\u001b[0m     \u001b[38;5;66;03m# Calculate slice boundaries\u001b[39;00m\n",
      "\u001b[1;31mNameError\u001b[0m: name 'slice_positions' is not defined"
     ]
    }
   ],
   "source": [
    "\n",
    "# Loop through each slice and apply adjustments\n",
    "for i, (slice_x, slice_y) in enumerate(slice_positions):  # slice_positions should be generated based on stride\n",
    "    print(f\"Processing slice {i} at position ({slice_x}, {slice_y}) with size {slice_size}\")\n",
    "\n",
    "    # Calculate slice boundaries\n",
    "    slice_x_min = slice_x\n",
    "    slice_y_min = slice_y\n",
    "    slice_x_max = slice_x + slice_size\n",
    "    slice_y_max = slice_y + slice_size\n",
    "\n",
    "    # Loop through each bounding box\n",
    "    for bbox in original_bboxes:\n",
    "        bbox_x_min, bbox_y_min, bbox_width, bbox_height = bbox\n",
    "        bbox_x_max = bbox_x_min + bbox_width\n",
    "        bbox_y_max = bbox_y_min + bbox_height\n",
    "\n",
    "        # Check for intersection with the current slice\n",
    "        if (bbox_x_min < slice_x_max and bbox_x_max > slice_x_min and \n",
    "            bbox_y_min < slice_y_max and bbox_y_max > slice_y_min):\n",
    "            \n",
    "            # Calculate intersection coordinates\n",
    "            adj_x_min = max(bbox_x_min, slice_x_min) - slice_x_min\n",
    "            adj_y_min = max(bbox_y_min, slice_y_min) - slice_y_min\n",
    "            adj_x_max = min(bbox_x_max, slice_x_max) - slice_x_min\n",
    "            adj_y_max = min(bbox_y_max, slice_y_max) - slice_y_min\n",
    "\n",
    "            adj_bbox = [adj_x_min, adj_y_min, adj_x_max - adj_x_min, adj_y_max - adj_y_min]\n",
    "\n",
    "            print(f\"  Adjusted bbox for slice {i}: {adj_bbox}\")\n",
    "\n",
    "            # Visualization logic for the adjusted bounding box\n",
    "            plt.gca().add_patch(\n",
    "                plt.Rectangle((adj_x_min, adj_y_min), adj_x_max - adj_x_min, adj_y_max - adj_y_min, \n",
    "                              linewidth=2, edgecolor='blue', facecolor='none')\n",
    "            )\n",
    "\n",
    "    # Show the current slice for visual verification\n",
    "    plt.imshow(slice_image)  # Ensure `slice_image` corresponds to this slice\n",
    "    plt.title(f\"Slice {i} at ({slice_x}, {slice_y})\")\n",
    "    plt.show()"
   ]
  },
  {
   "cell_type": "code",
   "execution_count": 95,
   "metadata": {},
   "outputs": [
    {
     "name": "stdout",
     "output_type": "stream",
     "text": [
      "\n",
      "Processing slice: 01BE01_0_0_0_640_640.png with offset (0, 0) and size 640\n",
      "\n",
      "Processing slice: 01BE01_0_512_0_1152_640.png with offset (0, 512) and size 640\n",
      "\n",
      "Processing slice: 01BE01_0_1024_0_1664_640.png with offset (0, 1024) and size 640\n",
      "\n",
      "Processing slice: 01BE01_0_1536_0_2176_640.png with offset (0, 1536) and size 640\n",
      "\n",
      "Processing slice: 01BE01_0_2048_0_2688_640.png with offset (0, 2048) and size 640\n",
      "\n",
      "Processing slice: 01BE01_0_2560_0_3200_640.png with offset (0, 2560) and size 640\n",
      "\n",
      "Processing slice: 01BE01_0_3072_0_3712_640.png with offset (0, 3072) and size 640\n",
      "\n",
      "Processing slice: 01BE01_0_3456_0_4096_640.png with offset (0, 3456) and size 640\n",
      "\n",
      "Processing slice: 01BE01_0_0_512_640_1152.png with offset (0, 0) and size 1152\n",
      "\n",
      "Processing slice: 01BE01_0_512_512_1152_1152.png with offset (0, 512) and size 1152\n",
      "\n",
      "Processing slice: 01BE01_0_1024_512_1664_1152.png with offset (0, 1024) and size 1152\n",
      "\n",
      "Processing slice: 01BE01_0_1536_512_2176_1152.png with offset (0, 1536) and size 1152\n",
      "\n",
      "Processing slice: 01BE01_0_2048_512_2688_1152.png with offset (0, 2048) and size 1152\n",
      "\n",
      "Processing slice: 01BE01_0_2560_512_3200_1152.png with offset (0, 2560) and size 1152\n",
      "\n",
      "Processing slice: 01BE01_0_3072_512_3712_1152.png with offset (0, 3072) and size 1152\n",
      "\n",
      "Processing slice: 01BE01_0_3456_512_4096_1152.png with offset (0, 3456) and size 1152\n",
      "\n",
      "Processing slice: 01BE01_0_0_1024_640_1664.png with offset (0, 0) and size 1664\n",
      "\n",
      "Processing slice: 01BE01_0_512_1024_1152_1664.png with offset (0, 512) and size 1664\n",
      "\n",
      "Processing slice: 01BE01_0_1024_1024_1664_1664.png with offset (0, 1024) and size 1664\n",
      "\n",
      "Processing slice: 01BE01_0_1536_1024_2176_1664.png with offset (0, 1536) and size 1664\n",
      "\n",
      "Processing slice: 01BE01_0_2048_1024_2688_1664.png with offset (0, 2048) and size 1664\n",
      "\n",
      "Processing slice: 01BE01_0_2560_1024_3200_1664.png with offset (0, 2560) and size 1664\n",
      "\n",
      "Processing slice: 01BE01_0_3072_1024_3712_1664.png with offset (0, 3072) and size 1664\n",
      "\n",
      "Processing slice: 01BE01_0_3456_1024_4096_1664.png with offset (0, 3456) and size 1664\n",
      "\n",
      "Processing slice: 01BE01_0_0_1360_640_2000.png with offset (0, 0) and size 2000\n",
      "\n",
      "Processing slice: 01BE01_0_512_1360_1152_2000.png with offset (0, 512) and size 2000\n",
      "\n",
      "Processing slice: 01BE01_0_1024_1360_1664_2000.png with offset (0, 1024) and size 2000\n",
      "\n",
      "Processing slice: 01BE01_0_1536_1360_2176_2000.png with offset (0, 1536) and size 2000\n",
      "\n",
      "Processing slice: 01BE01_0_2048_1360_2688_2000.png with offset (0, 2048) and size 2000\n",
      "\n",
      "Processing slice: 01BE01_0_2560_1360_3200_2000.png with offset (0, 2560) and size 2000\n",
      "\n",
      "Processing slice: 01BE01_0_3072_1360_3712_2000.png with offset (0, 3072) and size 2000\n",
      "\n",
      "Processing slice: 01BE01_0_3456_1360_4096_2000.png with offset (0, 3456) and size 2000\n"
     ]
    }
   ],
   "source": [
    "\n",
    "# Main processing loop for each sliced image\n",
    "for img in sliced_annotations[\"images\"]:\n",
    "    img_id = img[\"id\"]\n",
    "    img_name = img[\"file_name\"]\n",
    "\n",
    "    # Extract offset values from filename (assuming the naming format includes them)\n",
    "    name_parts = img_name.split('_')\n",
    "    offset_x = int(name_parts[-5])\n",
    "    offset_y = int(name_parts[-4])\n",
    "    slice_size = int(name_parts[-1].split('.')[0])\n",
    "\n",
    "    print(f\"\\nProcessing slice: {img_name} with offset ({offset_x}, {offset_y}) and size {slice_size}\")\n",
    "\n",
    "    # Add sliced image info to adjusted annotations\n",
    "    adjusted_annotations[\"images\"].append({\n",
    "        \"id\": img_id,\n",
    "        \"file_name\": img_name,\n",
    "        \"width\": slice_size,\n",
    "        \"height\": slice_size\n",
    "    })\n",
    "\n",
    "    # Process each annotation and check if it intersects with the current slice\n",
    "    for ann in original_annotations[\"annotations\"]:\n",
    "        if ann[\"image_id\"] == img_id:\n",
    "            print(f\"\\nOriginal bbox: {ann['bbox']}\")\n",
    "\n",
    "            # Check intersection and adjust bbox if needed\n",
    "            adjusted_bbox = check_and_adjust_bbox(ann[\"bbox\"], offset_x, offset_y, slice_size)\n",
    "            \n",
    "            if adjusted_bbox:\n",
    "                print(f\"Adding adjusted bbox for slice {img_id}: {adjusted_bbox}\")\n",
    "                # Append adjusted annotation to the new annotations dictionary\n",
    "                adjusted_annotations[\"annotations\"].append({\n",
    "                    \"id\": ann[\"id\"],\n",
    "                    \"image_id\": img_id,\n",
    "                    \"category_id\": ann[\"category_id\"],\n",
    "                    \"bbox\": adjusted_bbox,\n",
    "                    \"area\": adjusted_bbox[2] * adjusted_bbox[3],\n",
    "                    \"iscrowd\": ann.get(\"iscrowd\", 0)\n",
    "                })"
   ]
  },
  {
   "cell_type": "code",
   "execution_count": null,
   "metadata": {},
   "outputs": [],
   "source": [
    "# Assuming `annotations` is your list of bounding boxes\n",
    "for annotation in annotations:\n",
    "    original_bbox = annotation['bbox']\n",
    "    x_min, y_min, width, height = original_bbox\n",
    "    x_max, y_max = x_min + width, y_min + height\n",
    "\n",
    "    # Check if the bounding box intersects with the current slice\n",
    "    slice_x_min, slice_y_min = offset  # Offset of current slice\n",
    "    slice_x_max, slice_y_max = slice_x_min + slice_size, slice_y_min + slice_size\n",
    "\n",
    "    intersects = not (x_max < slice_x_min or x_min > slice_x_max or y_max < slice_y_min or y_min > slice_y_max)\n",
    "    \n",
    "    if intersects:\n",
    "        print(f\"Original bbox: {original_bbox}\")\n",
    "        print(f\"Slice boundaries: x_min={slice_x_min}, y_min={slice_y_min}, x_max={slice_x_max}, y_max={slice_y_max}\")\n",
    "        \n",
    "        # Adjust bounding box relative to the slice\n",
    "        adj_x_min = max(x_min - slice_x_min, 0)\n",
    "        adj_y_min = max(y_min - slice_y_min, 0)\n",
    "        adj_x_max = min(x_max - slice_x_min, slice_size)\n",
    "        adj_y_max = min(y_max - slice_y_min, slice_size)\n",
    "        \n",
    "        adjusted_bbox = [adj_x_min, adj_y_min, adj_x_max - adj_x_min, adj_y_max - adj_y_min]\n",
    "        print(f\"Adjusted bbox: {adjusted_bbox}\")\n"
   ]
  },
  {
   "cell_type": "code",
   "execution_count": 84,
   "metadata": {},
   "outputs": [
    {
     "name": "stdout",
     "output_type": "stream",
     "text": [
      "Adjusted annotations saaved to ../data/adjusted_annotations.json\n"
     ]
    }
   ],
   "source": [
    "# Save the adjusted annotations to a new JSON file\n",
    "adjusted_annotations_path = \"../data/adjusted_annotations.json\"\n",
    "with open(adjusted_annotations_path, \"w\") as f:\n",
    "    json.dump(adjusted_annotations, f, indent=4)\n",
    "\n",
    "print(f\"Adjusted annotations saaved to {adjusted_annotations_path}\")\n"
   ]
  },
  {
   "cell_type": "code",
   "execution_count": null,
   "metadata": {},
   "outputs": [
    {
     "ename": "FileNotFoundError",
     "evalue": "[Errno 2] No such file or directory: 'E:\\\\GitHub Repos\\\\mitl_detect_inspection\\\\preprocessing\\\\path_to_your_slice_image.png'",
     "output_type": "error",
     "traceback": [
      "\u001b[1;31m---------------------------------------------------------------------------\u001b[0m",
      "\u001b[1;31mFileNotFoundError\u001b[0m                         Traceback (most recent call last)",
      "Cell \u001b[1;32mIn[85], line 31\u001b[0m\n\u001b[0;32m     24\u001b[0m adjusted_bboxes \u001b[38;5;241m=\u001b[39m [\n\u001b[0;32m     25\u001b[0m     \u001b[38;5;66;03m# Replace this with your adjusted bounding box data for the slice\u001b[39;00m\n\u001b[0;32m     26\u001b[0m     [\u001b[38;5;241m100\u001b[39m, \u001b[38;5;241m120\u001b[39m, \u001b[38;5;241m30\u001b[39m, \u001b[38;5;241m40\u001b[39m],  \u001b[38;5;66;03m# Example bounding box\u001b[39;00m\n\u001b[0;32m     27\u001b[0m     \u001b[38;5;66;03m# Add other bounding boxes here\u001b[39;00m\n\u001b[0;32m     28\u001b[0m ]\n\u001b[0;32m     30\u001b[0m \u001b[38;5;66;03m# Visualize the slice with bounding boxes\u001b[39;00m\n\u001b[1;32m---> 31\u001b[0m \u001b[43mvisualize_slice_with_boxes\u001b[49m\u001b[43m(\u001b[49m\u001b[43mslice_path\u001b[49m\u001b[43m,\u001b[49m\u001b[43m \u001b[49m\u001b[43madjusted_bboxes\u001b[49m\u001b[43m,\u001b[49m\u001b[43m \u001b[49m\u001b[43mslice_size\u001b[49m\u001b[38;5;241;43m=\u001b[39;49m\u001b[38;5;241;43m640\u001b[39;49m\u001b[43m)\u001b[49m  \u001b[38;5;66;03m# Adjust slice_size as needed\u001b[39;00m\n",
      "Cell \u001b[1;32mIn[85], line 7\u001b[0m, in \u001b[0;36mvisualize_slice_with_boxes\u001b[1;34m(slice_image_path, adjusted_bboxes, slice_size)\u001b[0m\n\u001b[0;32m      5\u001b[0m \u001b[38;5;28;01mdef\u001b[39;00m \u001b[38;5;21mvisualize_slice_with_boxes\u001b[39m(slice_image_path, adjusted_bboxes, slice_size):\n\u001b[0;32m      6\u001b[0m     \u001b[38;5;66;03m# Load the image slice\u001b[39;00m\n\u001b[1;32m----> 7\u001b[0m     image \u001b[38;5;241m=\u001b[39m \u001b[43mImage\u001b[49m\u001b[38;5;241;43m.\u001b[39;49m\u001b[43mopen\u001b[49m\u001b[43m(\u001b[49m\u001b[43mslice_image_path\u001b[49m\u001b[43m)\u001b[49m\u001b[38;5;241m.\u001b[39mconvert(\u001b[38;5;124m\"\u001b[39m\u001b[38;5;124mRGB\u001b[39m\u001b[38;5;124m\"\u001b[39m)\n\u001b[0;32m      8\u001b[0m     draw \u001b[38;5;241m=\u001b[39m ImageDraw\u001b[38;5;241m.\u001b[39mDraw(image)\n\u001b[0;32m     10\u001b[0m     \u001b[38;5;66;03m# Draw each adjusted bounding box on the slice\u001b[39;00m\n",
      "File \u001b[1;32me:\\GitHub Repos\\mitl_detect_inspection\\.venv\\Lib\\site-packages\\PIL\\Image.py:3469\u001b[0m, in \u001b[0;36mopen\u001b[1;34m(fp, mode, formats)\u001b[0m\n\u001b[0;32m   3466\u001b[0m     filename \u001b[38;5;241m=\u001b[39m os\u001b[38;5;241m.\u001b[39mpath\u001b[38;5;241m.\u001b[39mrealpath(os\u001b[38;5;241m.\u001b[39mfspath(fp))\n\u001b[0;32m   3468\u001b[0m \u001b[38;5;28;01mif\u001b[39;00m filename:\n\u001b[1;32m-> 3469\u001b[0m     fp \u001b[38;5;241m=\u001b[39m builtins\u001b[38;5;241m.\u001b[39mopen(filename, \u001b[38;5;124m\"\u001b[39m\u001b[38;5;124mrb\u001b[39m\u001b[38;5;124m\"\u001b[39m)\n\u001b[0;32m   3470\u001b[0m     exclusive_fp \u001b[38;5;241m=\u001b[39m \u001b[38;5;28;01mTrue\u001b[39;00m\n\u001b[0;32m   3471\u001b[0m \u001b[38;5;28;01melse\u001b[39;00m:\n",
      "\u001b[1;31mFileNotFoundError\u001b[0m: [Errno 2] No such file or directory: 'E:\\\\GitHub Repos\\\\mitl_detect_inspection\\\\preprocessing\\\\path_to_your_slice_image.png'"
     ]
    }
   ],
   "source": [
    "import matplotlib.pyplot as plt\n",
    "from PIL import Image, ImageDraw\n",
    "\n",
    "# Function to visualize a slice with its adjusted bounding boxes\n",
    "def visualize_slice_with_boxes(slice_image_path, adjusted_bboxes, slice_size):\n",
    "    # Load the image slice\n",
    "    image = Image.open(slice_image_path).convert(\"RGB\")\n",
    "    draw = ImageDraw.Draw(image)\n",
    "\n",
    "    # Draw each adjusted bounding box on the slice\n",
    "    for bbox in adjusted_bboxes:\n",
    "        x_min, y_min, width, height = bbox\n",
    "        x_max, y_max = x_min + width, y_min + height\n",
    "        draw.rectangle([x_min, y_min, x_max, y_max], outline=\"red\", width=2)\n",
    "\n",
    "    # Display the image with bounding boxes\n",
    "    plt.figure(figsize=(8, 8))\n",
    "    plt.imshow(image)\n",
    "    plt.axis(\"on\")\n",
    "    plt.show()\n",
    "\n",
    "# Example usage with your bounding box data and a specific slice path\n",
    "slice_path = \"..\\data\\images_sliced.png\"  # Replace with your actual slice image path\n",
    "adjusted_bboxes = [\n",
    "    # Replace this with your adjusted bounding box data for the slice\n",
    "    [100, 120, 30, 40],  # Example bounding box\n",
    "    # Add other bounding boxes here\n",
    "]\n",
    "\n",
    "# Visualize the slice with bounding boxes\n",
    "visualize_slice_with_boxes(slice_path, adjusted_bboxes, slice_size=640)  # Adjust slice_size as needed\n"
   ]
  }
 ],
 "metadata": {
  "kernelspec": {
   "display_name": ".venv",
   "language": "python",
   "name": "python3"
  },
  "language_info": {
   "codemirror_mode": {
    "name": "ipython",
    "version": 3
   },
   "file_extension": ".py",
   "mimetype": "text/x-python",
   "name": "python",
   "nbconvert_exporter": "python",
   "pygments_lexer": "ipython3",
   "version": "3.11.9"
  }
 },
 "nbformat": 4,
 "nbformat_minor": 2
}
